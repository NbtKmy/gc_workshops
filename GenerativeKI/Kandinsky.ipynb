{
  "nbformat": 4,
  "nbformat_minor": 0,
  "metadata": {
    "colab": {
      "provenance": [],
      "authorship_tag": "ABX9TyNG77xMZMa/1Ljmv0SJ8Umz",
      "include_colab_link": true
    },
    "kernelspec": {
      "name": "python3",
      "display_name": "Python 3"
    },
    "language_info": {
      "name": "python"
    },
    "accelerator": "GPU",
    "gpuClass": "standard"
  },
  "cells": [
    {
      "cell_type": "markdown",
      "metadata": {
        "id": "view-in-github",
        "colab_type": "text"
      },
      "source": [
        "<a href=\"https://colab.research.google.com/github/NbtKmy/gc_workshops/blob/main/Kandinsky.ipynb\" target=\"_parent\"><img src=\"https://colab.research.google.com/assets/colab-badge.svg\" alt=\"Open In Colab\"/></a>"
      ]
    },
    {
      "cell_type": "code",
      "execution_count": null,
      "metadata": {
        "id": "AZrhDG7GwV2L"
      },
      "outputs": [],
      "source": [
        "!pip install 'git+https://github.com/ai-forever/Kandinsky-2.git'"
      ]
    },
    {
      "cell_type": "code",
      "source": [
        "!pip install git+https://github.com/openai/CLIP.git"
      ],
      "metadata": {
        "id": "2L0vFEkcwxt4"
      },
      "execution_count": null,
      "outputs": []
    },
    {
      "cell_type": "code",
      "source": [
        "from kandinsky2 import get_kandinsky2\n",
        "\n",
        "model = get_kandinsky2('cuda', task_type='text2img', cache_dir='/tmp/kandinsky2', model_version='2.1', use_flash_attention=False)\n",
        "\n",
        "images = model.generate_text2img(\"Dark elf in woods, high quality, oil painting\", num_steps=100,\n",
        "                          batch_size=1, guidance_scale=4,\n",
        "                           h=768, w=768\n",
        "                           ,sampler='p_sampler', prior_cf_scale=4,\n",
        "                            prior_steps=\"5\",)\n",
        "images[0]"
      ],
      "metadata": {
        "id": "WSl9Nwltw6Rw"
      },
      "execution_count": null,
      "outputs": []
    },
    {
      "cell_type": "markdown",
      "source": [
        "## 参考文献\n",
        "\n",
        "Kandinsky 2.1\n",
        "https://github.com/ai-forever/Kandinsky-2\n",
        "\n",
        "ロシアから来た新しい画像生成AIモデルKandinsky 2.1のGoogle Colabノートの公開\n",
        "https://note.com/it_navi/n/n8650ecd28730\n"
      ],
      "metadata": {
        "id": "WD2L8xkEyfMw"
      }
    }
  ]
}