{
  "cells": [
    {
      "attachments": {},
      "cell_type": "markdown",
      "metadata": {
        "colab_type": "text",
        "id": "view-in-github"
      },
      "source": [
        "<a href=\"https://colab.research.google.com/github/NbtKmy/gc_workshops/blob/main/Kandinsky.ipynb\" target=\"_parent\"><img src=\"https://colab.research.google.com/assets/colab-badge.svg\" alt=\"Open In Colab\"/></a>"
      ]
    },
    {
      "attachments": {},
      "cell_type": "markdown",
      "metadata": {},
      "source": [
        "# Kandinsky\n",
        "\n",
        "[Kandinsky](https://www.sberbank.com/promo/kandinsky/en) ist ein Generatives KI, mit dem man die Bilder generieren kann. \n",
        "Anders als Stable Diffusion kann Kandinsky angeblich 101 Sprachen in Prompt verstehen. \n",
        "\n",
        "Sberbank, die grösste Finanzinstitution Russlands, ist der Entwickler dieses KIs. \n",
        "Auf der Homepage von Kandinsky kann man Bilder auf dem Browser erstellen. \n",
        "\n",
        "Das KI-Model ist auch in Github unter Apache-2.0-Lizenz als ein Open-Source-KI publiziert.\n",
        "Die neueste Version ist 2.1 (Nov. 2022).\n"
      ]
    },
    {
      "cell_type": "code",
      "execution_count": null,
      "metadata": {
        "id": "AZrhDG7GwV2L"
      },
      "outputs": [],
      "source": [
        "!pip install 'git+https://github.com/ai-forever/Kandinsky-2.git'"
      ]
    },
    {
      "cell_type": "code",
      "execution_count": null,
      "metadata": {
        "id": "2L0vFEkcwxt4"
      },
      "outputs": [],
      "source": [
        "!pip install git+https://github.com/openai/CLIP.git"
      ]
    },
    {
      "cell_type": "code",
      "execution_count": null,
      "metadata": {
        "id": "WSl9Nwltw6Rw"
      },
      "outputs": [],
      "source": [
        "from kandinsky2 import get_kandinsky2\n",
        "\n",
        "model = get_kandinsky2('cuda', task_type='text2img', cache_dir='/tmp/kandinsky2', model_version='2.1', use_flash_attention=False)\n",
        "\n",
        "images = model.generate_text2img(\"Dark elf in woods, high quality, oil painting\", num_steps=100,\n",
        "                          batch_size=1, guidance_scale=4,\n",
        "                           h=768, w=768\n",
        "                           ,sampler='p_sampler', prior_cf_scale=4,\n",
        "                            prior_steps=\"5\",)\n",
        "images[0]"
      ]
    },
    {
      "attachments": {},
      "cell_type": "markdown",
      "metadata": {
        "id": "WD2L8xkEyfMw"
      },
      "source": [
        "## Referenz\n",
        "\n",
        "Kandinsky 2.1\n",
        "https://github.com/ai-forever/Kandinsky-2\n",
        "\n",
        "ロシアから来た新しい画像生成AIモデルKandinsky 2.1のGoogle Colabノートの公開\n",
        "https://note.com/it_navi/n/n8650ecd28730\n"
      ]
    }
  ],
  "metadata": {
    "accelerator": "GPU",
    "colab": {
      "authorship_tag": "ABX9TyNG77xMZMa/1Ljmv0SJ8Umz",
      "include_colab_link": true,
      "provenance": []
    },
    "gpuClass": "standard",
    "kernelspec": {
      "display_name": "Python 3",
      "name": "python3"
    },
    "language_info": {
      "name": "python"
    }
  },
  "nbformat": 4,
  "nbformat_minor": 0
}
