{
  "nbformat": 4,
  "nbformat_minor": 0,
  "metadata": {
    "colab": {
      "provenance": [],
      "toc_visible": true,
      "authorship_tag": "ABX9TyOC7ghx6PLtQ3LZI/FSbaLa",
      "include_colab_link": true
    },
    "kernelspec": {
      "name": "python3",
      "display_name": "Python 3"
    },
    "language_info": {
      "name": "python"
    }
  },
  "cells": [
    {
      "cell_type": "markdown",
      "metadata": {
        "id": "view-in-github",
        "colab_type": "text"
      },
      "source": [
        "<a href=\"https://colab.research.google.com/github/NbtKmy/gc_workshops/blob/main/Folium_start.ipynb\" target=\"_parent\"><img src=\"https://colab.research.google.com/assets/colab-badge.svg\" alt=\"Open In Colab\"/></a>"
      ]
    },
    {
      "cell_type": "markdown",
      "source": [
        "# Folium\n",
        "\n",
        "Folium ermöglicht LeafletJS, die Library für die Programmmiersprache JavaScript, im Python zu verwenden.\n",
        "\n",
        "Dadurch kann man interaktive Karten-Darstellung mit Python sehr leicht realisieren und das Ergebnis als HTML-Format speichern.\n",
        "\n",
        "Das offizielle Dokumentation von Folium ist [hier](https://python-visualization.github.io/folium/index.html) zu finden."
      ],
      "metadata": {
        "id": "_0o-JtFtZYwP"
      }
    },
    {
      "cell_type": "markdown",
      "source": [
        "## Installation\n",
        "\n"
      ],
      "metadata": {
        "id": "lnrO0lbXbUFe"
      }
    },
    {
      "cell_type": "code",
      "source": [
        "# Folium ist in Gooble Colaboratory bereits installiert:\n",
        "!pip list | grep folium"
      ],
      "metadata": {
        "colab": {
          "base_uri": "https://localhost:8080/"
        },
        "id": "hQ66Pf1UabJa",
        "outputId": "421dc11f-dcdd-4d31-fd0a-9101d0fa1faf"
      },
      "execution_count": null,
      "outputs": [
        {
          "output_type": "stream",
          "name": "stdout",
          "text": [
            "folium                           0.14.0\n"
          ]
        }
      ]
    },
    {
      "cell_type": "code",
      "execution_count": null,
      "metadata": {
        "id": "xlpwhT_f8q2F"
      },
      "outputs": [],
      "source": [
        "# Wenn man sichergehen möchte, die neueste Version von Folium zu installieren,\n",
        "# kann man den Befehl \"pip install\" mit der Option \"-U\" (Upgrade) ausführen:\n",
        "!pip install -U folium"
      ]
    },
    {
      "cell_type": "markdown",
      "source": [
        "## Einfache Anwendung\n",
        "\n",
        "Um eine schlichte, interaktive Karte zu erstellen, braucht man nur 3 Zeile!  "
      ],
      "metadata": {
        "id": "-qmFGfGabeNx"
      }
    },
    {
      "cell_type": "code",
      "source": [
        "import folium\n",
        "map = folium.Map(location=[47.36635101042978, 8.541361139590903], zoom_start=13)\n",
        "map\n",
        ""
      ],
      "metadata": {
        "id": "JZ1yGikxcLwb"
      },
      "execution_count": null,
      "outputs": []
    },
    {
      "cell_type": "markdown",
      "source": [
        "**Frage**: Welche Stadt sieht man auf der Karte? Wie kann man eine andere Stadt anzeigen?"
      ],
      "metadata": {
        "id": "vrKkAyVDyqp9"
      }
    },
    {
      "cell_type": "code",
      "source": [
        "# Um die Karte als HTML-Dokument zu speichern:\n",
        "map.save(\"index.html\")"
      ],
      "metadata": {
        "id": "B4yBaEs7eMpW"
      },
      "execution_count": null,
      "outputs": []
    },
    {
      "cell_type": "markdown",
      "source": [
        "## Koordinatenrefenrezsystem\n",
        "\n",
        "Folium hat \"WGS 84 / Pseudo-Mercator\" (EPSG:3857) als Default-Projektion- und Koordinatenreferenzsystem. Das System ist auch als \"Web Mercator Projection\" bezeichnet und für unterschiedliche Web-Karten-Applikationen, wie Google Maps, entgesetzt.\n",
        "\n",
        "\n",
        "\n"
      ],
      "metadata": {
        "id": "enZ5aSXD0JDU"
      }
    },
    {
      "cell_type": "markdown",
      "source": [
        "## Unterschiedliche Kartendarstellung\n",
        "\n",
        "Folium bietet unterschiedliche Tilesets wie OpenStreetMap, Mapbox, and Stamen an. OpenStreetMap (OSM) wird als default eingestellt. Um das Tileset zu wechseln, reicht das Parameter \"tiles\" in der Methode \"Map\" hinzufügen:\n",
        "\n",
        "```python\n",
        " folium.Map(\n",
        "    location=[47.37174, 8.54226],\n",
        "    zoom_start=12,\n",
        "    tiles=[tile_name]\n",
        ")\n",
        "```\n",
        "\n",
        "Für Parameter \"tiles\" kann man folgende Tilesets als **String** eingeben:\n",
        "\n",
        "- Stamen Toner\n",
        "- Stamen Terrain\n",
        "- Stamen Watercolor\n",
        "- cartodbpositron\n",
        "- cartodbdark_matter"
      ],
      "metadata": {
        "id": "MwAMU_-lee0Z"
      }
    },
    {
      "cell_type": "code",
      "source": [
        "import folium\n",
        "\n",
        "\"\"\"\n",
        "Map-Funktion kann weitere Variabel nehmen. Beim ersten Beispiel haben wir kein Variabel für Tile genommen,\n",
        "so dass die Default-Karte, Open Street Map, verwendet wurde. Im folgenden Beispiel testen wir andere Karten.\n",
        "Laut des Folium-Dokumentation gibt es 6 build-in Tile, Open Street Map, 3 von Stamen, 2 von Carto DB.\n",
        "Ausser der build-in Tile kann man auch andere Tile einbinden\n",
        "\"\"\"\n",
        "\n",
        "# tile_name = \"Stamen Toner\"\n",
        "# tile_name = \"Stamen Terrain\"\n",
        "tile_name = \"Stamen Watercolor\"\n",
        "# tile_name = \"cartodbpositron\"\n",
        "# tile_name = \"cartodbdark_matter\"\n",
        "\n",
        "\n",
        "testmap1 = folium.Map(\n",
        "    location=[47.37174, 8.54226],\n",
        "    zoom_start=12,\n",
        "    tiles=tile_name\n",
        ")\n",
        "\n",
        "\n",
        "testmap1"
      ],
      "metadata": {
        "id": "4MKbbCxxx23Q"
      },
      "execution_count": null,
      "outputs": []
    },
    {
      "cell_type": "markdown",
      "source": [
        "### Schweizer Karte von Swisstopo\n",
        "\n",
        "Bundesamt für Landestopografie, kurz [Swisstopo](https://www.swisstopo.admin.ch/) bietet diverse Geoinformation/Daten zur Schweiz. Viele Geodaten werdenn über die Geodienste der Bundesgeodateninfrastruktur ([BGDI](https://www.swisstopo.admin.ch/de/geodata/geoservices/bgdi-services.html)) kostenlos fürs Publikum bereitgestellt.\n",
        "\n",
        "Hier wollen wir die von swisstopo hergestellte Schweizer Karte anzeigen.\n",
        "([GeoAdmin API v3.1.0](https://api3.geo.admin.ch/services/sdiservices.html#xyz))\n",
        "\n",
        "Die Daten sind nach [diesen Nutzungsbedigungen](https://www.geo.admin.ch/de/allgemeine-nutzungsbedingungen-bgdi/) angeboten.\n"
      ],
      "metadata": {
        "id": "30Br62Ar7-j6"
      }
    },
    {
      "cell_type": "code",
      "source": [
        "import folium\n",
        "\n",
        "map_swiss = folium.Map(\n",
        "    location=[47.36635101042978, 8.541361139590903],\n",
        "    zoom_start=13,\n",
        "    attr=\"© <a href='https://www.swisstopo.admin.ch/'>swisstopo</a>\",\n",
        "    control_scale=True,\n",
        "    tiles=\"https://wmts.geo.admin.ch/1.0.0/ch.swisstopo.swissimage/default/current/3857/{z}/{x}/{y}.jpeg\"\n",
        ")\n",
        "map_swiss\n"
      ],
      "metadata": {
        "id": "7ZD5eo1f4Z4X"
      },
      "execution_count": null,
      "outputs": []
    },
    {
      "cell_type": "markdown",
      "source": [
        "### Andere Karten\n",
        "\n",
        "Es gibt unterschiedliche Institutionen, die die Web-Karten-Bilder anbieten. Unten findet man eine Japan-Karte, die von Geographical Survey Institute Japans hergestellt ist."
      ],
      "metadata": {
        "id": "L-Erdark4yE9"
      }
    },
    {
      "cell_type": "code",
      "source": [
        "import folium\n",
        "map_jp = folium.Map(\n",
        "    location = [35.6804, 139.7670],\n",
        "    zoom_start = 15,\n",
        "    tiles = \"https://cyberjapandata.gsi.go.jp/xyz/std/{z}/{x}/{y}.png\",\n",
        "    attr = \"地理院地図\"\n",
        "    )\n",
        "\n",
        "map_jp"
      ],
      "metadata": {
        "id": "E1UnExcR5h-Q"
      },
      "execution_count": null,
      "outputs": []
    },
    {
      "cell_type": "markdown",
      "source": [
        "## Markers, Linien, Kreise und Polygons\n",
        "\n",
        "Auf der Karte kann man Markers und diverse geometrische Zeichnungen (Linien, Kreise, Polygons) zeichnen..."
      ],
      "metadata": {
        "id": "vMsb5uoh54lU"
      }
    },
    {
      "cell_type": "markdown",
      "source": [
        "### Markers setzen"
      ],
      "metadata": {
        "id": "qKh6oroizTKd"
      }
    },
    {
      "cell_type": "code",
      "source": [
        "import folium\n",
        "\n",
        "tile_name = \"cartodbdark_matter\"\n",
        "\n",
        "\n",
        "testmap2 = folium.Map(\n",
        "    location=[47.37174, 8.54226],\n",
        "    zoom_start=12,\n",
        "    tiles=tile_name\n",
        ")\n",
        "\n",
        "# Einen Marker setzen ist einfach!\n",
        "folium.Marker(location=[47.37486232317191, 8.54962526137965], popup=\"Wir sind hier!\").add_to(testmap2)\n",
        "\n",
        "testmap2\n"
      ],
      "metadata": {
        "id": "957I-M1xyGkq"
      },
      "execution_count": null,
      "outputs": []
    },
    {
      "cell_type": "code",
      "source": [
        "# Markers mehrfach einsetzen - Hier verwenden wir \"Listenobjekt\"\n",
        "\n",
        "import folium\n",
        "\n",
        "tile_name = \"cartodbdark_matter\"\n",
        "\n",
        "\n",
        "testmap3 = folium.Map(\n",
        "    location=[47.37174, 8.54226],\n",
        "    zoom_start=12,\n",
        "    tiles=tile_name\n",
        ")\n",
        "# Marker mehrfach setzen mit List\n",
        "locations_list = [[47.37486232317191, 8.54962526137965], [47.375476501341474, 8.549059884655087], [47.3985062860168, 8.548098807930526], [47.376113981372264, 8.553295484655086]]\n",
        "for loc in locations_list:\n",
        "    folium.Marker(location=loc, popup='Wir sind hier!').add_to(testmap3)\n",
        "\n",
        "\n",
        "testmap3"
      ],
      "metadata": {
        "id": "mMkg33WDzLgi"
      },
      "execution_count": null,
      "outputs": []
    },
    {
      "cell_type": "markdown",
      "source": [
        "#### Marker setzen mit Dictionary\n",
        "\n",
        "[Dictionary](https://www.w3schools.com/python/python_dictionaries.asp) bei Python sieht so aus:\n",
        "\n",
        "```\n",
        "{\n",
        "  \"key1\": \"Str_Value1\",\n",
        "  \"key2\": \"Str_Value2\",\n",
        "  \"key3\": 2090\n",
        "}\n",
        "```"
      ],
      "metadata": {
        "id": "d9Iz6nsh0FYM"
      }
    },
    {
      "cell_type": "code",
      "source": [
        "import folium\n",
        "\n",
        "tile_name = \"cartodbdark_matter\"\n",
        "\n",
        "\n",
        "testmap4 = folium.Map(\n",
        "    location=[47.37174, 8.54226],\n",
        "    zoom_start=12,\n",
        "    tiles=tile_name\n",
        ")\n",
        "# Marker mehrfach setzen mit Dictionary\n",
        "locations_dict = { \"DLS\":[47.37486232317191, 8.54962526137965], \"Hauptgebäude\":[47.375476501341474, 8.549059884655087], \"Irchel\":[47.3985062860168, 8.548098807930526], \"UB Medizin Careum\":[47.376113981372264, 8.553295484655086] }\n",
        "for ortsname, loc in locations_dict.items():\n",
        "    folium.Marker(location=loc, popup=ortsname).add_to(testmap4)\n",
        "\n",
        "\n",
        "testmap4"
      ],
      "metadata": {
        "id": "zdX5GetWzjIt"
      },
      "execution_count": null,
      "outputs": []
    },
    {
      "cell_type": "code",
      "source": [
        "import folium\n",
        "\n",
        "tile_name = \"cartodbdark_matter\"\n",
        "\n",
        "\n",
        "testmap5 = folium.Map(\n",
        "    location=[47.37174, 8.54226],\n",
        "    zoom_start=12,\n",
        "    tiles=tile_name\n",
        ")\n",
        "# Marker mehrfach setzen mit Dictionary\n",
        "locations_dict = { \"DLS\":[47.37486232317191, 8.54962526137965], \"Hauptgebäude\":[47.375476501341474, 8.549059884655087], \"Irchel\":[47.3985062860168, 8.548098807930526], \"UB Medizin Careum\":[47.376113981372264, 8.553295484655086] }\n",
        "\n",
        "# Durch \"FeatureGruup\"-Funktion kann man mehrere Markers als eine Gruppe behandeln\n",
        "ub_markers = folium.FeatureGroup(name=\"UB\")\n",
        "for ortsname, loc in locations_dict.items():\n",
        "    # Die Markers jetzt zu der FeatureGroup hinzufügen\n",
        "    folium.Marker(location=loc, popup=ortsname).add_to(ub_markers)\n",
        "\n",
        "ub_markers.add_to(testmap5)\n",
        "folium.LayerControl().add_to(testmap5)\n",
        "\n",
        "testmap5"
      ],
      "metadata": {
        "id": "3Gz6Qu3L3a9R"
      },
      "execution_count": null,
      "outputs": []
    },
    {
      "cell_type": "markdown",
      "source": [
        "### Linien, Kreise und Polygons\n",
        "\n"
      ],
      "metadata": {
        "id": "IKPvcO-L5bKc"
      }
    },
    {
      "cell_type": "code",
      "source": [
        "import folium\n",
        "\n",
        "tile_name = \"cartodbdark_matter\"\n",
        "\n",
        "\n",
        "testmap6 = folium.Map(\n",
        "    location=[47.37174, 8.54226],\n",
        "    zoom_start=12,\n",
        "    tiles=tile_name\n",
        ")\n",
        "\n",
        "# Kreis\n",
        "folium.Circle(\n",
        "    radius=5000,\n",
        "    location=[47.37174, 8.54226],\n",
        "    color=\"blue\",\n",
        "    fill=True\n",
        ").add_to(testmap6)\n",
        "\n",
        "# Linie gerade aus...\n",
        "linie_bsp = [[47.404215947141964, 8.59158264779598], [47.37471684176948, 8.548599778991036]]\n",
        "folium.PolyLine(\n",
        "    linie_bsp,\n",
        "    popup=\"Weg zur Arbeit\"\n",
        ").add_to(testmap6)\n",
        "\n",
        "# Mehrere Linie als Einheit\n",
        "linie_bsp = [[47.404215947141964, 8.59158264779598], [47.385642818891384, 8.548451287018116], [47.39649057110805, 8.542869645817232], [47.404410657939756, 8.560182939350959], [47.37471684176948, 8.548599778991036]]\n",
        "folium.PolyLine(\n",
        "    linie_bsp,\n",
        "    popup=\"Umweg zur Arbeit\"\n",
        ").add_to(testmap6)\n",
        "\n",
        "# Polygon funktioniert ähnlich wie bei Polyline\n",
        "polygon_bsp = [[47.36574117267515, 8.537334872207394], [47.36350568448679, 8.536134712157098], [47.34532581802968, 8.53627925621361], [47.329039348622274, 8.54760890704802], [47.267566082962354, 8.584605297291743], [47.202169596671595, 8.715942183196377], [47.20198816814367, 8.801307425945085], [47.22437629810949, 8.94687627302962], [47.219712883777134, 8.875465140497584], [47.22717414980963, 8.81641362705763], [47.240228838529276, 8.799934134934853], [47.23929646741391, 8.725776420382351], [47.268192342675924, 8.647498832799156], [47.36574117267515, 8.537334872207394]]\n",
        "folium.Polygon(\n",
        "    polygon_bsp,\n",
        "    popup=\"polygon\"\n",
        ").add_to(testmap6)\n",
        "\n",
        "testmap6"
      ],
      "metadata": {
        "id": "Qf59NL157umG"
      },
      "execution_count": null,
      "outputs": []
    },
    {
      "cell_type": "markdown",
      "source": [
        "## Raster- und Vektorgrafiken\n",
        "\n",
        "Sie sind beide Bilddateinen. Rasterbild besteht aus gewisse Anzahl der Pixels, die auf einem Gitternetz angeordnet sind. Bekannte Formate für Rastergrafik sind jpg oder png.\n",
        "\n",
        "Vektorgrafik wird nicht mit Punkten auf einem Raster, sondern durch geometrischen bzw. mathekatischen Parametern erzeugt. svg ist eine bekannte Format der Vektorgrafik.\n",
        "\n",
        "Der Unterschied von den beiden ist vor allem die Skalierbarkeit der Grafik. Während ein Rasterbild durch Vergrösserung irgendwann verschwommen wird, bleibt ein Vektorbild immer scharf, weil das Bild bei Änderung der Grösse immer wieder noch berechnet und gezeichnet wird.\n",
        "\n",
        "Die Linien, Kreise und Polygons, die wir auf einer Folium-Karte zeichnen, sind Vektorgrafiken."
      ],
      "metadata": {
        "id": "nwwlhOJgD7rC"
      }
    },
    {
      "cell_type": "markdown",
      "source": [
        "# Nutzung der API und Daten\n",
        "\n",
        "Es sind zahlreiche APIs und Daten online publiziert. Hier schauen wir API-Angebote in der Schweiz:\n",
        "- [GeoAdmin API](https://api3.geo.admin.ch/index.html) : Bundes Geodaten-Infrastruktur BGDI\n",
        "\n",
        "[Hier](https://wmts.geo.admin.ch/EPSG/3857/1.0.0/WMTSCapabilities.xml?lang=de) findet man die Auflistung der anwendbaren Rastertiles.\n",
        "\n",
        "\n",
        "\n",
        "Unten zeigen wir Kulturgüter Inventar Schweiz.\n",
        "> Als Kulturgüter von nationaler Bedeutung im Inventar von 2021 gelten rund 3400 Objekte (Einzelbauten / Sammlungen in Museeen, Archiven und Bibliotheken sowie Archäologie).\n",
        "\n",
        "\n"
      ],
      "metadata": {
        "id": "N-Me8gI4kzFY"
      }
    },
    {
      "cell_type": "code",
      "source": [
        "import folium\n",
        "from folium.plugins import FloatImage\n",
        "\n",
        "map1 = folium.Map(location=[47.36635101042978, 8.541361139590903], zoom_start=13)\n",
        "\n",
        "folium.raster_layers.TileLayer(tiles=\"https://wmts.geo.admin.ch/1.0.0/ch.babs.kulturgueter/default/current/3857/{z}/{x}/{y}.png\",\n",
        "                                  fmt=\"image/png\",\n",
        "                                  attr=\"KGS Inventar\",\n",
        "                                  overlay=True,\n",
        "                                  show=True,\n",
        "                                  ).add_to(map1)\n",
        "\n",
        "\n",
        "# Legende (png-Image) auf die Karte hinzufügen\n",
        "FloatImage(\"https://api3.geo.admin.ch/static/images/legends/ch.babs.kulturgueter_de.png\", bottom=85, left=85).add_to(map1)\n",
        "map1"
      ],
      "metadata": {
        "id": "cNwcykLHmPeY"
      },
      "execution_count": null,
      "outputs": []
    },
    {
      "cell_type": "markdown",
      "source": [
        "## Verschiedene Layers und Layer-Controll\n"
      ],
      "metadata": {
        "id": "M7gsQfODJbe0"
      }
    },
    {
      "cell_type": "code",
      "source": [
        "import folium\n",
        "\n",
        "map2 = folium.Map(location=[47.36635101042978, 8.541361139590903], zoom_start=13)\n",
        "\n",
        "folium.raster_layers.TileLayer(tiles=\"https://wmts.geo.admin.ch/1.0.0/ch.swisstopo.zeitreihen/default/19051231/3857/{z}/{x}/{y}.png\",\n",
        "                                  fmt=\"image/png\",\n",
        "                                  attr=\"swisstopo - 'Zeitreise, Kartenwerke'\",\n",
        "                                  name=\"Karte 1905\",\n",
        "                                  overlay=True,\n",
        "                                  show=True,\n",
        "                                  ).add_to(map2)\n",
        "folium.raster_layers.TileLayer(tiles=\"https://wmts.geo.admin.ch/1.0.0/ch.swisstopo.zeitreihen/default/19251231/3857/{z}/{x}/{y}.png\",\n",
        "                                  fmt=\"image/png\",\n",
        "                                  attr=\"swisstopo - 'Zeitreise, Kartenwerke'\",\n",
        "                                  name=\"Karte 1925\",\n",
        "                                  overlay=True,\n",
        "                                  show=False,\n",
        "                                  ).add_to(map2)\n",
        "\n",
        "folium.LayerControl().add_to(map2)\n",
        "\n",
        "map2\n"
      ],
      "metadata": {
        "id": "RjVXCNRUDNJp"
      },
      "execution_count": null,
      "outputs": []
    },
    {
      "cell_type": "markdown",
      "source": [
        "## Plugins\n",
        "\n",
        "\n",
        "Folium hat viele [Plugins](https://python-visualization.github.io/folium/plugins.html). Hier sehen wir ein Paar davon...\n"
      ],
      "metadata": {
        "id": "QIhVUsdbJsE0"
      }
    },
    {
      "cell_type": "code",
      "source": [
        "# Anthpath\n",
        "# https://python-visualization.github.io/folium/plugins.html#folium.plugins.AntPath\n",
        "import folium\n",
        "import folium.plugins as plugin\n",
        "\n",
        "\n",
        "tile_name = \"cartodbdark_matter\"\n",
        "\n",
        "\n",
        "m_plugin1 = folium.Map(\n",
        "    location=[47.37174, 8.54226],\n",
        "    zoom_start=12,\n",
        "    tiles=tile_name\n",
        ")\n",
        "\n",
        "\n",
        "# AntPath verlangt ein Listenobjekt aus geometrischen Punkten als das erste Variabel.\n",
        "# Deshalb wird zuerst das Listenobjekt von Geo-punkte von Irchel zum UZH-Hauptgebäude erstellt\n",
        "path = [[47.3985062860168, 8.548098807930526], [47.375476501341474, 8.549059884655087]]\n",
        "Ameisenweg = plugin.AntPath(path, popup=\"von Irchel zum UZH-Hauptgebäude\")\n",
        "Ameisenweg.add_to(m_plugin1)\n",
        "\n",
        "\n",
        "m_plugin1"
      ],
      "metadata": {
        "id": "aaoWBUBqKLaB"
      },
      "execution_count": null,
      "outputs": []
    },
    {
      "cell_type": "markdown",
      "source": [
        "### Quiz\n",
        "\n",
        "Zeichne die Tramlinie zwischen \"Universität Irchel\" und \"ETH Universitätsspital\" mit dem Plugin \"AntPath\" auf der Karte!\n",
        "\n",
        "Wenn möglich, Markers für einzelne Haltestelle setzen!"
      ],
      "metadata": {
        "id": "1idIiVXgLHHq"
      }
    },
    {
      "cell_type": "code",
      "source": [
        "# Minimap\n",
        "# https://python-visualization.github.io/folium/plugins.html#folium.plugins.MiniMap\n",
        "import folium\n",
        "import folium.plugins as plugin\n",
        "\n",
        "\n",
        "tile_name = \"cartodbdark_matter\"\n",
        "\n",
        "\n",
        "m_plugin2 = folium.Map(\n",
        "    location=[47.37174, 8.54226],\n",
        "    zoom_start=12,\n",
        "    tiles=tile_name\n",
        ")\n",
        "\n",
        "plugin.MiniMap().add_to(m_plugin2)\n",
        "\n",
        "m_plugin2"
      ],
      "metadata": {
        "colab": {
          "base_uri": "https://localhost:8080/",
          "height": 402
        },
        "id": "KujD2xMQD1fL",
        "outputId": "c34294fe-2db4-445c-a58c-4fc04cb8f5dd"
      },
      "execution_count": 2,
      "outputs": [
        {
          "output_type": "execute_result",
          "data": {
            "text/plain": [
              "<folium.folium.Map at 0x797052931c90>"
            ],
            "text/html": [
              "<div style=\"width:100%;\"><div style=\"position:relative;width:100%;height:0;padding-bottom:60%;\"><span style=\"color:#565656\">Make this Notebook Trusted to load map: File -> Trust Notebook</span><iframe srcdoc=\"&lt;!DOCTYPE html&gt;\n",
              "&lt;html&gt;\n",
              "&lt;head&gt;\n",
              "    \n",
              "    &lt;meta http-equiv=&quot;content-type&quot; content=&quot;text/html; charset=UTF-8&quot; /&gt;\n",
              "    \n",
              "        &lt;script&gt;\n",
              "            L_NO_TOUCH = false;\n",
              "            L_DISABLE_3D = false;\n",
              "        &lt;/script&gt;\n",
              "    \n",
              "    &lt;style&gt;html, body {width: 100%;height: 100%;margin: 0;padding: 0;}&lt;/style&gt;\n",
              "    &lt;style&gt;#map {position:absolute;top:0;bottom:0;right:0;left:0;}&lt;/style&gt;\n",
              "    &lt;script src=&quot;https://cdn.jsdelivr.net/npm/leaflet@1.9.3/dist/leaflet.js&quot;&gt;&lt;/script&gt;\n",
              "    &lt;script src=&quot;https://code.jquery.com/jquery-1.12.4.min.js&quot;&gt;&lt;/script&gt;\n",
              "    &lt;script src=&quot;https://cdn.jsdelivr.net/npm/bootstrap@5.2.2/dist/js/bootstrap.bundle.min.js&quot;&gt;&lt;/script&gt;\n",
              "    &lt;script src=&quot;https://cdnjs.cloudflare.com/ajax/libs/Leaflet.awesome-markers/2.0.2/leaflet.awesome-markers.js&quot;&gt;&lt;/script&gt;\n",
              "    &lt;link rel=&quot;stylesheet&quot; href=&quot;https://cdn.jsdelivr.net/npm/leaflet@1.9.3/dist/leaflet.css&quot;/&gt;\n",
              "    &lt;link rel=&quot;stylesheet&quot; href=&quot;https://cdn.jsdelivr.net/npm/bootstrap@5.2.2/dist/css/bootstrap.min.css&quot;/&gt;\n",
              "    &lt;link rel=&quot;stylesheet&quot; href=&quot;https://netdna.bootstrapcdn.com/bootstrap/3.0.0/css/bootstrap.min.css&quot;/&gt;\n",
              "    &lt;link rel=&quot;stylesheet&quot; href=&quot;https://cdn.jsdelivr.net/npm/@fortawesome/fontawesome-free@6.2.0/css/all.min.css&quot;/&gt;\n",
              "    &lt;link rel=&quot;stylesheet&quot; href=&quot;https://cdnjs.cloudflare.com/ajax/libs/Leaflet.awesome-markers/2.0.2/leaflet.awesome-markers.css&quot;/&gt;\n",
              "    &lt;link rel=&quot;stylesheet&quot; href=&quot;https://cdn.jsdelivr.net/gh/python-visualization/folium/folium/templates/leaflet.awesome.rotate.min.css&quot;/&gt;\n",
              "    \n",
              "            &lt;meta name=&quot;viewport&quot; content=&quot;width=device-width,\n",
              "                initial-scale=1.0, maximum-scale=1.0, user-scalable=no&quot; /&gt;\n",
              "            &lt;style&gt;\n",
              "                #map_6181a9c312fcea53fe74689de49384db {\n",
              "                    position: relative;\n",
              "                    width: 100.0%;\n",
              "                    height: 100.0%;\n",
              "                    left: 0.0%;\n",
              "                    top: 0.0%;\n",
              "                }\n",
              "                .leaflet-container { font-size: 1rem; }\n",
              "            &lt;/style&gt;\n",
              "        \n",
              "    &lt;script src=&quot;https://cdnjs.cloudflare.com/ajax/libs/leaflet-minimap/3.6.1/Control.MiniMap.js&quot;&gt;&lt;/script&gt;\n",
              "    &lt;link rel=&quot;stylesheet&quot; href=&quot;https://cdnjs.cloudflare.com/ajax/libs/leaflet-minimap/3.6.1/Control.MiniMap.css&quot;/&gt;\n",
              "&lt;/head&gt;\n",
              "&lt;body&gt;\n",
              "    \n",
              "    \n",
              "            &lt;div class=&quot;folium-map&quot; id=&quot;map_6181a9c312fcea53fe74689de49384db&quot; &gt;&lt;/div&gt;\n",
              "        \n",
              "&lt;/body&gt;\n",
              "&lt;script&gt;\n",
              "    \n",
              "    \n",
              "            var map_6181a9c312fcea53fe74689de49384db = L.map(\n",
              "                &quot;map_6181a9c312fcea53fe74689de49384db&quot;,\n",
              "                {\n",
              "                    center: [47.37174, 8.54226],\n",
              "                    crs: L.CRS.EPSG3857,\n",
              "                    zoom: 12,\n",
              "                    zoomControl: true,\n",
              "                    preferCanvas: false,\n",
              "                }\n",
              "            );\n",
              "\n",
              "            \n",
              "\n",
              "        \n",
              "    \n",
              "            var tile_layer_bad61aff5f315b685adcc53b3e9cc1b0 = L.tileLayer(\n",
              "                &quot;https://cartodb-basemaps-{s}.global.ssl.fastly.net/dark_all/{z}/{x}/{y}.png&quot;,\n",
              "                {&quot;attribution&quot;: &quot;\\u0026copy; \\u003ca target=\\&quot;_blank\\&quot; href=\\&quot;http://www.openstreetmap.org/copyright\\&quot;\\u003eOpenStreetMap\\u003c/a\\u003e contributors \\u0026copy; \\u003ca target=\\&quot;_blank\\&quot; href=\\&quot;http://cartodb.com/attributions\\&quot;\\u003eCartoDB\\u003c/a\\u003e, CartoDB \\u003ca target=\\&quot;_blank\\&quot; href =\\&quot;http://cartodb.com/attributions\\&quot;\\u003eattributions\\u003c/a\\u003e&quot;, &quot;detectRetina&quot;: false, &quot;maxNativeZoom&quot;: 18, &quot;maxZoom&quot;: 18, &quot;minZoom&quot;: 0, &quot;noWrap&quot;: false, &quot;opacity&quot;: 1, &quot;subdomains&quot;: &quot;abc&quot;, &quot;tms&quot;: false}\n",
              "            ).addTo(map_6181a9c312fcea53fe74689de49384db);\n",
              "        \n",
              "    \n",
              "            var tile_layer_177e6691c7f1d0048934630c12a17551 = L.tileLayer(\n",
              "                &quot;https://{s}.tile.openstreetmap.org/{z}/{x}/{y}.png&quot;,\n",
              "                {&quot;attribution&quot;: &quot;Data by \\u0026copy; \\u003ca target=\\&quot;_blank\\&quot; href=\\&quot;http://openstreetmap.org\\&quot;\\u003eOpenStreetMap\\u003c/a\\u003e, under \\u003ca target=\\&quot;_blank\\&quot; href=\\&quot;http://www.openstreetmap.org/copyright\\&quot;\\u003eODbL\\u003c/a\\u003e.&quot;, &quot;detectRetina&quot;: false, &quot;maxNativeZoom&quot;: 18, &quot;maxZoom&quot;: 18, &quot;minZoom&quot;: 0, &quot;noWrap&quot;: false, &quot;opacity&quot;: 1, &quot;subdomains&quot;: &quot;abc&quot;, &quot;tms&quot;: false}\n",
              "            );\n",
              "            var mini_map_3db0c2394d11e0973a687253c2ccde20 = new L.Control.MiniMap(\n",
              "                tile_layer_177e6691c7f1d0048934630c12a17551,\n",
              "                {&quot;autoToggleDisplay&quot;: false, &quot;centerFixed&quot;: false, &quot;collapsedHeight&quot;: 25, &quot;collapsedWidth&quot;: 25, &quot;height&quot;: 150, &quot;minimized&quot;: false, &quot;position&quot;: &quot;bottomright&quot;, &quot;toggleDisplay&quot;: false, &quot;width&quot;: 150, &quot;zoomAnimation&quot;: false, &quot;zoomLevelOffset&quot;: -5}\n",
              "            );\n",
              "            map_6181a9c312fcea53fe74689de49384db.addControl(mini_map_3db0c2394d11e0973a687253c2ccde20);\n",
              "        \n",
              "&lt;/script&gt;\n",
              "&lt;/html&gt;\" style=\"position:absolute;width:100%;height:100%;left:0;top:0;border:none !important;\" allowfullscreen webkitallowfullscreen mozallowfullscreen></iframe></div></div>"
            ]
          },
          "metadata": {},
          "execution_count": 2
        }
      ]
    }
  ]
}