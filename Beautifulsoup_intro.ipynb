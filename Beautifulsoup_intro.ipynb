{
  "nbformat": 4,
  "nbformat_minor": 0,
  "metadata": {
    "colab": {
      "provenance": [],
      "authorship_tag": "ABX9TyO/VznXtvtgejDAq9Xctw9R",
      "include_colab_link": true
    },
    "kernelspec": {
      "name": "python3",
      "display_name": "Python 3"
    },
    "language_info": {
      "name": "python"
    }
  },
  "cells": [
    {
      "cell_type": "markdown",
      "metadata": {
        "id": "view-in-github",
        "colab_type": "text"
      },
      "source": [
        "<a href=\"https://colab.research.google.com/github/NbtKmy/gc_workshops/blob/main/Beautifulsoup_intro.ipynb\" target=\"_parent\"><img src=\"https://colab.research.google.com/assets/colab-badge.svg\" alt=\"Open In Colab\"/></a>"
      ]
    },
    {
      "cell_type": "markdown",
      "source": [
        "# Beautifulsoup?\n",
        "\n",
        "[Beautifulsoup](https://www.crummy.com/software/BeautifulSoup/bs4/doc/) ist eine Python-Library, mit der man sehr leicht HTML- oder XML-Dokument \"[parsen](https://de.wikipedia.org/wiki/Parser)\" kann - d.h. mit Beautifulsoup kann man angenehm gestimmte Information aus HTML- oder XML-Dokument holen.\n",
        "\n",
        "Weitere Eigenschaften der Library sind im [offiziellen Dokument](https://www.crummy.com/software/BeautifulSoup/) geschrieben:\n",
        ">- Beautiful Soup provides a few simple methods and Pythonic idioms for navigating, searching, and modifying a parse tree: a toolkit for dissecting a document and extracting what you need. It doesn't take much code to write an application\n",
        "- Beautiful Soup automatically converts incoming documents to Unicode and outgoing documents to UTF-8. You don't have to think about encodings, unless the document doesn't specify an encoding and Beautiful Soup can't detect one. Then you just have to specify the original encoding.\n",
        "- Beautiful Soup sits on top of popular Python parsers like lxml and html5lib, allowing you to try out different parsing strategies or trade speed for flexibility.\n",
        "\n",
        "\n",
        "Hier werden wir mal diese Library ausprobieren!\n"
      ],
      "metadata": {
        "id": "6Cdu1-tXWvGi"
      }
    },
    {
      "cell_type": "code",
      "execution_count": 1,
      "metadata": {
        "colab": {
          "base_uri": "https://localhost:8080/"
        },
        "id": "GuPEzvzaWrYw",
        "outputId": "9a0c01e6-64ec-450d-8a96-e38d67ebee00"
      },
      "outputs": [
        {
          "output_type": "stream",
          "name": "stdout",
          "text": [
            "\u001b[?25l     \u001b[90m━━━━━━━━━━━━━━━━━━━━━━━━━━━━━━━━━━━━━━━━\u001b[0m \u001b[32m0.0/143.0 kB\u001b[0m \u001b[31m?\u001b[0m eta \u001b[36m-:--:--\u001b[0m\r\u001b[2K     \u001b[91m━━━━━━━━━━━\u001b[0m\u001b[90m╺\u001b[0m\u001b[90m━━━━━━━━━━━━━━━━━━━━━━━━━━━━\u001b[0m \u001b[32m41.0/143.0 kB\u001b[0m \u001b[31m1.1 MB/s\u001b[0m eta \u001b[36m0:00:01\u001b[0m\r\u001b[2K     \u001b[90m━━━━━━━━━━━━━━━━━━━━━━━━━━━━━━━━━━━━━━━\u001b[0m \u001b[32m143.0/143.0 kB\u001b[0m \u001b[31m2.3 MB/s\u001b[0m eta \u001b[36m0:00:00\u001b[0m\n",
            "\u001b[?25h"
          ]
        }
      ],
      "source": [
        "# Wir verwenden lxml als Parser - deshalb installieren wir auch lxml\n",
        "!pip install -qU beautifulsoup4 lxml"
      ]
    },
    {
      "cell_type": "markdown",
      "source": [
        "## Information aus HTML holen\n",
        "\n",
        "Als Beispiel nehmen wir eine Wikipedia-Seite über [Heidi](https://de.wikipedia.org/wiki/Heidi_(Roman)).\n",
        "Bevor wir die Daten von der Wikipedia-Seite holen schauen wir die folgende Seite an:\n",
        "\n",
        "https://de.wikipedia.org/robots.txt\n",
        "\n",
        "\n",
        "Dieser robots.txt regelt den Zugriff von Web-Crawler auf Wikipedia-Inhalte.\n",
        "So werden die Seite unter diesem Domain z.B. von hoher Belastung am Server.\n",
        "Wir machen hier kein Web Crawling, aber es ist wichtig, dass wir benutzerfreundliche Web-Dienstleistung nicht zu sehr belasten...\n",
        "\n",
        "Laut robots.txt empfehlt Wikipedia die Nutzung des [API-Schnittstelle](https://de.wikipedia.org/api/rest_v1/#/).\n",
        "Wir verwenden hier diesen Schnittstelle,  um eine Wikipedia-Seite in HTML-Form zu erhalten.\n",
        "\n",
        "Nach der Beschreibung über API sieht die Query so aus:\n",
        "```\n",
        "https://de.wikipedia.org/api/rest_v1/page/html/Heidi_%28Roman%29?redirect=false&stash=false\n",
        "```\n",
        "Die komischen Zeichenfolgen wie \"%28\" oder \"%29\" sind die Zeichen, die nach [URL-Encode](https://de.wikipedia.org/wiki/URL-Encoding) codiert sind.\n",
        "\n"
      ],
      "metadata": {
        "id": "R0I1SyHqZblI"
      }
    },
    {
      "cell_type": "code",
      "source": [
        "import requests\n",
        "from bs4 import BeautifulSoup\n",
        "\n",
        "\n",
        "url = \"https://de.wikipedia.org/api/rest_v1/page/html/Heidi_%28Roman%29?redirect=false&stash=false\"\n",
        "wiki_site = requests.get(url)\n",
        "soup = BeautifulSoup(wiki_site.content, \"lxml\")\n",
        "# HTML anzeigen\n",
        "print(soup)"
      ],
      "metadata": {
        "id": "PmqMOmKDZbIy"
      },
      "execution_count": null,
      "outputs": []
    },
    {
      "cell_type": "code",
      "source": [
        "##########\n",
        "# find() #\n",
        "##########\n",
        "\n",
        "# Einen Tag finden - mit \"find(\"{tag-name}\")\" kann man einen Tag aus dem HTML-Dokument herausnehmen:\n",
        "print(soup.find(\"title\"))\n",
        "# Wenn man nur den Text in dem Tag weiter \".text\" hinzufügen:\n",
        "print(soup.find(\"title\").text)\n",
        "\n",
        "# so geht's auch:\n",
        "title_tag = soup.find(\"title\")\n",
        "print(title_tag.text)\n",
        "\n"
      ],
      "metadata": {
        "colab": {
          "base_uri": "https://localhost:8080/"
        },
        "id": "DAVcz8p-kW-1",
        "outputId": "a9315785-df92-4ba9-bc7c-3a536a547fdd"
      },
      "execution_count": 9,
      "outputs": [
        {
          "output_type": "stream",
          "name": "stdout",
          "text": [
            "<title>Heidi (Roman)</title>\n",
            "Heidi (Roman)\n",
            "Heidi (Roman)\n",
            "[<h2 id=\"Bücher\"><span id=\"B.C3.BCcher\" typeof=\"mw:FallbackId\"></span>Bücher</h2>, <h2 id=\"Heidi-Archiv\">Heidi-Archiv</h2>, <h2 id=\"Mögliche_Vorlage\"><span id=\"M.C3.B6gliche_Vorlage\" typeof=\"mw:FallbackId\"></span>Mögliche Vorlage</h2>, <h2 id=\"Abgeleitete_Werke\">Abgeleitete Werke</h2>, <h2 id=\"Sonstige_Vermarktung_und_Werbung\">Sonstige Vermarktung und Werbung</h2>, <h2 id=\"Literatur\">Literatur</h2>, <h2 id=\"Siehe_auch\">Siehe auch</h2>, <h2 id=\"Weblinks\">Weblinks</h2>, <h2 id=\"Einzelnachweise\">Einzelnachweise</h2>]\n"
          ]
        }
      ]
    },
    {
      "cell_type": "markdown",
      "source": [
        "Es gibt sonst noch:\n",
        "-  find_parent()\n",
        "- find_next_sibling()\n",
        "- find_previous_sibling()\n",
        "- select_one()\n",
        "\n",
        "Diese Methode gibt nur das erste Element im Dokument zurück."
      ],
      "metadata": {
        "id": "gMmvApsH4_0-"
      }
    },
    {
      "cell_type": "code",
      "source": [
        "##############\n",
        "# find_all() #\n",
        "##############\n",
        "# Alle entsprechende Tags finden - Die Tags werden in einer Listenform zurückgegeben\n",
        "print(soup.find_all(\"h2\"))\n",
        "\n",
        "# Wenn man alle Text-Elemente herausholen möchte, kann man so verfahren:\n",
        "all_h2 = soup.find_all(\"h2\")\n",
        "\n",
        "for e in all_h2:\n",
        "    print(e.text)"
      ],
      "metadata": {
        "colab": {
          "base_uri": "https://localhost:8080/"
        },
        "id": "z8YNWc0qm0G0",
        "outputId": "2d80ed94-b01d-4385-a086-400e04fb8908"
      },
      "execution_count": 10,
      "outputs": [
        {
          "output_type": "stream",
          "name": "stdout",
          "text": [
            "[<h2 id=\"Bücher\"><span id=\"B.C3.BCcher\" typeof=\"mw:FallbackId\"></span>Bücher</h2>, <h2 id=\"Heidi-Archiv\">Heidi-Archiv</h2>, <h2 id=\"Mögliche_Vorlage\"><span id=\"M.C3.B6gliche_Vorlage\" typeof=\"mw:FallbackId\"></span>Mögliche Vorlage</h2>, <h2 id=\"Abgeleitete_Werke\">Abgeleitete Werke</h2>, <h2 id=\"Sonstige_Vermarktung_und_Werbung\">Sonstige Vermarktung und Werbung</h2>, <h2 id=\"Literatur\">Literatur</h2>, <h2 id=\"Siehe_auch\">Siehe auch</h2>, <h2 id=\"Weblinks\">Weblinks</h2>, <h2 id=\"Einzelnachweise\">Einzelnachweise</h2>]\n",
            "Bücher\n",
            "Heidi-Archiv\n",
            "Mögliche Vorlage\n",
            "Abgeleitete Werke\n",
            "Sonstige Vermarktung und Werbung\n",
            "Literatur\n",
            "Siehe auch\n",
            "Weblinks\n",
            "Einzelnachweise\n"
          ]
        }
      ]
    },
    {
      "cell_type": "markdown",
      "source": [
        "Es gibt sonst noch:\n",
        "- find_parents()\n",
        "- find_next_siblings()\n",
        "- find_previous_siblings()\n",
        "- select()\n",
        "\n",
        "Diese Methoden geben alle Elemente zurück, die zur Suchbedingung passen."
      ],
      "metadata": {
        "id": "V7joYsP_49Wg"
      }
    },
    {
      "cell_type": "code",
      "source": [
        "##############################\n",
        "# filtern nach class oder id #\n",
        "##############################\n",
        "s = soup.find_all(id=\"mwNw\")\n",
        "print(\"Ergebnis find_all mit id:\")\n",
        "print(s)\n",
        "\n",
        "t1 = soup.find(id=\"Hauptfiguren_der_Heidi-Romane\")\n",
        "print(\"\\n Ergebnis find mit id:\")\n",
        "print(t1)\n",
        "\n",
        "t2 = soup.find(string=\"Hauptfiguren der Heidi-Romane\")\n",
        "print(\"\\n Ergebnis find mit string:\")\n",
        "print(t2)\n",
        "\n",
        "pa_t = t2.find_parent(\"section\")\n",
        "print(\"\\n Ergebnis find_parent\")\n",
        "print(pa_t)\n"
      ],
      "metadata": {
        "colab": {
          "base_uri": "https://localhost:8080/"
        },
        "id": "pn7SEAo0y71n",
        "outputId": "840188fe-6b27-41e5-8116-eb1ae1ac925c"
      },
      "execution_count": 31,
      "outputs": [
        {
          "output_type": "stream",
          "name": "stdout",
          "text": [
            "Ergebnis find_all mit id:\n",
            "[<section data-mw-section-id=\"4\" id=\"mwNw\"><h3 id=\"Hauptfiguren_der_Heidi-Romane\">Hauptfiguren der Heidi-Romane</h3>\n",
            "<p id=\"mwOA\">Die Namen wurden von Johanna Spyri in der originalen Erstausgabe<sup about=\"#mwt12\" class=\"mw-ref reference\" data-mw='{\"name\":\"ref\",\"attrs\":{\"name\":\"Erstausgabe\"},\"body\":{\"id\":\"mw-reference-text-cite_note-Erstausgabe-3\"}}' id=\"cite_ref-Erstausgabe_3-0\" rel=\"dc:references\" typeof=\"mw:Extension/ref\"><a href=\"./Heidi_(Roman)#cite_note-Erstausgabe-3\" id=\"mwOQ\" style=\"counter-reset: mw-Ref 3;\"><span class=\"mw-reflink-text\" id=\"mwOg\">[3]</span></a></sup> zum Teil anders geschrieben als heute üblich.</p>\n",
            "<section data-mw-section-id=\"5\" id=\"mwOw\"><h4 id=\"Heidi\">Heidi</h4>\n",
            "<p id=\"mwPA\">Heidi, mit Taufnamen <a href=\"./Adelheid\" id=\"mwPQ\" rel=\"mw:WikiLink\" title=\"Adelheid\">Adelheid</a>, ist ein kleines Mädchen, dessen Vater kurz nach ihrer Geburt verunglückt und dessen Mutter verstorben ist. Nachdem sie zuerst bei ihrer Grossmutter und ihrer Base Dete gelebt hat, wird sie im Alter von fünf Jahren von Dete auf die Alp zu ihrem Grossvater gebracht. Als sie acht Jahre alt ist, kommt sie gegen den Willen des Grossvaters durch ihre Base als Spielgefährtin von Klara Sesemann nach Frankfurt ins Haus der Familie Sesemann. Nachdem ihr Heimweh nach der Alp und ihrem Grossvater von anderen unbemerkt immer grösser geworden ist und schliesslich sogar zum Schlafwandeln führt, darf sie wieder nach Hause zurückkehren. Durch ihr offenes und freundliches Wesen findet Heidi viele gute Freunde, die Anteil an ihrem Schicksal nehmen. Gegen Ende des zweiten Bandes ist Heidi etwa zehn Jahre alt.</p>\n",
            "</section><section data-mw-section-id=\"6\" id=\"mwPg\"><h4 id=\"Geissenpeter\">Geissenpeter</h4>\n",
            "<p id=\"mwPw\">Der Geissenpeter (in einigen Bearbeitungen auch als <i id=\"mwQA\">Ziegenpeter</i> bezeichnet) ist zu Beginn des ersten Buches ein elfjähriger Junge, der im Sommer die Geissen (<a href=\"./Hausziege\" id=\"mwQQ\" rel=\"mw:WikiLink\" title=\"Hausziege\">Ziegen</a>) des Dorfes hütet, weshalb ihn der Alpöhi auch <i id=\"mwQg\">Geissengeneral</i> nennt. Im Winter soll er zur Schule gehen, was ihm wenig Freude bereitet. Er lebt zusammen mit seiner Mutter Brigitte und seiner blinden Grossmutter in einer Hütte auf halber Höhe zwischen dem Dörfli und der Hütte des Alpöhi. Obwohl er wortkarg und manchmal eifersüchtig ist, ist er Heidis bester Freund.</p>\n",
            "</section><section data-mw-section-id=\"7\" id=\"mwQw\"><h4 id=\"Alpöhi,_der_Grossvater\"><span id=\"Alp.C3.B6hi.2C_der_Grossvater\" typeof=\"mw:FallbackId\"></span><span about=\"#mwt13\" data-mw='{\"parts\":[{\"template\":{\"target\":{\"wt\":\"Anker\",\"href\":\"./Vorlage:Anker\"},\"params\":{\"1\":{\"wt\":\"Almöhi\"}},\"i\":0}}]}' id=\"Alm.C3.B6hi\" typeof=\"mw:Transclusion\"></span><span about=\"#mwt13\" id=\"Almöhi\"></span> Alpöhi, der Grossvater</h4>\n",
            "<figure class=\"mw-default-size\" id=\"mwRA\" typeof=\"mw:File/Thumb\"><a class=\"mw-file-description\" href=\"./Datei:Heidi_and_her_grandfather.jpg\" id=\"mwRQ\"><img class=\"mw-file-element\" data-file-height=\"576\" data-file-type=\"bitmap\" data-file-width=\"402\" decoding=\"async\" height=\"244\" id=\"mwRg\" resource=\"./Datei:Heidi_and_her_grandfather.jpg\" src=\"//upload.wikimedia.org/wikipedia/commons/thumb/5/54/Heidi_and_her_grandfather.jpg/170px-Heidi_and_her_grandfather.jpg\" srcset=\"//upload.wikimedia.org/wikipedia/commons/thumb/5/54/Heidi_and_her_grandfather.jpg/255px-Heidi_and_her_grandfather.jpg 1.5x, //upload.wikimedia.org/wikipedia/commons/thumb/5/54/Heidi_and_her_grandfather.jpg/340px-Heidi_and_her_grandfather.jpg 2x\" width=\"170\"/></a><figcaption id=\"mwRw\">Heidi und Alpöhi, illustriert von <a href=\"./Jessie_Willcox_Smith\" id=\"mwSA\" rel=\"mw:WikiLink\" title=\"Jessie Willcox Smith\">Jessie Willcox Smith</a></figcaption></figure>\n",
            "<p id=\"mwSQ\">Der Alpöhi (in der hochdeutschen Erstausgabe «Alm-Öhi» genannt) lebt als <a href=\"./Einsiedler\" id=\"mwSg\" rel=\"mw:WikiLink\" title=\"Einsiedler\">Einsiedler</a> in seiner Hütte. Seine Enkelin Heidi bringt ihn den Menschen wieder näher, von denen er sich im Zorn zurückgezogen hatte. In seiner Jugend im <a href=\"./Domleschg\" id=\"mwSw\" rel=\"mw:WikiLink\" title=\"Domleschg\">Domleschg</a> hat er das Familienerbe „verspielt und verzecht“. Er zog nach Neapel und <a href=\"./Schweizer_Truppen_in_neapolitanischen_Diensten\" id=\"mwTA\" rel=\"mw:WikiLink\" title=\"Schweizer Truppen in neapolitanischen Diensten\">diente beim Militär</a>. Gerüchten nach hat er dort einen Menschen umgebracht und musste <a class=\"mw-redirect\" href=\"./Desertion\" id=\"mwTQ\" rel=\"mw:WikiLink\" title=\"Desertion\">desertieren</a>. Später kehrte er mit dem „halb erwachsenen Buben“ Tobias zurück und liess sich im <i id=\"mwTg\">Dörfli</i> nieder. Tobias' Mutter „muss eine Bündnerin gewesen sein, die er dort unten getroffen und dann bald wieder verloren hatte“, erzählt Dete. Der Sohn kam bei einem Arbeitsunfall ums Leben; dessen Frau Adelheid starb vor Trauer kurze Zeit später, sodass ihre Schwester Dete die kleine Heidi vier Jahre lang versorgen musste. Der Name Alpöhi bedeutet wörtlich Alp-<a href=\"./Oheim\" id=\"mwTw\" rel=\"mw:WikiLink\" title=\"Oheim\">Oheim</a>, also Alponkel.</p>\n",
            "</section><section data-mw-section-id=\"8\" id=\"mwUA\"><h4 id=\"Klara_Sesemann\">Klara Sesemann</h4>\n",
            "<p id=\"mwUQ\">Klara ist ein gehbehindertes Mädchen aus reichem Haus. Als die achtjährige Heidi zu ihr kommt, ist Klara zwölf Jahre alt. Sie wächst mutterlos in Frankfurt auf. Der Vater ist ständig auf Reisen und hat nur wenig Zeit für seine Tochter. Klara wird von Heidi zuerst aus ihrer Einsamkeit, später auch von ihrem Leiden befreit.</p>\n",
            "</section><section data-mw-section-id=\"9\" id=\"mwUg\"><h4 id=\"Herr_Sesemann\">Herr Sesemann</h4>\n",
            "<p id=\"mwUw\">Klaras Vater ist Geschäftsmann und häufig unterwegs, unter anderem in Paris. Er liebt seine Tochter sehr und ihr Wohlergehen ist ihm sehr wichtig. Auf Anraten des Doktors schickt er die heimwehkranke Heidi zurück auf die Alp.</p>\n",
            "</section><section data-mw-section-id=\"10\" id=\"mwVA\"><h4 id=\"Frau_Sesemann\">Frau Sesemann</h4>\n",
            "<p id=\"mwVQ\">Die Mutter von Klaras Vater wohnt in Holstein und kommt in unregelmässigen Abständen nach Frankfurt zu Besuch. Dort nimmt sie sich Heidis an, motiviert sie durch ein illustriertes Buch zum Lesen lernen und bringt ihr den Glauben an Gott, dem man jeden Kummer berichten kann, nahe. Ausserdem begleitet sie Klara bei ihrem Besuch auf der Alp.</p>\n",
            "</section><section data-mw-section-id=\"11\" id=\"mwVg\"><h4 id=\"Fräulein_Rottenmeier\"><span id=\"Fr.C3.A4ulein_Rottenmeier\" typeof=\"mw:FallbackId\"></span>Fräulein Rottenmeier</h4>\n",
            "<p id=\"mwVw\">Fräulein Rottenmeier führt dem verwitweten Herrn Sesemann und seiner Tochter den Haushalt. Sie hat keinerlei Verständnis für Heidi, die sie gelegentlich sogar als Wilde und nicht ganz richtig im Kopf bezeichnet. Durch ihre strengen Regeln verstärkt sie unbewusst Heidis Kummer um ein Vielfaches.</p>\n",
            "</section></section>]\n",
            "\n",
            " Ergebnis find mit id:\n",
            "<h3 id=\"Hauptfiguren_der_Heidi-Romane\">Hauptfiguren der Heidi-Romane</h3>\n",
            "\n",
            " Ergebnis find mit string:\n",
            "Hauptfiguren der Heidi-Romane\n",
            "\n",
            " Ergebnis find_parent\n",
            "<section data-mw-section-id=\"4\" id=\"mwNw\"><h3 id=\"Hauptfiguren_der_Heidi-Romane\">Hauptfiguren der Heidi-Romane</h3>\n",
            "<p id=\"mwOA\">Die Namen wurden von Johanna Spyri in der originalen Erstausgabe<sup about=\"#mwt12\" class=\"mw-ref reference\" data-mw='{\"name\":\"ref\",\"attrs\":{\"name\":\"Erstausgabe\"},\"body\":{\"id\":\"mw-reference-text-cite_note-Erstausgabe-3\"}}' id=\"cite_ref-Erstausgabe_3-0\" rel=\"dc:references\" typeof=\"mw:Extension/ref\"><a href=\"./Heidi_(Roman)#cite_note-Erstausgabe-3\" id=\"mwOQ\" style=\"counter-reset: mw-Ref 3;\"><span class=\"mw-reflink-text\" id=\"mwOg\">[3]</span></a></sup> zum Teil anders geschrieben als heute üblich.</p>\n",
            "<section data-mw-section-id=\"5\" id=\"mwOw\"><h4 id=\"Heidi\">Heidi</h4>\n",
            "<p id=\"mwPA\">Heidi, mit Taufnamen <a href=\"./Adelheid\" id=\"mwPQ\" rel=\"mw:WikiLink\" title=\"Adelheid\">Adelheid</a>, ist ein kleines Mädchen, dessen Vater kurz nach ihrer Geburt verunglückt und dessen Mutter verstorben ist. Nachdem sie zuerst bei ihrer Grossmutter und ihrer Base Dete gelebt hat, wird sie im Alter von fünf Jahren von Dete auf die Alp zu ihrem Grossvater gebracht. Als sie acht Jahre alt ist, kommt sie gegen den Willen des Grossvaters durch ihre Base als Spielgefährtin von Klara Sesemann nach Frankfurt ins Haus der Familie Sesemann. Nachdem ihr Heimweh nach der Alp und ihrem Grossvater von anderen unbemerkt immer grösser geworden ist und schliesslich sogar zum Schlafwandeln führt, darf sie wieder nach Hause zurückkehren. Durch ihr offenes und freundliches Wesen findet Heidi viele gute Freunde, die Anteil an ihrem Schicksal nehmen. Gegen Ende des zweiten Bandes ist Heidi etwa zehn Jahre alt.</p>\n",
            "</section><section data-mw-section-id=\"6\" id=\"mwPg\"><h4 id=\"Geissenpeter\">Geissenpeter</h4>\n",
            "<p id=\"mwPw\">Der Geissenpeter (in einigen Bearbeitungen auch als <i id=\"mwQA\">Ziegenpeter</i> bezeichnet) ist zu Beginn des ersten Buches ein elfjähriger Junge, der im Sommer die Geissen (<a href=\"./Hausziege\" id=\"mwQQ\" rel=\"mw:WikiLink\" title=\"Hausziege\">Ziegen</a>) des Dorfes hütet, weshalb ihn der Alpöhi auch <i id=\"mwQg\">Geissengeneral</i> nennt. Im Winter soll er zur Schule gehen, was ihm wenig Freude bereitet. Er lebt zusammen mit seiner Mutter Brigitte und seiner blinden Grossmutter in einer Hütte auf halber Höhe zwischen dem Dörfli und der Hütte des Alpöhi. Obwohl er wortkarg und manchmal eifersüchtig ist, ist er Heidis bester Freund.</p>\n",
            "</section><section data-mw-section-id=\"7\" id=\"mwQw\"><h4 id=\"Alpöhi,_der_Grossvater\"><span id=\"Alp.C3.B6hi.2C_der_Grossvater\" typeof=\"mw:FallbackId\"></span><span about=\"#mwt13\" data-mw='{\"parts\":[{\"template\":{\"target\":{\"wt\":\"Anker\",\"href\":\"./Vorlage:Anker\"},\"params\":{\"1\":{\"wt\":\"Almöhi\"}},\"i\":0}}]}' id=\"Alm.C3.B6hi\" typeof=\"mw:Transclusion\"></span><span about=\"#mwt13\" id=\"Almöhi\"></span> Alpöhi, der Grossvater</h4>\n",
            "<figure class=\"mw-default-size\" id=\"mwRA\" typeof=\"mw:File/Thumb\"><a class=\"mw-file-description\" href=\"./Datei:Heidi_and_her_grandfather.jpg\" id=\"mwRQ\"><img class=\"mw-file-element\" data-file-height=\"576\" data-file-type=\"bitmap\" data-file-width=\"402\" decoding=\"async\" height=\"244\" id=\"mwRg\" resource=\"./Datei:Heidi_and_her_grandfather.jpg\" src=\"//upload.wikimedia.org/wikipedia/commons/thumb/5/54/Heidi_and_her_grandfather.jpg/170px-Heidi_and_her_grandfather.jpg\" srcset=\"//upload.wikimedia.org/wikipedia/commons/thumb/5/54/Heidi_and_her_grandfather.jpg/255px-Heidi_and_her_grandfather.jpg 1.5x, //upload.wikimedia.org/wikipedia/commons/thumb/5/54/Heidi_and_her_grandfather.jpg/340px-Heidi_and_her_grandfather.jpg 2x\" width=\"170\"/></a><figcaption id=\"mwRw\">Heidi und Alpöhi, illustriert von <a href=\"./Jessie_Willcox_Smith\" id=\"mwSA\" rel=\"mw:WikiLink\" title=\"Jessie Willcox Smith\">Jessie Willcox Smith</a></figcaption></figure>\n",
            "<p id=\"mwSQ\">Der Alpöhi (in der hochdeutschen Erstausgabe «Alm-Öhi» genannt) lebt als <a href=\"./Einsiedler\" id=\"mwSg\" rel=\"mw:WikiLink\" title=\"Einsiedler\">Einsiedler</a> in seiner Hütte. Seine Enkelin Heidi bringt ihn den Menschen wieder näher, von denen er sich im Zorn zurückgezogen hatte. In seiner Jugend im <a href=\"./Domleschg\" id=\"mwSw\" rel=\"mw:WikiLink\" title=\"Domleschg\">Domleschg</a> hat er das Familienerbe „verspielt und verzecht“. Er zog nach Neapel und <a href=\"./Schweizer_Truppen_in_neapolitanischen_Diensten\" id=\"mwTA\" rel=\"mw:WikiLink\" title=\"Schweizer Truppen in neapolitanischen Diensten\">diente beim Militär</a>. Gerüchten nach hat er dort einen Menschen umgebracht und musste <a class=\"mw-redirect\" href=\"./Desertion\" id=\"mwTQ\" rel=\"mw:WikiLink\" title=\"Desertion\">desertieren</a>. Später kehrte er mit dem „halb erwachsenen Buben“ Tobias zurück und liess sich im <i id=\"mwTg\">Dörfli</i> nieder. Tobias' Mutter „muss eine Bündnerin gewesen sein, die er dort unten getroffen und dann bald wieder verloren hatte“, erzählt Dete. Der Sohn kam bei einem Arbeitsunfall ums Leben; dessen Frau Adelheid starb vor Trauer kurze Zeit später, sodass ihre Schwester Dete die kleine Heidi vier Jahre lang versorgen musste. Der Name Alpöhi bedeutet wörtlich Alp-<a href=\"./Oheim\" id=\"mwTw\" rel=\"mw:WikiLink\" title=\"Oheim\">Oheim</a>, also Alponkel.</p>\n",
            "</section><section data-mw-section-id=\"8\" id=\"mwUA\"><h4 id=\"Klara_Sesemann\">Klara Sesemann</h4>\n",
            "<p id=\"mwUQ\">Klara ist ein gehbehindertes Mädchen aus reichem Haus. Als die achtjährige Heidi zu ihr kommt, ist Klara zwölf Jahre alt. Sie wächst mutterlos in Frankfurt auf. Der Vater ist ständig auf Reisen und hat nur wenig Zeit für seine Tochter. Klara wird von Heidi zuerst aus ihrer Einsamkeit, später auch von ihrem Leiden befreit.</p>\n",
            "</section><section data-mw-section-id=\"9\" id=\"mwUg\"><h4 id=\"Herr_Sesemann\">Herr Sesemann</h4>\n",
            "<p id=\"mwUw\">Klaras Vater ist Geschäftsmann und häufig unterwegs, unter anderem in Paris. Er liebt seine Tochter sehr und ihr Wohlergehen ist ihm sehr wichtig. Auf Anraten des Doktors schickt er die heimwehkranke Heidi zurück auf die Alp.</p>\n",
            "</section><section data-mw-section-id=\"10\" id=\"mwVA\"><h4 id=\"Frau_Sesemann\">Frau Sesemann</h4>\n",
            "<p id=\"mwVQ\">Die Mutter von Klaras Vater wohnt in Holstein und kommt in unregelmässigen Abständen nach Frankfurt zu Besuch. Dort nimmt sie sich Heidis an, motiviert sie durch ein illustriertes Buch zum Lesen lernen und bringt ihr den Glauben an Gott, dem man jeden Kummer berichten kann, nahe. Ausserdem begleitet sie Klara bei ihrem Besuch auf der Alp.</p>\n",
            "</section><section data-mw-section-id=\"11\" id=\"mwVg\"><h4 id=\"Fräulein_Rottenmeier\"><span id=\"Fr.C3.A4ulein_Rottenmeier\" typeof=\"mw:FallbackId\"></span>Fräulein Rottenmeier</h4>\n",
            "<p id=\"mwVw\">Fräulein Rottenmeier führt dem verwitweten Herrn Sesemann und seiner Tochter den Haushalt. Sie hat keinerlei Verständnis für Heidi, die sie gelegentlich sogar als Wilde und nicht ganz richtig im Kopf bezeichnet. Durch ihre strengen Regeln verstärkt sie unbewusst Heidis Kummer um ein Vielfaches.</p>\n",
            "</section></section>\n"
          ]
        }
      ]
    },
    {
      "cell_type": "markdown",
      "source": [],
      "metadata": {
        "id": "Tz6K9uvVNemI"
      }
    },
    {
      "cell_type": "markdown",
      "source": [
        "# Kombination ...\n",
        "\n",
        "Auf der Wikipedia-Seite von Heidi gibt es Auflistung der Figuren. Kann man die Namen der Figuren extrahieren?"
      ],
      "metadata": {
        "id": "lhWYktD6Nl8I"
      }
    },
    {
      "cell_type": "code",
      "source": [
        "t2 = soup.find(string=\"Hauptfiguren der Heidi-Romane\")\n",
        "pa_t = t2.find_parent(\"section\")\n",
        "\n",
        "figuren_elem = pa_t.find_all(\"h4\")\n",
        "for f in figuren_elem:\n",
        "    print(f.text)"
      ],
      "metadata": {
        "colab": {
          "base_uri": "https://localhost:8080/"
        },
        "id": "umpRLgn78r26",
        "outputId": "8a340b99-adfd-46aa-b2c0-fd154c42a979"
      },
      "execution_count": 33,
      "outputs": [
        {
          "output_type": "stream",
          "name": "stdout",
          "text": [
            "Heidi\n",
            "Geissenpeter\n",
            " Alpöhi, der Grossvater\n",
            "Klara Sesemann\n",
            "Herr Sesemann\n",
            "Frau Sesemann\n",
            "Fräulein Rottenmeier\n"
          ]
        }
      ]
    },
    {
      "cell_type": "markdown",
      "source": [
        "## Quiz\n",
        "\n",
        "Es gibt nicht nur Namen, sondern auch Beschreibungen zu der Figuren. Versucht ihr mal selber die Beschreibungen holen.\n",
        "Und die Namen und Beschreibungen wie folgt darstellen:\n",
        "\n",
        "Name : Beschreibung\n",
        "[...]"
      ],
      "metadata": {
        "id": "Z5qeOGxdN8mo"
      }
    },
    {
      "cell_type": "code",
      "source": [
        "# Beispiel\n",
        "t2 = soup.find(string=\"Hauptfiguren der Heidi-Romane\")\n",
        "pa_t = t2.find_parent(\"section\")\n",
        "\n",
        "\n",
        "figuren_elem = pa_t.find_all(\"h4\")\n",
        "figuren_beschreibung = pa_t.find_all(\"p\")\n",
        "figuren_beschreibung = figuren_beschreibung[1:]\n",
        "for i, j in zip(figuren_elem, figuren_beschreibung):\n",
        "    print(i.text + \": \" + j.text)"
      ],
      "metadata": {
        "colab": {
          "base_uri": "https://localhost:8080/"
        },
        "id": "1iJKbJTHOWxQ",
        "outputId": "c8af6146-8358-4237-bcc7-3cb4c3ab2da7"
      },
      "execution_count": 38,
      "outputs": [
        {
          "output_type": "stream",
          "name": "stdout",
          "text": [
            "Heidi: Heidi, mit Taufnamen Adelheid, ist ein kleines Mädchen, dessen Vater kurz nach ihrer Geburt verunglückt und dessen Mutter verstorben ist. Nachdem sie zuerst bei ihrer Grossmutter und ihrer Base Dete gelebt hat, wird sie im Alter von fünf Jahren von Dete auf die Alp zu ihrem Grossvater gebracht. Als sie acht Jahre alt ist, kommt sie gegen den Willen des Grossvaters durch ihre Base als Spielgefährtin von Klara Sesemann nach Frankfurt ins Haus der Familie Sesemann. Nachdem ihr Heimweh nach der Alp und ihrem Grossvater von anderen unbemerkt immer grösser geworden ist und schliesslich sogar zum Schlafwandeln führt, darf sie wieder nach Hause zurückkehren. Durch ihr offenes und freundliches Wesen findet Heidi viele gute Freunde, die Anteil an ihrem Schicksal nehmen. Gegen Ende des zweiten Bandes ist Heidi etwa zehn Jahre alt.\n",
            "Geissenpeter: Der Geissenpeter (in einigen Bearbeitungen auch als Ziegenpeter bezeichnet) ist zu Beginn des ersten Buches ein elfjähriger Junge, der im Sommer die Geissen (Ziegen) des Dorfes hütet, weshalb ihn der Alpöhi auch Geissengeneral nennt. Im Winter soll er zur Schule gehen, was ihm wenig Freude bereitet. Er lebt zusammen mit seiner Mutter Brigitte und seiner blinden Grossmutter in einer Hütte auf halber Höhe zwischen dem Dörfli und der Hütte des Alpöhi. Obwohl er wortkarg und manchmal eifersüchtig ist, ist er Heidis bester Freund.\n",
            " Alpöhi, der Grossvater: Der Alpöhi (in der hochdeutschen Erstausgabe «Alm-Öhi» genannt) lebt als Einsiedler in seiner Hütte. Seine Enkelin Heidi bringt ihn den Menschen wieder näher, von denen er sich im Zorn zurückgezogen hatte. In seiner Jugend im Domleschg hat er das Familienerbe „verspielt und verzecht“. Er zog nach Neapel und diente beim Militär. Gerüchten nach hat er dort einen Menschen umgebracht und musste desertieren. Später kehrte er mit dem „halb erwachsenen Buben“ Tobias zurück und liess sich im Dörfli nieder. Tobias' Mutter „muss eine Bündnerin gewesen sein, die er dort unten getroffen und dann bald wieder verloren hatte“, erzählt Dete. Der Sohn kam bei einem Arbeitsunfall ums Leben; dessen Frau Adelheid starb vor Trauer kurze Zeit später, sodass ihre Schwester Dete die kleine Heidi vier Jahre lang versorgen musste. Der Name Alpöhi bedeutet wörtlich Alp-Oheim, also Alponkel.\n",
            "Klara Sesemann: Klara ist ein gehbehindertes Mädchen aus reichem Haus. Als die achtjährige Heidi zu ihr kommt, ist Klara zwölf Jahre alt. Sie wächst mutterlos in Frankfurt auf. Der Vater ist ständig auf Reisen und hat nur wenig Zeit für seine Tochter. Klara wird von Heidi zuerst aus ihrer Einsamkeit, später auch von ihrem Leiden befreit.\n",
            "Herr Sesemann: Klaras Vater ist Geschäftsmann und häufig unterwegs, unter anderem in Paris. Er liebt seine Tochter sehr und ihr Wohlergehen ist ihm sehr wichtig. Auf Anraten des Doktors schickt er die heimwehkranke Heidi zurück auf die Alp.\n",
            "Frau Sesemann: Die Mutter von Klaras Vater wohnt in Holstein und kommt in unregelmässigen Abständen nach Frankfurt zu Besuch. Dort nimmt sie sich Heidis an, motiviert sie durch ein illustriertes Buch zum Lesen lernen und bringt ihr den Glauben an Gott, dem man jeden Kummer berichten kann, nahe. Ausserdem begleitet sie Klara bei ihrem Besuch auf der Alp.\n",
            "Fräulein Rottenmeier: Fräulein Rottenmeier führt dem verwitweten Herrn Sesemann und seiner Tochter den Haushalt. Sie hat keinerlei Verständnis für Heidi, die sie gelegentlich sogar als Wilde und nicht ganz richtig im Kopf bezeichnet. Durch ihre strengen Regeln verstärkt sie unbewusst Heidis Kummer um ein Vielfaches.\n"
          ]
        }
      ]
    },
    {
      "cell_type": "markdown",
      "source": [
        "## Werte von Attribute holen\n",
        "\n",
        "In einem HTML-Element gibt es auch die Werte in Attribute wie hier:\n",
        "```html\n",
        " <h3 id=\"Hauptfiguren_der_Heidi-Romane\">Hauptfiguren der Heidi-Romane</h3>\n",
        "```\n",
        "Hier in diesem Bespiel hat die Attribute \"id\" den Wert \"Hauptfiguren_der_Heidi-Romane\".\n",
        "\n",
        "Diesen Wert kann man natürlich auch holen."
      ],
      "metadata": {
        "id": "_-7v2ZVAQNgd"
      }
    },
    {
      "cell_type": "code",
      "source": [
        "t2 = soup.find(string=\"Hauptfiguren der Heidi-Romane\")\n",
        "parent_t2 = t2.find_parent(\"h3\")\n",
        "\n",
        "# man kann auf zwei Methode den Wert des Attributes \"id\" holen\n",
        "print(parent_t2[\"id\"])\n",
        "print(parent_t2.get(\"id\"))\n",
        "\n",
        "# Unterschied ist, dass der Error bei der ersten Methode hervorgerufen wird, wenn der Name des nicht vorhandenen Attributes eingegeben ist,\n",
        "# während die 2te Methode \"None\" zurückgibt.\n",
        "\n",
        "#print(parent_t2[\"class_\"]) # ->Dies stoppt die ganze Script\n",
        "print(parent_t2.get(\"class_\"))"
      ],
      "metadata": {
        "colab": {
          "base_uri": "https://localhost:8080/"
        },
        "id": "i6pA7U58Q7Ws",
        "outputId": "5cf7699f-d045-45d8-95d9-0a6b0176d10b"
      },
      "execution_count": 46,
      "outputs": [
        {
          "output_type": "stream",
          "name": "stdout",
          "text": [
            "Hauptfiguren_der_Heidi-Romane\n",
            "Hauptfiguren_der_Heidi-Romane\n",
            "None\n"
          ]
        }
      ]
    },
    {
      "cell_type": "markdown",
      "source": [
        "Wenn man ein Bild-Datei haben will?\n",
        "Wikimedia hat \"[User-Agent-Policy](https://meta.wikimedia.org/wiki/User-Agent_policy)\". Demnach muss man User-Agent in Header in Request haben."
      ],
      "metadata": {
        "id": "AHlF8iV1V9QD"
      }
    },
    {
      "cell_type": "code",
      "source": [
        "import requests\n",
        "\n",
        "# Das erste Bild-Element holen\n",
        "image = soup.find(\"img\")\n",
        "\n",
        "# Daraus den Link zu dem Bild erhalten\n",
        "url = image.get(\"src\")\n",
        "url = \"https:\" + url\n",
        "\n",
        "# Wegen User-Agent-Policy diesen Header noch hinzufügen\n",
        "headers = {\"User-Agent\": \"CoolBot/0.0 (https://example.org/coolbot/; coolbot@example.org)\"}\n",
        "\n",
        "# Bilder herunterladen & Speichern\n",
        "res = requests.get(url, headers=headers)\n",
        "with open(\"test.jpg\", \"wb\") as f:\n",
        "    f.write(res.content)\n",
        "\n"
      ],
      "metadata": {
        "id": "MsxKt413VBZt"
      },
      "execution_count": 73,
      "outputs": []
    },
    {
      "cell_type": "code",
      "source": [
        "from IPython.display import Image,display_jpeg\n",
        "display_jpeg(Image(\"test.jpg\"))"
      ],
      "metadata": {
        "colab": {
          "base_uri": "https://localhost:8080/",
          "height": 297
        },
        "id": "uYtIeqKVc3SB",
        "outputId": "f71cea6f-cc25-4e2f-b666-86b5e3863503"
      },
      "execution_count": 74,
      "outputs": [
        {
          "output_type": "display_data",
          "data": {
            "image/jpeg": "[encoded data removed]"
          },
          "metadata": {}
        }
      ]
    },
    {
      "cell_type": "markdown",
      "source": [
        "Der Prozedre, wie man die Elemente aus dem Dokument holen, ist sowohl bei HTML als auch bei TEI/XML gleich. Wir sind also bereit, die Information aus TEI-Dokument zu holen.\n",
        "\n",
        "In dem nächsten Schritt schauen wir zuerst die Eigenschaft des TEI-Dokuments. Danach nehmen wir ein Beispiel auf."
      ],
      "metadata": {
        "id": "g-AH9w4mp_3B"
      }
    }
  ]
}