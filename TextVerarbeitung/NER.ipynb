{
  "nbformat": 4,
  "nbformat_minor": 0,
  "metadata": {
    "colab": {
      "provenance": [],
      "authorship_tag": "ABX9TyNvdKVnob2Zsf5ETA0awgIi",
      "include_colab_link": true
    },
    "kernelspec": {
      "name": "python3",
      "display_name": "Python 3"
    },
    "language_info": {
      "name": "python"
    }
  },
  "cells": [
    {
      "cell_type": "markdown",
      "metadata": {
        "id": "view-in-github",
        "colab_type": "text"
      },
      "source": [
        "<a href=\"https://colab.research.google.com/github/NbtKmy/gc_workshops/blob/main/NER.ipynb\" target=\"_parent\"><img src=\"https://colab.research.google.com/assets/colab-badge.svg\" alt=\"Open In Colab\"/></a>"
      ]
    },
    {
      "cell_type": "markdown",
      "source": [
        "\n",
        "\n",
        "*   Listeneintrag\n",
        "*   Listeneintrag\n",
        "https://towardsdatascience.com/named-entity-recognition-with-nltk-and-spacy-8c4a7d88e7da\n"
      ],
      "metadata": {
        "id": "se9abFbh44ez"
      }
    },
    {
      "cell_type": "markdown",
      "source": [
        "- Einführung in die Textverarbeitung: Von der grundlegenden Textmanipulation bis zur maschinellen Analyse.\n",
        "- Erkundung von BeautifulSoup: Extrahieren von Informationen aus HTML und XML-ähnlichen Dokumenten.\n",
        "- Einblick in NLTK und SpaCy: Anwendung von NLP-Techniken wie Tokenisierung, Lemmatisierung und Named Entity Recognition.\n",
        "\n",
        "Sitzung 2: Handling von TEI-strukturierten Texten und fortgeschrittene Analysen\n",
        "\n",
        "- Verständnis von TEI: Behandlung von strukturierten Texten im TEI-Format.\n",
        "- Praktische Übungen: Manipulation und Analyse von TEI-Texten unter Verwendung von Python.\n",
        "\n",
        "\n",
        "- Fortgeschrittene Analysetechniken: Sentiment-Analyse, Textklassifikation und mehr.\n"
      ],
      "metadata": {
        "id": "szUnR5D_GSxU"
      }
    },
    {
      "cell_type": "markdown",
      "source": [
        "# Named Entity Recognition (NER)\n",
        "\n",
        "NER bezeichnet ein autmatisches Verfahren, durch das die Eigennamen in einem Text identifiziert und klassifiziert werden.\n",
        "\n",
        "Eigenennamen bestehen dabei auf ein Word oder mehrere Wörter."
      ],
      "metadata": {
        "id": "x4Oy303Ekt03"
      }
    },
    {
      "cell_type": "markdown",
      "source": [
        "## NER mit NLTK\n"
      ],
      "metadata": {
        "id": "KzE0XSCb5NHY"
      }
    },
    {
      "cell_type": "code",
      "execution_count": 1,
      "metadata": {
        "id": "5t8tzM2X4US9"
      },
      "outputs": [],
      "source": [
        "!pip install -q nltk"
      ]
    },
    {
      "cell_type": "code",
      "source": [
        "import nltk\n",
        "\n",
        "nltk.download(\"punkt\") # Worttrennung\n",
        "nltk.download(\"averaged_perceptron_tagger\") # Part of Speech erhalten\n",
        "nltk.download(\"words\")\n",
        "nltk.download(\"maxent_ne_chunker\") # Chunker"
      ],
      "metadata": {
        "colab": {
          "base_uri": "https://localhost:8080/"
        },
        "id": "z90khoJD5IdK",
        "outputId": "16f8d365-082c-4441-fa75-2988a50b41f3"
      },
      "execution_count": 3,
      "outputs": [
        {
          "output_type": "stream",
          "name": "stderr",
          "text": [
            "[nltk_data] Downloading package punkt to /root/nltk_data...\n",
            "[nltk_data]   Package punkt is already up-to-date!\n",
            "[nltk_data] Downloading package averaged_perceptron_tagger to\n",
            "[nltk_data]     /root/nltk_data...\n",
            "[nltk_data]   Package averaged_perceptron_tagger is already up-to-\n",
            "[nltk_data]       date!\n",
            "[nltk_data] Downloading package words to /root/nltk_data...\n",
            "[nltk_data]   Package words is already up-to-date!\n",
            "[nltk_data] Downloading package maxent_ne_chunker to\n",
            "[nltk_data]     /root/nltk_data...\n",
            "[nltk_data]   Package maxent_ne_chunker is already up-to-date!\n"
          ]
        },
        {
          "output_type": "execute_result",
          "data": {
            "text/plain": [
              "True"
            ]
          },
          "metadata": {},
          "execution_count": 3
        }
      ]
    },
    {
      "cell_type": "code",
      "source": [
        "import nltk\n",
        "from nltk.tokenize import word_tokenize\n",
        "from nltk.tag import pos_tag\n",
        "\n",
        "\n",
        "def preprocess(sent):\n",
        "    sent = nltk.word_tokenize(sent)\n",
        "    sent = nltk.pos_tag(sent)\n",
        "    return sent\n",
        "\n",
        "ex = \"\"\"\n",
        "     Our journey here lost the interest arising from beautiful scenery; but\n",
        "     we arrived in a few days at Rotterdam, whence we proceeded by sea to\n",
        "     England.\n",
        "     \"\"\"\n",
        "\n",
        "sent = preprocess(ex)\n",
        "sent"
      ],
      "metadata": {
        "colab": {
          "base_uri": "https://localhost:8080/"
        },
        "id": "c-YkK-5K5LDo",
        "outputId": "4e46a57a-4951-4c1a-9d87-b1ad9885c970"
      },
      "execution_count": 4,
      "outputs": [
        {
          "output_type": "execute_result",
          "data": {
            "text/plain": [
              "[('Our', 'PRP$'),\n",
              " ('journey', 'NN'),\n",
              " ('here', 'RB'),\n",
              " ('lost', 'VBD'),\n",
              " ('the', 'DT'),\n",
              " ('interest', 'NN'),\n",
              " ('arising', 'VBG'),\n",
              " ('from', 'IN'),\n",
              " ('beautiful', 'JJ'),\n",
              " ('scenery', 'NN'),\n",
              " (';', ':'),\n",
              " ('but', 'CC'),\n",
              " ('we', 'PRP'),\n",
              " ('arrived', 'VBD'),\n",
              " ('in', 'IN'),\n",
              " ('a', 'DT'),\n",
              " ('few', 'JJ'),\n",
              " ('days', 'NNS'),\n",
              " ('at', 'IN'),\n",
              " ('Rotterdam', 'NNP'),\n",
              " (',', ','),\n",
              " ('whence', 'NN'),\n",
              " ('we', 'PRP'),\n",
              " ('proceeded', 'VBD'),\n",
              " ('by', 'IN'),\n",
              " ('sea', 'NN'),\n",
              " ('to', 'TO'),\n",
              " ('England', 'NNP'),\n",
              " ('.', '.')]"
            ]
          },
          "metadata": {},
          "execution_count": 4
        }
      ]
    },
    {
      "cell_type": "markdown",
      "source": [
        "Es gibt unterschiedliche POS-Tag-Standards. Z.B.:\n",
        "- [Universal POS Tags](https://universaldependencies.org/u/pos/)\n",
        "- [STTS(Stuttgart-Tübingen-Tagset)-Tags](https://www.linguistik.hu-berlin.de/de/institut/professuren/korpuslinguistik/mitarbeiter-innen/hagen/STTS_Tagset_Tiger)\n",
        "\n",
        "\n",
        "Bei NLTK sehen POS-Tags folgendermassen aus:\n",
        "\n",
        "\n",
        "| Abkürzung | Bedeutung |\n",
        "|------------|-------------|\n",
        "|CC\t| coordinating conjunction|\n",
        "|CD\t|cardinal digit|\n",
        "|DT\t|determiner|\n",
        "|EX\t|existential there|\n",
        "|FW\t|foreign word||\n",
        "|IN\t|preposition/subordinating conjunction|\n",
        "|JJ\t|This NLTK POS Tag is an adjective (large)|\n",
        "|JJR\t|adjective, comparative (larger)|\n",
        "|JJS\t|adjective, superlative (largest)|\n",
        "|LS\t|list market|\n",
        "|MD\t|modal (could, will)|\n",
        "|NN\t|noun, singular (cat, tree)|\n",
        "|NNS\t|noun plural (desks)|\n",
        "|NNP\t|proper noun, singular (sarah)|\n",
        "|NNPS\t|proper noun, plural (indians or americans)|\n",
        "|PDT\t|predeterminer (all, both, half)|\n",
        "|POS\t|possessive ending (parent\\ ‘s)|\n",
        "|PRP\t|personal pronoun (hers, herself, him, himself)|\n",
        "|PRP$\t|possessive pronoun (her, his, mine, my, our )|\n",
        "|RB\t|adverb (occasionally, swiftly)|\n",
        "|RBR\t|adverb, comparative (greater)|\n",
        "|RBS\t|adverb, superlative (biggest)|\n",
        "|RP\t|particle (about)|\n",
        "|TO\t|infinite marker (to)|\n",
        "|UH\t|interjection (goodbye)|\n",
        "|VB\t|verb (ask)|\n",
        "|VBG\t|verb gerund (judging)|\n",
        "|VBD\t|verb past tense (pleaded)|\n",
        "|VBN\t|verb past participle (reunified)|\n",
        "|VBP\t|verb, present tense not 3rd person singular(wrap)|\n",
        "|VBZ\t|verb, present tense with 3rd person singular (bases)|\n",
        "|WDT\t|wh-determiner (that, what)|\n",
        "|WP\t|wh- pronoun (who)|\n",
        "|WRB\t|wh- adverb (how)|\n",
        "\n"
      ],
      "metadata": {
        "id": "7lIw1cz2ejKn"
      }
    },
    {
      "cell_type": "markdown",
      "source": [
        "Die Tokens und pos (Part of Speech), die wir erhalten haben, werden durch RgexpParser umgestaltet. Der umgestaltete Satz hat nun eine Baumstruktur.  "
      ],
      "metadata": {
        "id": "G3kdblUMYjTW"
      }
    },
    {
      "cell_type": "code",
      "source": [
        "pattern = \"NP: {<DT>?<JJ>*<NN>}\"\n",
        "cp = nltk.RegexpParser(pattern)\n",
        "cs = cp.parse(sent)\n",
        "print(cs)"
      ],
      "metadata": {
        "colab": {
          "base_uri": "https://localhost:8080/"
        },
        "id": "V5Y6F20hWraB",
        "outputId": "3ce7a7db-092c-4c12-9ee4-27ea3a477761"
      },
      "execution_count": 7,
      "outputs": [
        {
          "output_type": "stream",
          "name": "stdout",
          "text": [
            "(S\n",
            "  Our/PRP$\n",
            "  (NP journey/NN)\n",
            "  here/RB\n",
            "  lost/VBD\n",
            "  (NP the/DT interest/NN)\n",
            "  arising/VBG\n",
            "  from/IN\n",
            "  (NP beautiful/JJ scenery/NN)\n",
            "  ;/:\n",
            "  but/CC\n",
            "  we/PRP\n",
            "  arrived/VBD\n",
            "  in/IN\n",
            "  a/DT\n",
            "  few/JJ\n",
            "  days/NNS\n",
            "  at/IN\n",
            "  Rotterdam/NNP\n",
            "  ,/,\n",
            "  (NP whence/NN)\n",
            "  we/PRP\n",
            "  proceeded/VBD\n",
            "  by/IN\n",
            "  (NP sea/NN)\n",
            "  to/TO\n",
            "  England/NNP\n",
            "  ./.)\n"
          ]
        }
      ]
    },
    {
      "cell_type": "markdown",
      "source": [
        "Mit der Methode tree2conlltags kann man Tags nach IOB-Format vergeben.\n",
        "\n",
        "## IOB Format\n",
        "\n",
        "IOB Format ist ein Standard für die Bezeichnung der Einheit der Eigennamen.\n",
        "Weil viele Eigennamen nicht nur aus einem Wort besteht, ist solche Markierung notwendig.\n",
        "\n",
        "- Token ist __I__nnerhalb einer Entität.\n",
        "- Token ist ausserhalb (__O__ut of) einer Entität.\n",
        "- Token ist am Anfang (the __B__eginning of) einer Entität.\n",
        "\n",
        "So kann man die Entitäten abgrenzen.\n"
      ],
      "metadata": {
        "id": "0y3xGEgsYGSC"
      }
    },
    {
      "cell_type": "code",
      "source": [
        "from nltk.chunk import conlltags2tree, tree2conlltags\n",
        "from pprint import pprint\n",
        "iob_tagged = tree2conlltags(cs)\n",
        "pprint(iob_tagged)"
      ],
      "metadata": {
        "colab": {
          "base_uri": "https://localhost:8080/"
        },
        "id": "O4ZwRu0f6E7A",
        "outputId": "e48bbca5-fa08-4f52-9e3d-e123d9cd3a97"
      },
      "execution_count": 6,
      "outputs": [
        {
          "output_type": "stream",
          "name": "stdout",
          "text": [
            "[('Our', 'PRP$', 'O'),\n",
            " ('journey', 'NN', 'B-NP'),\n",
            " ('here', 'RB', 'O'),\n",
            " ('lost', 'VBD', 'O'),\n",
            " ('the', 'DT', 'B-NP'),\n",
            " ('interest', 'NN', 'I-NP'),\n",
            " ('arising', 'VBG', 'O'),\n",
            " ('from', 'IN', 'O'),\n",
            " ('beautiful', 'JJ', 'B-NP'),\n",
            " ('scenery', 'NN', 'I-NP'),\n",
            " (';', ':', 'O'),\n",
            " ('but', 'CC', 'O'),\n",
            " ('we', 'PRP', 'O'),\n",
            " ('arrived', 'VBD', 'O'),\n",
            " ('in', 'IN', 'O'),\n",
            " ('a', 'DT', 'O'),\n",
            " ('few', 'JJ', 'O'),\n",
            " ('days', 'NNS', 'O'),\n",
            " ('at', 'IN', 'O'),\n",
            " ('Rotterdam', 'NNP', 'O'),\n",
            " (',', ',', 'O'),\n",
            " ('whence', 'NN', 'B-NP'),\n",
            " ('we', 'PRP', 'O'),\n",
            " ('proceeded', 'VBD', 'O'),\n",
            " ('by', 'IN', 'O'),\n",
            " ('sea', 'NN', 'B-NP'),\n",
            " ('to', 'TO', 'O'),\n",
            " ('England', 'NNP', 'O'),\n",
            " ('.', '.', 'O')]\n"
          ]
        }
      ]
    },
    {
      "cell_type": "markdown",
      "source": [
        "## NER mit SpaCy\n",
        "\n",
        "Entity-Typen in ScaCy sind zum Beispiel...:\n",
        "\n",
        "- PERSON - People, including fictional.\n",
        "\n",
        "- NORP - Nationalities or religious or political groups.\n",
        "\n",
        "- FAC - Buildings, airports, highways, bridges, etc.\n",
        "\n",
        "- ORG - Companies, agencies, institutions, etc.\n",
        "\n",
        "- GPE - Countries, cities, states.\n",
        "\n",
        "- LOC - Non-GPE locations, mountain ranges, bodies of water.\n",
        "\n",
        "Die weiteren Typen sind [hier](https://www.kaggle.com/code/curiousprogrammer/entity-extraction-and-classification-using-spacy?scriptVersionId=11364473&cellId=9) zu finden.\n",
        "\n"
      ],
      "metadata": {
        "id": "CV-ay4UJ8DEv"
      }
    },
    {
      "cell_type": "code",
      "source": [
        "!pip install -q spacy"
      ],
      "metadata": {
        "id": "EzLozRaP8CwP"
      },
      "execution_count": null,
      "outputs": []
    },
    {
      "cell_type": "markdown",
      "source": [
        "SpaCy hat einige trainierte Pipelines/Models für [englische Sprache](https://spacy.io/models/en#)  wie folgt:\n",
        "\n",
        "- en_core_web_sm\n",
        "- en_core_web_md\n",
        "- en_core_web_lg\n",
        "- en_core_web_trf\n",
        "\n",
        "\n",
        "Diese Modelle haben jeweils unterschiedlich trainiert (meist mit geschriebene Texte im Internet, Nachrichten usw.) und demnach unterschiedliche Leistungen.\n",
        "Nähere Beschreibungen findet man auf der oben genannten Website.\n",
        "\n",
        "Hier verwenden wir alle Modelle, damit ihre unterschiedlichen Leistungen im Hinblick auf NER sichtbar werden.\n"
      ],
      "metadata": {
        "id": "6wdCoFEU91EF"
      }
    },
    {
      "cell_type": "markdown",
      "source": [
        "### en_core_web_sm"
      ],
      "metadata": {
        "id": "Vgsb-hQjqA_o"
      }
    },
    {
      "cell_type": "code",
      "source": [
        "import spacy\n",
        "from spacy import displacy\n",
        "from collections import Counter\n",
        "\n",
        "\n",
        "nlp = spacy.load(\"en_core_web_sm\")\n",
        "doc = nlp('European authorities fined Google a record $5.1 billion on Wednesday for abusing its power in the mobile phone market and ordered the company to alter its practices')\n",
        "pprint([(X.text, X.label_) for X in doc.ents])"
      ],
      "metadata": {
        "colab": {
          "base_uri": "https://localhost:8080/"
        },
        "id": "lGpybqS48ZTe",
        "outputId": "1847a88b-6365-4579-e7e3-a825e9d32916"
      },
      "execution_count": null,
      "outputs": [
        {
          "output_type": "stream",
          "name": "stdout",
          "text": [
            "[('European', 'NORP'),\n",
            " ('Google', 'ORG'),\n",
            " ('$5.1 billion', 'MONEY'),\n",
            " ('Wednesday', 'DATE')]\n"
          ]
        }
      ]
    },
    {
      "cell_type": "code",
      "source": [
        "ex_sent = \"\"\"\n",
        "          Beyond Cologne we descended to the plains of Holland; and we resolved to\n",
        "          post the remainder of our way; for the wind was contrary, and the stream\n",
        "          of the river was too gentle to aid us.\n",
        "          Our journey here lost the interest arising from beautiful scenery; but\n",
        "          we arrived in a few days at Rotterdam, whence we proceeded by sea to\n",
        "          England. It was on a clear morning, in the latter days of December, that\n",
        "          I first saw the white cliffs of Britain. The banks of the Thames\n",
        "          presented a new scene; they were flat, but fertile, and almost every\n",
        "          town was marked by the remembrance of some story. We saw Tilbury Fort,\n",
        "          and remembered the Spanish armada; Gravesend, Woolwich, and Greenwich,\n",
        "          places which I had heard of even in my country.\n",
        "          \"\"\"\n",
        "\n",
        "displacy.render(nlp(ex_sent), jupyter=True, style=\"ent\")"
      ],
      "metadata": {
        "colab": {
          "base_uri": "https://localhost:8080/",
          "height": 437
        },
        "id": "KQoEgjnv89F-",
        "outputId": "4154bbcb-cd84-42ef-948d-eed86c0e00bf"
      },
      "execution_count": null,
      "outputs": [
        {
          "output_type": "display_data",
          "data": {
            "text/plain": [
              "<IPython.core.display.HTML object>"
            ],
            "text/html": [
              "<span class=\"tex2jax_ignore\"><div class=\"entities\" style=\"line-height: 2.5; direction: ltr\"></br>          Beyond Cologne we descended to the plains of \n",
              "<mark class=\"entity\" style=\"background: #feca74; padding: 0.45em 0.6em; margin: 0 0.25em; line-height: 1; border-radius: 0.35em;\">\n",
              "    Holland\n",
              "    <span style=\"font-size: 0.8em; font-weight: bold; line-height: 1; border-radius: 0.35em; vertical-align: middle; margin-left: 0.5rem\">GPE</span>\n",
              "</mark>\n",
              "; and we resolved to</br>          post the remainder of our way; for the wind was contrary, and the stream</br>          of the river was too gentle to aid us.</br>          Our journey here lost the interest arising from beautiful scenery; but</br>          we arrived in \n",
              "<mark class=\"entity\" style=\"background: #bfe1d9; padding: 0.45em 0.6em; margin: 0 0.25em; line-height: 1; border-radius: 0.35em;\">\n",
              "    a few days\n",
              "    <span style=\"font-size: 0.8em; font-weight: bold; line-height: 1; border-radius: 0.35em; vertical-align: middle; margin-left: 0.5rem\">DATE</span>\n",
              "</mark>\n",
              " at \n",
              "<mark class=\"entity\" style=\"background: #feca74; padding: 0.45em 0.6em; margin: 0 0.25em; line-height: 1; border-radius: 0.35em;\">\n",
              "    Rotterdam\n",
              "    <span style=\"font-size: 0.8em; font-weight: bold; line-height: 1; border-radius: 0.35em; vertical-align: middle; margin-left: 0.5rem\">GPE</span>\n",
              "</mark>\n",
              ", whence we proceeded by sea to</br>          \n",
              "<mark class=\"entity\" style=\"background: #feca74; padding: 0.45em 0.6em; margin: 0 0.25em; line-height: 1; border-radius: 0.35em;\">\n",
              "    England\n",
              "    <span style=\"font-size: 0.8em; font-weight: bold; line-height: 1; border-radius: 0.35em; vertical-align: middle; margin-left: 0.5rem\">GPE</span>\n",
              "</mark>\n",
              ". It was on \n",
              "<mark class=\"entity\" style=\"background: #bfe1d9; padding: 0.45em 0.6em; margin: 0 0.25em; line-height: 1; border-radius: 0.35em;\">\n",
              "    a clear morning\n",
              "    <span style=\"font-size: 0.8em; font-weight: bold; line-height: 1; border-radius: 0.35em; vertical-align: middle; margin-left: 0.5rem\">TIME</span>\n",
              "</mark>\n",
              ", in \n",
              "<mark class=\"entity\" style=\"background: #bfe1d9; padding: 0.45em 0.6em; margin: 0 0.25em; line-height: 1; border-radius: 0.35em;\">\n",
              "    the latter days of December\n",
              "    <span style=\"font-size: 0.8em; font-weight: bold; line-height: 1; border-radius: 0.35em; vertical-align: middle; margin-left: 0.5rem\">DATE</span>\n",
              "</mark>\n",
              ", that</br>          I \n",
              "<mark class=\"entity\" style=\"background: #e4e7d2; padding: 0.45em 0.6em; margin: 0 0.25em; line-height: 1; border-radius: 0.35em;\">\n",
              "    first\n",
              "    <span style=\"font-size: 0.8em; font-weight: bold; line-height: 1; border-radius: 0.35em; vertical-align: middle; margin-left: 0.5rem\">ORDINAL</span>\n",
              "</mark>\n",
              " saw the white cliffs of \n",
              "<mark class=\"entity\" style=\"background: #feca74; padding: 0.45em 0.6em; margin: 0 0.25em; line-height: 1; border-radius: 0.35em;\">\n",
              "    Britain\n",
              "    <span style=\"font-size: 0.8em; font-weight: bold; line-height: 1; border-radius: 0.35em; vertical-align: middle; margin-left: 0.5rem\">GPE</span>\n",
              "</mark>\n",
              ". The banks of the Thames</br>          presented a new scene; they were flat, but fertile, and almost every</br>          town was marked by the remembrance of some story. We saw Tilbury Fort,</br>          and remembered the \n",
              "<mark class=\"entity\" style=\"background: #c887fb; padding: 0.45em 0.6em; margin: 0 0.25em; line-height: 1; border-radius: 0.35em;\">\n",
              "    Spanish\n",
              "    <span style=\"font-size: 0.8em; font-weight: bold; line-height: 1; border-radius: 0.35em; vertical-align: middle; margin-left: 0.5rem\">NORP</span>\n",
              "</mark>\n",
              " armada; \n",
              "<mark class=\"entity\" style=\"background: #aa9cfc; padding: 0.45em 0.6em; margin: 0 0.25em; line-height: 1; border-radius: 0.35em;\">\n",
              "    Gravesend\n",
              "    <span style=\"font-size: 0.8em; font-weight: bold; line-height: 1; border-radius: 0.35em; vertical-align: middle; margin-left: 0.5rem\">PERSON</span>\n",
              "</mark>\n",
              ", \n",
              "<mark class=\"entity\" style=\"background: #aa9cfc; padding: 0.45em 0.6em; margin: 0 0.25em; line-height: 1; border-radius: 0.35em;\">\n",
              "    Woolwich\n",
              "    <span style=\"font-size: 0.8em; font-weight: bold; line-height: 1; border-radius: 0.35em; vertical-align: middle; margin-left: 0.5rem\">PERSON</span>\n",
              "</mark>\n",
              ", and \n",
              "<mark class=\"entity\" style=\"background: #feca74; padding: 0.45em 0.6em; margin: 0 0.25em; line-height: 1; border-radius: 0.35em;\">\n",
              "    Greenwich\n",
              "    <span style=\"font-size: 0.8em; font-weight: bold; line-height: 1; border-radius: 0.35em; vertical-align: middle; margin-left: 0.5rem\">GPE</span>\n",
              "</mark>\n",
              ",</br>          places which I had heard of even in my country.</br>          </div></span>"
            ]
          },
          "metadata": {}
        }
      ]
    },
    {
      "cell_type": "markdown",
      "source": [
        "### en_core_web_md"
      ],
      "metadata": {
        "id": "e4fga07QqEfX"
      }
    },
    {
      "cell_type": "code",
      "source": [
        "import spacy\n",
        "from spacy import displacy\n",
        "from spacy.cli import download\n",
        "\n",
        "download(\"en_core_web_md\")\n",
        "\n",
        "\n",
        "\n",
        "nlp = spacy.load(\"en_core_web_md\")\n",
        "ex_sent = \"\"\"\n",
        "          Beyond Cologne we descended to the plains of Holland; and we resolved to\n",
        "          post the remainder of our way; for the wind was contrary, and the stream\n",
        "          of the river was too gentle to aid us.\n",
        "          Our journey here lost the interest arising from beautiful scenery; but\n",
        "          we arrived in a few days at Rotterdam, whence we proceeded by sea to\n",
        "          England. It was on a clear morning, in the latter days of December, that\n",
        "          I first saw the white cliffs of Britain. The banks of the Thames\n",
        "          presented a new scene; they were flat, but fertile, and almost every\n",
        "          town was marked by the remembrance of some story. We saw Tilbury Fort,\n",
        "          and remembered the Spanish armada; Gravesend, Woolwich, and Greenwich,\n",
        "          places which I had heard of even in my country.\n",
        "          \"\"\"\n",
        "\n",
        "displacy.render(nlp(ex_sent), jupyter=True, style=\"ent\")"
      ],
      "metadata": {
        "colab": {
          "base_uri": "https://localhost:8080/",
          "height": 472
        },
        "id": "8Y9LhVEOqH3v",
        "outputId": "f1b5360e-ffc4-446d-8534-fea6665645c6"
      },
      "execution_count": null,
      "outputs": [
        {
          "output_type": "stream",
          "name": "stdout",
          "text": [
            "\u001b[38;5;2m✔ Download and installation successful\u001b[0m\n",
            "You can now load the package via spacy.load('en_core_web_md')\n"
          ]
        },
        {
          "output_type": "display_data",
          "data": {
            "text/plain": [
              "<IPython.core.display.HTML object>"
            ],
            "text/html": [
              "<span class=\"tex2jax_ignore\"><div class=\"entities\" style=\"line-height: 2.5; direction: ltr\"><br>          Beyond \n",
              "<mark class=\"entity\" style=\"background: #feca74; padding: 0.45em 0.6em; margin: 0 0.25em; line-height: 1; border-radius: 0.35em;\">\n",
              "    Cologne\n",
              "    <span style=\"font-size: 0.8em; font-weight: bold; line-height: 1; border-radius: 0.35em; vertical-align: middle; margin-left: 0.5rem\">GPE</span>\n",
              "</mark>\n",
              " we descended to the plains of \n",
              "<mark class=\"entity\" style=\"background: #feca74; padding: 0.45em 0.6em; margin: 0 0.25em; line-height: 1; border-radius: 0.35em;\">\n",
              "    Holland\n",
              "    <span style=\"font-size: 0.8em; font-weight: bold; line-height: 1; border-radius: 0.35em; vertical-align: middle; margin-left: 0.5rem\">GPE</span>\n",
              "</mark>\n",
              "; and we resolved to<br>          post the remainder of our way; for the wind was contrary, and the stream<br>          of the river was too gentle to aid us.<br>          Our journey here lost the interest arising from beautiful scenery; but<br>          we arrived in \n",
              "<mark class=\"entity\" style=\"background: #bfe1d9; padding: 0.45em 0.6em; margin: 0 0.25em; line-height: 1; border-radius: 0.35em;\">\n",
              "    a few days\n",
              "    <span style=\"font-size: 0.8em; font-weight: bold; line-height: 1; border-radius: 0.35em; vertical-align: middle; margin-left: 0.5rem\">DATE</span>\n",
              "</mark>\n",
              " at \n",
              "<mark class=\"entity\" style=\"background: #feca74; padding: 0.45em 0.6em; margin: 0 0.25em; line-height: 1; border-radius: 0.35em;\">\n",
              "    Rotterdam\n",
              "    <span style=\"font-size: 0.8em; font-weight: bold; line-height: 1; border-radius: 0.35em; vertical-align: middle; margin-left: 0.5rem\">GPE</span>\n",
              "</mark>\n",
              ", whence we proceeded by sea to<br>          \n",
              "<mark class=\"entity\" style=\"background: #feca74; padding: 0.45em 0.6em; margin: 0 0.25em; line-height: 1; border-radius: 0.35em;\">\n",
              "    England\n",
              "    <span style=\"font-size: 0.8em; font-weight: bold; line-height: 1; border-radius: 0.35em; vertical-align: middle; margin-left: 0.5rem\">GPE</span>\n",
              "</mark>\n",
              ". It was on \n",
              "<mark class=\"entity\" style=\"background: #bfe1d9; padding: 0.45em 0.6em; margin: 0 0.25em; line-height: 1; border-radius: 0.35em;\">\n",
              "    a clear morning\n",
              "    <span style=\"font-size: 0.8em; font-weight: bold; line-height: 1; border-radius: 0.35em; vertical-align: middle; margin-left: 0.5rem\">TIME</span>\n",
              "</mark>\n",
              ", in \n",
              "<mark class=\"entity\" style=\"background: #bfe1d9; padding: 0.45em 0.6em; margin: 0 0.25em; line-height: 1; border-radius: 0.35em;\">\n",
              "    the latter days of December\n",
              "    <span style=\"font-size: 0.8em; font-weight: bold; line-height: 1; border-radius: 0.35em; vertical-align: middle; margin-left: 0.5rem\">DATE</span>\n",
              "</mark>\n",
              ", that<br>          I \n",
              "<mark class=\"entity\" style=\"background: #e4e7d2; padding: 0.45em 0.6em; margin: 0 0.25em; line-height: 1; border-radius: 0.35em;\">\n",
              "    first\n",
              "    <span style=\"font-size: 0.8em; font-weight: bold; line-height: 1; border-radius: 0.35em; vertical-align: middle; margin-left: 0.5rem\">ORDINAL</span>\n",
              "</mark>\n",
              " saw the white cliffs of \n",
              "<mark class=\"entity\" style=\"background: #feca74; padding: 0.45em 0.6em; margin: 0 0.25em; line-height: 1; border-radius: 0.35em;\">\n",
              "    Britain\n",
              "    <span style=\"font-size: 0.8em; font-weight: bold; line-height: 1; border-radius: 0.35em; vertical-align: middle; margin-left: 0.5rem\">GPE</span>\n",
              "</mark>\n",
              ". The banks of the Thames<br>          presented a new scene; they were flat, but fertile, and almost every<br>          town was marked by the remembrance of some story. We saw \n",
              "<mark class=\"entity\" style=\"background: #feca74; padding: 0.45em 0.6em; margin: 0 0.25em; line-height: 1; border-radius: 0.35em;\">\n",
              "    Tilbury Fort\n",
              "    <span style=\"font-size: 0.8em; font-weight: bold; line-height: 1; border-radius: 0.35em; vertical-align: middle; margin-left: 0.5rem\">GPE</span>\n",
              "</mark>\n",
              ",<br>          and remembered the \n",
              "<mark class=\"entity\" style=\"background: #c887fb; padding: 0.45em 0.6em; margin: 0 0.25em; line-height: 1; border-radius: 0.35em;\">\n",
              "    Spanish\n",
              "    <span style=\"font-size: 0.8em; font-weight: bold; line-height: 1; border-radius: 0.35em; vertical-align: middle; margin-left: 0.5rem\">NORP</span>\n",
              "</mark>\n",
              " armada; \n",
              "<mark class=\"entity\" style=\"background: #feca74; padding: 0.45em 0.6em; margin: 0 0.25em; line-height: 1; border-radius: 0.35em;\">\n",
              "    Gravesend\n",
              "    <span style=\"font-size: 0.8em; font-weight: bold; line-height: 1; border-radius: 0.35em; vertical-align: middle; margin-left: 0.5rem\">GPE</span>\n",
              "</mark>\n",
              ", \n",
              "<mark class=\"entity\" style=\"background: #feca74; padding: 0.45em 0.6em; margin: 0 0.25em; line-height: 1; border-radius: 0.35em;\">\n",
              "    Woolwich\n",
              "    <span style=\"font-size: 0.8em; font-weight: bold; line-height: 1; border-radius: 0.35em; vertical-align: middle; margin-left: 0.5rem\">GPE</span>\n",
              "</mark>\n",
              ", and \n",
              "<mark class=\"entity\" style=\"background: #feca74; padding: 0.45em 0.6em; margin: 0 0.25em; line-height: 1; border-radius: 0.35em;\">\n",
              "    Greenwich\n",
              "    <span style=\"font-size: 0.8em; font-weight: bold; line-height: 1; border-radius: 0.35em; vertical-align: middle; margin-left: 0.5rem\">GPE</span>\n",
              "</mark>\n",
              ",<br>          places which I had heard of even in my country.<br>          </div></span>"
            ]
          },
          "metadata": {}
        }
      ]
    },
    {
      "cell_type": "markdown",
      "source": [
        "### en_core_web_lg"
      ],
      "metadata": {
        "id": "aektEImXrRzf"
      }
    },
    {
      "cell_type": "code",
      "source": [
        "import spacy\n",
        "from spacy import displacy\n",
        "from spacy.cli import download\n",
        "\n",
        "download(\"en_core_web_lg\")\n",
        "\n",
        "\n",
        "\n",
        "nlp = spacy.load(\"en_core_web_lg\")\n",
        "ex_sent = \"\"\"\n",
        "          Beyond Cologne we descended to the plains of Holland; and we resolved to\n",
        "          post the remainder of our way; for the wind was contrary, and the stream\n",
        "          of the river was too gentle to aid us.\n",
        "          Our journey here lost the interest arising from beautiful scenery; but\n",
        "          we arrived in a few days at Rotterdam, whence we proceeded by sea to\n",
        "          England. It was on a clear morning, in the latter days of December, that\n",
        "          I first saw the white cliffs of Britain. The banks of the Thames\n",
        "          presented a new scene; they were flat, but fertile, and almost every\n",
        "          town was marked by the remembrance of some story. We saw Tilbury Fort,\n",
        "          and remembered the Spanish armada; Gravesend, Woolwich, and Greenwich,\n",
        "          places which I had heard of even in my country.\n",
        "          \"\"\"\n",
        "\n",
        "displacy.render(nlp(ex_sent), jupyter=True, style=\"ent\")"
      ],
      "metadata": {
        "colab": {
          "base_uri": "https://localhost:8080/",
          "height": 472
        },
        "id": "4sWvlt8nrSNO",
        "outputId": "8927a88e-150f-4be0-de7f-f065a6a98f22"
      },
      "execution_count": null,
      "outputs": [
        {
          "output_type": "stream",
          "name": "stdout",
          "text": [
            "\u001b[38;5;2m✔ Download and installation successful\u001b[0m\n",
            "You can now load the package via spacy.load('en_core_web_lg')\n"
          ]
        },
        {
          "output_type": "display_data",
          "data": {
            "text/plain": [
              "<IPython.core.display.HTML object>"
            ],
            "text/html": [
              "<span class=\"tex2jax_ignore\"><div class=\"entities\" style=\"line-height: 2.5; direction: ltr\"><br>          Beyond \n",
              "<mark class=\"entity\" style=\"background: #feca74; padding: 0.45em 0.6em; margin: 0 0.25em; line-height: 1; border-radius: 0.35em;\">\n",
              "    Cologne\n",
              "    <span style=\"font-size: 0.8em; font-weight: bold; line-height: 1; border-radius: 0.35em; vertical-align: middle; margin-left: 0.5rem\">GPE</span>\n",
              "</mark>\n",
              " we descended to the plains of \n",
              "<mark class=\"entity\" style=\"background: #feca74; padding: 0.45em 0.6em; margin: 0 0.25em; line-height: 1; border-radius: 0.35em;\">\n",
              "    Holland\n",
              "    <span style=\"font-size: 0.8em; font-weight: bold; line-height: 1; border-radius: 0.35em; vertical-align: middle; margin-left: 0.5rem\">GPE</span>\n",
              "</mark>\n",
              "; and we resolved to<br>          post the remainder of our way; for the wind was contrary, and the stream<br>          of the river was too gentle to aid us.<br>          Our journey here lost the interest arising from beautiful scenery; but<br>          we arrived in \n",
              "<mark class=\"entity\" style=\"background: #bfe1d9; padding: 0.45em 0.6em; margin: 0 0.25em; line-height: 1; border-radius: 0.35em;\">\n",
              "    a few days\n",
              "    <span style=\"font-size: 0.8em; font-weight: bold; line-height: 1; border-radius: 0.35em; vertical-align: middle; margin-left: 0.5rem\">DATE</span>\n",
              "</mark>\n",
              " at \n",
              "<mark class=\"entity\" style=\"background: #feca74; padding: 0.45em 0.6em; margin: 0 0.25em; line-height: 1; border-radius: 0.35em;\">\n",
              "    Rotterdam\n",
              "    <span style=\"font-size: 0.8em; font-weight: bold; line-height: 1; border-radius: 0.35em; vertical-align: middle; margin-left: 0.5rem\">GPE</span>\n",
              "</mark>\n",
              ", whence we proceeded by sea to<br>          \n",
              "<mark class=\"entity\" style=\"background: #feca74; padding: 0.45em 0.6em; margin: 0 0.25em; line-height: 1; border-radius: 0.35em;\">\n",
              "    England\n",
              "    <span style=\"font-size: 0.8em; font-weight: bold; line-height: 1; border-radius: 0.35em; vertical-align: middle; margin-left: 0.5rem\">GPE</span>\n",
              "</mark>\n",
              ". It was on \n",
              "<mark class=\"entity\" style=\"background: #bfe1d9; padding: 0.45em 0.6em; margin: 0 0.25em; line-height: 1; border-radius: 0.35em;\">\n",
              "    a clear morning\n",
              "    <span style=\"font-size: 0.8em; font-weight: bold; line-height: 1; border-radius: 0.35em; vertical-align: middle; margin-left: 0.5rem\">TIME</span>\n",
              "</mark>\n",
              ", in \n",
              "<mark class=\"entity\" style=\"background: #bfe1d9; padding: 0.45em 0.6em; margin: 0 0.25em; line-height: 1; border-radius: 0.35em;\">\n",
              "    the latter days of December\n",
              "    <span style=\"font-size: 0.8em; font-weight: bold; line-height: 1; border-radius: 0.35em; vertical-align: middle; margin-left: 0.5rem\">DATE</span>\n",
              "</mark>\n",
              ", that<br>          I \n",
              "<mark class=\"entity\" style=\"background: #e4e7d2; padding: 0.45em 0.6em; margin: 0 0.25em; line-height: 1; border-radius: 0.35em;\">\n",
              "    first\n",
              "    <span style=\"font-size: 0.8em; font-weight: bold; line-height: 1; border-radius: 0.35em; vertical-align: middle; margin-left: 0.5rem\">ORDINAL</span>\n",
              "</mark>\n",
              " saw the white cliffs of \n",
              "<mark class=\"entity\" style=\"background: #feca74; padding: 0.45em 0.6em; margin: 0 0.25em; line-height: 1; border-radius: 0.35em;\">\n",
              "    Britain\n",
              "    <span style=\"font-size: 0.8em; font-weight: bold; line-height: 1; border-radius: 0.35em; vertical-align: middle; margin-left: 0.5rem\">GPE</span>\n",
              "</mark>\n",
              ". The banks of the \n",
              "<mark class=\"entity\" style=\"background: #c887fb; padding: 0.45em 0.6em; margin: 0 0.25em; line-height: 1; border-radius: 0.35em;\">\n",
              "    Thames\n",
              "    <span style=\"font-size: 0.8em; font-weight: bold; line-height: 1; border-radius: 0.35em; vertical-align: middle; margin-left: 0.5rem\">NORP</span>\n",
              "</mark>\n",
              "<br>          presented a new scene; they were flat, but fertile, and almost every<br>          town was marked by the remembrance of some story. We saw \n",
              "<mark class=\"entity\" style=\"background: #feca74; padding: 0.45em 0.6em; margin: 0 0.25em; line-height: 1; border-radius: 0.35em;\">\n",
              "    Tilbury Fort\n",
              "    <span style=\"font-size: 0.8em; font-weight: bold; line-height: 1; border-radius: 0.35em; vertical-align: middle; margin-left: 0.5rem\">GPE</span>\n",
              "</mark>\n",
              ",<br>          and remembered the \n",
              "<mark class=\"entity\" style=\"background: #c887fb; padding: 0.45em 0.6em; margin: 0 0.25em; line-height: 1; border-radius: 0.35em;\">\n",
              "    Spanish\n",
              "    <span style=\"font-size: 0.8em; font-weight: bold; line-height: 1; border-radius: 0.35em; vertical-align: middle; margin-left: 0.5rem\">NORP</span>\n",
              "</mark>\n",
              " armada; \n",
              "<mark class=\"entity\" style=\"background: #7aecec; padding: 0.45em 0.6em; margin: 0 0.25em; line-height: 1; border-radius: 0.35em;\">\n",
              "    Gravesend, Woolwich\n",
              "    <span style=\"font-size: 0.8em; font-weight: bold; line-height: 1; border-radius: 0.35em; vertical-align: middle; margin-left: 0.5rem\">ORG</span>\n",
              "</mark>\n",
              ", and \n",
              "<mark class=\"entity\" style=\"background: #feca74; padding: 0.45em 0.6em; margin: 0 0.25em; line-height: 1; border-radius: 0.35em;\">\n",
              "    Greenwich\n",
              "    <span style=\"font-size: 0.8em; font-weight: bold; line-height: 1; border-radius: 0.35em; vertical-align: middle; margin-left: 0.5rem\">GPE</span>\n",
              "</mark>\n",
              ",<br>          places which I had heard of even in my country.<br>          </div></span>"
            ]
          },
          "metadata": {}
        }
      ]
    },
    {
      "cell_type": "markdown",
      "source": [
        "### SpaCy & Transformers"
      ],
      "metadata": {
        "id": "FYADy4x0NhAW"
      }
    },
    {
      "cell_type": "code",
      "source": [
        "!pip install -q spacy[transformers]"
      ],
      "metadata": {
        "id": "NxIt0h9INgnI",
        "colab": {
          "base_uri": "https://localhost:8080/"
        },
        "outputId": "50bf2cbb-5231-47ea-8672-905f37a2582a"
      },
      "execution_count": null,
      "outputs": [
        {
          "output_type": "stream",
          "name": "stdout",
          "text": [
            "\u001b[2K     \u001b[90m━━━━━━━━━━━━━━━━━━━━━━━━━━━━━━━━━━━━━━━\u001b[0m \u001b[32m190.8/190.8 kB\u001b[0m \u001b[31m2.9 MB/s\u001b[0m eta \u001b[36m0:00:00\u001b[0m\n",
            "\u001b[2K     \u001b[90m━━━━━━━━━━━━━━━━━━━━━━━━━━━━━━━━━━━━━━━━\u001b[0m \u001b[32m7.2/7.2 MB\u001b[0m \u001b[31m17.3 MB/s\u001b[0m eta \u001b[36m0:00:00\u001b[0m\n",
            "\u001b[2K     \u001b[90m━━━━━━━━━━━━━━━━━━━━━━━━━━━━━━━━━━━━━━━━\u001b[0m \u001b[32m1.2/1.2 MB\u001b[0m \u001b[31m27.2 MB/s\u001b[0m eta \u001b[36m0:00:00\u001b[0m\n",
            "\u001b[2K     \u001b[90m━━━━━━━━━━━━━━━━━━━━━━━━━━━━━━━━━━━━━━\u001b[0m \u001b[32m268.8/268.8 kB\u001b[0m \u001b[31m25.5 MB/s\u001b[0m eta \u001b[36m0:00:00\u001b[0m\n",
            "\u001b[2K     \u001b[90m━━━━━━━━━━━━━━━━━━━━━━━━━━━━━━━━━━━━━━━━\u001b[0m \u001b[32m7.8/7.8 MB\u001b[0m \u001b[31m42.6 MB/s\u001b[0m eta \u001b[36m0:00:00\u001b[0m\n",
            "\u001b[2K     \u001b[90m━━━━━━━━━━━━━━━━━━━━━━━━━━━━━━━━━━━━━━━━\u001b[0m \u001b[32m1.3/1.3 MB\u001b[0m \u001b[31m47.8 MB/s\u001b[0m eta \u001b[36m0:00:00\u001b[0m\n",
            "\u001b[?25h"
          ]
        }
      ]
    },
    {
      "cell_type": "code",
      "source": [
        "from spacy.cli import download\n",
        "download(\"en_core_web_trf\")"
      ],
      "metadata": {
        "colab": {
          "base_uri": "https://localhost:8080/"
        },
        "id": "Z9diTi4VblMq",
        "outputId": "afa38c2a-9ffd-4c70-ad28-f992f9535f73"
      },
      "execution_count": null,
      "outputs": [
        {
          "output_type": "stream",
          "name": "stdout",
          "text": [
            "\u001b[38;5;2m✔ Download and installation successful\u001b[0m\n",
            "You can now load the package via spacy.load('en_core_web_trf')\n"
          ]
        }
      ]
    },
    {
      "cell_type": "code",
      "source": [
        "import spacy\n",
        "import spacy_transformers\n",
        "from spacy import displacy\n",
        "\n",
        "\n",
        "\n",
        "nlp = spacy.load(\"en_core_web_trf\")\n",
        "ex_sent = \"\"\"\n",
        "          Beyond Cologne we descended to the plains of Holland; and we resolved to\n",
        "          post the remainder of our way; for the wind was contrary, and the stream\n",
        "          of the river was too gentle to aid us.\n",
        "          Our journey here lost the interest arising from beautiful scenery; but\n",
        "          we arrived in a few days at Rotterdam, whence we proceeded by sea to\n",
        "          England. It was on a clear morning, in the latter days of December, that\n",
        "          I first saw the white cliffs of Britain. The banks of the Thames\n",
        "          presented a new scene; they were flat, but fertile, and almost every\n",
        "          town was marked by the remembrance of some story. We saw Tilbury Fort,\n",
        "          and remembered the Spanish armada; Gravesend, Woolwich, and Greenwich,\n",
        "          places which I had heard of even in my country.\n",
        "          \"\"\"\n",
        "ent_analyse = nlp(ex_sent)\n",
        "displacy.render(ent_analyse, jupyter=True, style=\"ent\")\n",
        "\n"
      ],
      "metadata": {
        "colab": {
          "base_uri": "https://localhost:8080/",
          "height": 437
        },
        "id": "hRx0v964NpfG",
        "outputId": "a22365fa-a8cc-4682-b325-fff5fb972a91"
      },
      "execution_count": null,
      "outputs": [
        {
          "output_type": "display_data",
          "data": {
            "text/plain": [
              "<IPython.core.display.HTML object>"
            ],
            "text/html": [
              "<span class=\"tex2jax_ignore\"><div class=\"entities\" style=\"line-height: 2.5; direction: ltr\"><br>          Beyond \n",
              "<mark class=\"entity\" style=\"background: #feca74; padding: 0.45em 0.6em; margin: 0 0.25em; line-height: 1; border-radius: 0.35em;\">\n",
              "    Cologne\n",
              "    <span style=\"font-size: 0.8em; font-weight: bold; line-height: 1; border-radius: 0.35em; vertical-align: middle; margin-left: 0.5rem\">GPE</span>\n",
              "</mark>\n",
              " we descended to the plains of \n",
              "<mark class=\"entity\" style=\"background: #feca74; padding: 0.45em 0.6em; margin: 0 0.25em; line-height: 1; border-radius: 0.35em;\">\n",
              "    Holland\n",
              "    <span style=\"font-size: 0.8em; font-weight: bold; line-height: 1; border-radius: 0.35em; vertical-align: middle; margin-left: 0.5rem\">GPE</span>\n",
              "</mark>\n",
              "; and we resolved to<br>          post the remainder of our way; for the wind was contrary, and the stream<br>          of the river was too gentle to aid us.<br>          Our journey here lost the interest arising from beautiful scenery; but<br>          we arrived in \n",
              "<mark class=\"entity\" style=\"background: #bfe1d9; padding: 0.45em 0.6em; margin: 0 0.25em; line-height: 1; border-radius: 0.35em;\">\n",
              "    a few days\n",
              "    <span style=\"font-size: 0.8em; font-weight: bold; line-height: 1; border-radius: 0.35em; vertical-align: middle; margin-left: 0.5rem\">DATE</span>\n",
              "</mark>\n",
              " at \n",
              "<mark class=\"entity\" style=\"background: #feca74; padding: 0.45em 0.6em; margin: 0 0.25em; line-height: 1; border-radius: 0.35em;\">\n",
              "    Rotterdam\n",
              "    <span style=\"font-size: 0.8em; font-weight: bold; line-height: 1; border-radius: 0.35em; vertical-align: middle; margin-left: 0.5rem\">GPE</span>\n",
              "</mark>\n",
              ", whence we proceeded by sea to<br>          \n",
              "<mark class=\"entity\" style=\"background: #feca74; padding: 0.45em 0.6em; margin: 0 0.25em; line-height: 1; border-radius: 0.35em;\">\n",
              "    England\n",
              "    <span style=\"font-size: 0.8em; font-weight: bold; line-height: 1; border-radius: 0.35em; vertical-align: middle; margin-left: 0.5rem\">GPE</span>\n",
              "</mark>\n",
              ". It was on a clear morning, in \n",
              "<mark class=\"entity\" style=\"background: #bfe1d9; padding: 0.45em 0.6em; margin: 0 0.25em; line-height: 1; border-radius: 0.35em;\">\n",
              "    the latter days\n",
              "    <span style=\"font-size: 0.8em; font-weight: bold; line-height: 1; border-radius: 0.35em; vertical-align: middle; margin-left: 0.5rem\">DATE</span>\n",
              "</mark>\n",
              " of \n",
              "<mark class=\"entity\" style=\"background: #bfe1d9; padding: 0.45em 0.6em; margin: 0 0.25em; line-height: 1; border-radius: 0.35em;\">\n",
              "    December\n",
              "    <span style=\"font-size: 0.8em; font-weight: bold; line-height: 1; border-radius: 0.35em; vertical-align: middle; margin-left: 0.5rem\">DATE</span>\n",
              "</mark>\n",
              ", that<br>          I first saw the white cliffs of \n",
              "<mark class=\"entity\" style=\"background: #feca74; padding: 0.45em 0.6em; margin: 0 0.25em; line-height: 1; border-radius: 0.35em;\">\n",
              "    Britain\n",
              "    <span style=\"font-size: 0.8em; font-weight: bold; line-height: 1; border-radius: 0.35em; vertical-align: middle; margin-left: 0.5rem\">GPE</span>\n",
              "</mark>\n",
              ". The banks of the \n",
              "<mark class=\"entity\" style=\"background: #ff9561; padding: 0.45em 0.6em; margin: 0 0.25em; line-height: 1; border-radius: 0.35em;\">\n",
              "    Thames\n",
              "    <span style=\"font-size: 0.8em; font-weight: bold; line-height: 1; border-radius: 0.35em; vertical-align: middle; margin-left: 0.5rem\">LOC</span>\n",
              "</mark>\n",
              "<br>          presented a new scene; they were flat, but fertile, and almost every<br>          town was marked by the remembrance of some story. We saw \n",
              "<mark class=\"entity\" style=\"background: #9cc9cc; padding: 0.45em 0.6em; margin: 0 0.25em; line-height: 1; border-radius: 0.35em;\">\n",
              "    Tilbury Fort\n",
              "    <span style=\"font-size: 0.8em; font-weight: bold; line-height: 1; border-radius: 0.35em; vertical-align: middle; margin-left: 0.5rem\">FAC</span>\n",
              "</mark>\n",
              ",<br>          and remembered the \n",
              "<mark class=\"entity\" style=\"background: #c887fb; padding: 0.45em 0.6em; margin: 0 0.25em; line-height: 1; border-radius: 0.35em;\">\n",
              "    Spanish\n",
              "    <span style=\"font-size: 0.8em; font-weight: bold; line-height: 1; border-radius: 0.35em; vertical-align: middle; margin-left: 0.5rem\">NORP</span>\n",
              "</mark>\n",
              " armada; \n",
              "<mark class=\"entity\" style=\"background: #feca74; padding: 0.45em 0.6em; margin: 0 0.25em; line-height: 1; border-radius: 0.35em;\">\n",
              "    Gravesend\n",
              "    <span style=\"font-size: 0.8em; font-weight: bold; line-height: 1; border-radius: 0.35em; vertical-align: middle; margin-left: 0.5rem\">GPE</span>\n",
              "</mark>\n",
              ", \n",
              "<mark class=\"entity\" style=\"background: #feca74; padding: 0.45em 0.6em; margin: 0 0.25em; line-height: 1; border-radius: 0.35em;\">\n",
              "    Woolwich\n",
              "    <span style=\"font-size: 0.8em; font-weight: bold; line-height: 1; border-radius: 0.35em; vertical-align: middle; margin-left: 0.5rem\">GPE</span>\n",
              "</mark>\n",
              ", and \n",
              "<mark class=\"entity\" style=\"background: #feca74; padding: 0.45em 0.6em; margin: 0 0.25em; line-height: 1; border-radius: 0.35em;\">\n",
              "    Greenwich\n",
              "    <span style=\"font-size: 0.8em; font-weight: bold; line-height: 1; border-radius: 0.35em; vertical-align: middle; margin-left: 0.5rem\">GPE</span>\n",
              "</mark>\n",
              ",<br>          places which I had heard of even in my country.<br>          </div></span>"
            ]
          },
          "metadata": {}
        }
      ]
    },
    {
      "cell_type": "code",
      "source": [
        "# Die Entitäten kann man auch mit anderer Form herholen.\n",
        "# In unteren Beispiel wollen wir Orte in dem Text herausfischen:\n",
        "for ent in ent_analyse.ents:\n",
        "    if ent.label_ == \"LOC\" or ent.label_ == \"GPE\" or ent.label_ == \"FAC\":\n",
        "        tup = ( ent.text, ent.start_char, ent.end_char, ent.label_)\n",
        "        print(tup)"
      ],
      "metadata": {
        "colab": {
          "base_uri": "https://localhost:8080/"
        },
        "id": "koBm1XWo3qtE",
        "outputId": "1fe76f9c-c2dc-46bb-d762-b3c797eaf7f3"
      },
      "execution_count": null,
      "outputs": [
        {
          "output_type": "stream",
          "name": "stdout",
          "text": [
            "('Cologne', 18, 25, 'GPE')\n",
            "('Holland', 56, 63, 'GPE')\n",
            "('Rotterdam', 335, 344, 'GPE')\n",
            "('England', 386, 393, 'GPE')\n",
            "('Britain', 501, 508, 'GPE')\n",
            "('Thames', 527, 533, 'LOC')\n",
            "('Tilbury Fort', 680, 692, 'FAC')\n",
            "('Gravesend', 739, 748, 'GPE')\n",
            "('Woolwich', 750, 758, 'GPE')\n",
            "('Greenwich', 764, 773, 'GPE')\n"
          ]
        }
      ]
    },
    {
      "cell_type": "markdown",
      "source": [
        "Solange wir die Beispiele angeschaut haben, scheint das Modell \"en_core_web_trf\" das beste Ergebnis zu liefern. Weil wir jetzt auf der \"Dokument\"-Level die Entitäten angeschaut haben, ist Ortsname aus 2 Wörter (\"Tilbury Fort\") auch als eine Entität behandelt.\n",
        "\n",
        "Man kann natürlih auf der \"Token\"-Ebene dies betrachten:"
      ],
      "metadata": {
        "id": "_deyBh6-9wSA"
      }
    },
    {
      "cell_type": "code",
      "source": [
        "for tok in ent_analyse:\n",
        "    if tok.ent_type_ == \"FAC\":\n",
        "        tup = (tok.text, tok.ent_iob_, tok.ent_type_)\n",
        "        print(tup)"
      ],
      "metadata": {
        "colab": {
          "base_uri": "https://localhost:8080/"
        },
        "id": "1UbTAJVz9gXH",
        "outputId": "bb185c4f-37a7-4042-9dba-d61b911b4b9b"
      },
      "execution_count": null,
      "outputs": [
        {
          "output_type": "stream",
          "name": "stdout",
          "text": [
            "('Tilbury', 'B', 'FAC')\n",
            "('Fort', 'I', 'FAC')\n"
          ]
        }
      ]
    },
    {
      "cell_type": "markdown",
      "source": [
        "\n",
        "SpaCy markiert die Tokens auch nach IOB Format."
      ],
      "metadata": {
        "id": "ElcilktXBq1z"
      }
    },
    {
      "cell_type": "markdown",
      "source": [
        "In dem Beispel haben wir die Sätze nicht getrennt. Dies ist ungünstig, wenn man sehr lange Passage oder ger einen ganzen Roman analysieren möchte.\n"
      ],
      "metadata": {
        "id": "11UYRGGVudcu"
      }
    },
    {
      "cell_type": "markdown",
      "source": [
        "## Quiz\n",
        "\n",
        "Holen wir einen anderen Textschnitt irgendwo und unterziehen wir ihm der NER-Analyse.\n",
        "\n",
        "...Weil wir bisher Englische Texte genommen habe, könnte man natürlich Englische Texte nehmen. Wenn man Deutsche Texte nehmen wollt, könnt ihr natürlich ausprobieren. [Hier](https://spacy.io/models/de) sind die vortrainierten Modelle für Deutsche Sprache zu finden.\n",
        "\n"
      ],
      "metadata": {
        "id": "mdgvvPWaDhia"
      }
    },
    {
      "cell_type": "markdown",
      "source": [
        "## Wofür NER?\n",
        "\n",
        "Hier denken wir über eine mögliche Einsatzszenario..."
      ],
      "metadata": {
        "id": "oPXkV96Abd1t"
      }
    },
    {
      "cell_type": "code",
      "source": [
        "!pip install -q geopy"
      ],
      "metadata": {
        "id": "y342GUCvfNV1"
      },
      "execution_count": null,
      "outputs": []
    },
    {
      "cell_type": "code",
      "source": [
        "from spacy.cli import download\n",
        "download(\"en_core_web_trf\")"
      ],
      "metadata": {
        "id": "VUWBfEUJZVpl",
        "colab": {
          "base_uri": "https://localhost:8080/"
        },
        "outputId": "01124337-1dc2-436b-ce02-7b06cabc7f08"
      },
      "execution_count": null,
      "outputs": [
        {
          "output_type": "stream",
          "name": "stdout",
          "text": [
            "\u001b[38;5;2m✔ Download and installation successful\u001b[0m\n",
            "You can now load the package via spacy.load('en_core_web_trf')\n"
          ]
        }
      ]
    },
    {
      "cell_type": "code",
      "source": [
        "import spacy\n",
        "import spacy_transformers\n",
        "\n",
        "nlp = spacy.load(\"en_core_web_trf\")\n",
        "ex_sent = \"\"\"\n",
        "          Beyond Cologne we descended to the plains of Holland; and we resolved to\n",
        "          post the remainder of our way; for the wind was contrary, and the stream\n",
        "          of the river was too gentle to aid us.\n",
        "          Our journey here lost the interest arising from beautiful scenery; but\n",
        "          we arrived in a few days at Rotterdam, whence we proceeded by sea to\n",
        "          England. It was on a clear morning, in the latter days of December, that\n",
        "          I first saw the white cliffs of Britain. The banks of the Thames\n",
        "          presented a new scene; they were flat, but fertile, and almost every\n",
        "          town was marked by the remembrance of some story. We saw Tilbury Fort,\n",
        "          and remembered the Spanish armada; Gravesend, Woolwich, and Greenwich,\n",
        "          places which I had heard of even in my country.\n",
        "          \"\"\"\n",
        "\n",
        "ent_analyse = nlp(ex_sent)\n",
        "locations = []\n",
        "for ent in ent_analyse.ents:\n",
        "    if ent.label_ == \"LOC\" or ent.label_ == \"GPE\" or ent.label_ == \"FAC\":\n",
        "        locations.append(ent.text)\n"
      ],
      "metadata": {
        "id": "paxH2ZpcceHl"
      },
      "execution_count": null,
      "outputs": []
    },
    {
      "cell_type": "code",
      "source": [
        "from geopy.geocoders import Nominatim\n",
        "geolocator = Nominatim(user_agent=\"ner_use_case\")\n",
        "\n",
        "geo_codes = []\n",
        "for loc in locations:\n",
        "    location = geolocator.geocode(loc)\n",
        "    geo_codes.append([location.latitude, location.longitude])\n",
        "print(geo_codes)"
      ],
      "metadata": {
        "colab": {
          "base_uri": "https://localhost:8080/"
        },
        "id": "ktM2pJowg2XU",
        "outputId": "7154a4c1-fb8d-4e0c-de76-cb0b13014c62"
      },
      "execution_count": null,
      "outputs": [
        {
          "output_type": "stream",
          "name": "stdout",
          "text": [
            "[[50.938361, 6.959974], [52.2434979, 5.6343227], [51.9244424, 4.47775], [52.5310214, -1.2649062], [54.7023545, -3.2765753], [51.5575525, -0.781404], [51.453058299999995, 0.3747360852853912], [51.4424747, 0.3694468], [51.4826696, 0.0623335], [51.46862565, 0.04883057313755089]]\n"
          ]
        }
      ]
    },
    {
      "cell_type": "code",
      "source": [
        "import folium\n",
        "\n",
        "tile_name = \"cartodbdark_matter\"\n",
        "\n",
        "map = folium.Map(\n",
        "    location=[52.2434979, 5.6343227],\n",
        "    zoom_start=4,\n",
        "    tiles=tile_name\n",
        ")\n",
        "\n",
        "\n",
        "markers = folium.FeatureGroup(name=\"test\")\n",
        "for ortsname, loc in zip(locations, geo_codes):\n",
        "    # Die Markers jetzt zu der FeatureGroup hinzufügen\n",
        "    folium.Marker(location=loc, popup=ortsname).add_to(markers)\n",
        "\n",
        "markers.add_to(map)\n",
        "folium.LayerControl().add_to(map)\n",
        "\n",
        "map"
      ],
      "metadata": {
        "colab": {
          "base_uri": "https://localhost:8080/",
          "height": 402
        },
        "id": "fK4oiSdyibEa",
        "outputId": "1b3be21b-6bca-4bf9-e134-ead2f805ec33"
      },
      "execution_count": null,
      "outputs": [
        {
          "output_type": "execute_result",
          "data": {
            "text/plain": [
              "<folium.folium.Map at 0x7eba44b95e10>"
            ],
            "text/html": [
              "<div style=\"width:100%;\"><div style=\"position:relative;width:100%;height:0;padding-bottom:60%;\"><span style=\"color:#565656\">Make this Notebook Trusted to load map: File -> Trust Notebook</span><iframe srcdoc=\"&lt;!DOCTYPE html&gt;\n",
              "&lt;html&gt;\n",
              "&lt;head&gt;\n",
              "    \n",
              "    &lt;meta http-equiv=&quot;content-type&quot; content=&quot;text/html; charset=UTF-8&quot; /&gt;\n",
              "    \n",
              "        &lt;script&gt;\n",
              "            L_NO_TOUCH = false;\n",
              "            L_DISABLE_3D = false;\n",
              "        &lt;/script&gt;\n",
              "    \n",
              "    &lt;style&gt;html, body {width: 100%;height: 100%;margin: 0;padding: 0;}&lt;/style&gt;\n",
              "    &lt;style&gt;#map {position:absolute;top:0;bottom:0;right:0;left:0;}&lt;/style&gt;\n",
              "    &lt;script src=&quot;https://cdn.jsdelivr.net/npm/leaflet@1.9.3/dist/leaflet.js&quot;&gt;&lt;/script&gt;\n",
              "    &lt;script src=&quot;https://code.jquery.com/jquery-1.12.4.min.js&quot;&gt;&lt;/script&gt;\n",
              "    &lt;script src=&quot;https://cdn.jsdelivr.net/npm/bootstrap@5.2.2/dist/js/bootstrap.bundle.min.js&quot;&gt;&lt;/script&gt;\n",
              "    &lt;script src=&quot;https://cdnjs.cloudflare.com/ajax/libs/Leaflet.awesome-markers/2.0.2/leaflet.awesome-markers.js&quot;&gt;&lt;/script&gt;\n",
              "    &lt;link rel=&quot;stylesheet&quot; href=&quot;https://cdn.jsdelivr.net/npm/leaflet@1.9.3/dist/leaflet.css&quot;/&gt;\n",
              "    &lt;link rel=&quot;stylesheet&quot; href=&quot;https://cdn.jsdelivr.net/npm/bootstrap@5.2.2/dist/css/bootstrap.min.css&quot;/&gt;\n",
              "    &lt;link rel=&quot;stylesheet&quot; href=&quot;https://netdna.bootstrapcdn.com/bootstrap/3.0.0/css/bootstrap.min.css&quot;/&gt;\n",
              "    &lt;link rel=&quot;stylesheet&quot; href=&quot;https://cdn.jsdelivr.net/npm/@fortawesome/fontawesome-free@6.2.0/css/all.min.css&quot;/&gt;\n",
              "    &lt;link rel=&quot;stylesheet&quot; href=&quot;https://cdnjs.cloudflare.com/ajax/libs/Leaflet.awesome-markers/2.0.2/leaflet.awesome-markers.css&quot;/&gt;\n",
              "    &lt;link rel=&quot;stylesheet&quot; href=&quot;https://cdn.jsdelivr.net/gh/python-visualization/folium/folium/templates/leaflet.awesome.rotate.min.css&quot;/&gt;\n",
              "    \n",
              "            &lt;meta name=&quot;viewport&quot; content=&quot;width=device-width,\n",
              "                initial-scale=1.0, maximum-scale=1.0, user-scalable=no&quot; /&gt;\n",
              "            &lt;style&gt;\n",
              "                #map_3cd616b955835c675ade32d4ef609450 {\n",
              "                    position: relative;\n",
              "                    width: 100.0%;\n",
              "                    height: 100.0%;\n",
              "                    left: 0.0%;\n",
              "                    top: 0.0%;\n",
              "                }\n",
              "                .leaflet-container { font-size: 1rem; }\n",
              "            &lt;/style&gt;\n",
              "        \n",
              "&lt;/head&gt;\n",
              "&lt;body&gt;\n",
              "    \n",
              "    \n",
              "            &lt;div class=&quot;folium-map&quot; id=&quot;map_3cd616b955835c675ade32d4ef609450&quot; &gt;&lt;/div&gt;\n",
              "        \n",
              "&lt;/body&gt;\n",
              "&lt;script&gt;\n",
              "    \n",
              "    \n",
              "            var map_3cd616b955835c675ade32d4ef609450 = L.map(\n",
              "                &quot;map_3cd616b955835c675ade32d4ef609450&quot;,\n",
              "                {\n",
              "                    center: [52.2434979, 5.6343227],\n",
              "                    crs: L.CRS.EPSG3857,\n",
              "                    zoom: 4,\n",
              "                    zoomControl: true,\n",
              "                    preferCanvas: false,\n",
              "                }\n",
              "            );\n",
              "\n",
              "            \n",
              "\n",
              "        \n",
              "    \n",
              "            var tile_layer_59863cf8630139a7a6655724493efea0 = L.tileLayer(\n",
              "                &quot;https://cartodb-basemaps-{s}.global.ssl.fastly.net/dark_all/{z}/{x}/{y}.png&quot;,\n",
              "                {&quot;attribution&quot;: &quot;\\u0026copy; \\u003ca target=\\&quot;_blank\\&quot; href=\\&quot;http://www.openstreetmap.org/copyright\\&quot;\\u003eOpenStreetMap\\u003c/a\\u003e contributors \\u0026copy; \\u003ca target=\\&quot;_blank\\&quot; href=\\&quot;http://cartodb.com/attributions\\&quot;\\u003eCartoDB\\u003c/a\\u003e, CartoDB \\u003ca target=\\&quot;_blank\\&quot; href =\\&quot;http://cartodb.com/attributions\\&quot;\\u003eattributions\\u003c/a\\u003e&quot;, &quot;detectRetina&quot;: false, &quot;maxNativeZoom&quot;: 18, &quot;maxZoom&quot;: 18, &quot;minZoom&quot;: 0, &quot;noWrap&quot;: false, &quot;opacity&quot;: 1, &quot;subdomains&quot;: &quot;abc&quot;, &quot;tms&quot;: false}\n",
              "            ).addTo(map_3cd616b955835c675ade32d4ef609450);\n",
              "        \n",
              "    \n",
              "            var feature_group_150f05f5e286c9a8623304c87935fa00 = L.featureGroup(\n",
              "                {}\n",
              "            ).addTo(map_3cd616b955835c675ade32d4ef609450);\n",
              "        \n",
              "    \n",
              "            var marker_9b9c3448840725b8c7f908a4a7a74b67 = L.marker(\n",
              "                [50.938361, 6.959974],\n",
              "                {}\n",
              "            ).addTo(feature_group_150f05f5e286c9a8623304c87935fa00);\n",
              "        \n",
              "    \n",
              "        var popup_42d88c012817a9ce1f5af8479995dbdf = L.popup({&quot;maxWidth&quot;: &quot;100%&quot;});\n",
              "\n",
              "        \n",
              "            \n",
              "                var html_62b6060613b509c2ff05aae730143bdd = $(`&lt;div id=&quot;html_62b6060613b509c2ff05aae730143bdd&quot; style=&quot;width: 100.0%; height: 100.0%;&quot;&gt;Cologne&lt;/div&gt;`)[0];\n",
              "                popup_42d88c012817a9ce1f5af8479995dbdf.setContent(html_62b6060613b509c2ff05aae730143bdd);\n",
              "            \n",
              "        \n",
              "\n",
              "        marker_9b9c3448840725b8c7f908a4a7a74b67.bindPopup(popup_42d88c012817a9ce1f5af8479995dbdf)\n",
              "        ;\n",
              "\n",
              "        \n",
              "    \n",
              "    \n",
              "            var marker_8b60b1353a8034e2a7ba27fd252879a5 = L.marker(\n",
              "                [52.2434979, 5.6343227],\n",
              "                {}\n",
              "            ).addTo(feature_group_150f05f5e286c9a8623304c87935fa00);\n",
              "        \n",
              "    \n",
              "        var popup_71aa1597c89f5c82924c787e82c1f3ae = L.popup({&quot;maxWidth&quot;: &quot;100%&quot;});\n",
              "\n",
              "        \n",
              "            \n",
              "                var html_d0e212cdee56e2afaaa326e14be7ab7f = $(`&lt;div id=&quot;html_d0e212cdee56e2afaaa326e14be7ab7f&quot; style=&quot;width: 100.0%; height: 100.0%;&quot;&gt;Holland&lt;/div&gt;`)[0];\n",
              "                popup_71aa1597c89f5c82924c787e82c1f3ae.setContent(html_d0e212cdee56e2afaaa326e14be7ab7f);\n",
              "            \n",
              "        \n",
              "\n",
              "        marker_8b60b1353a8034e2a7ba27fd252879a5.bindPopup(popup_71aa1597c89f5c82924c787e82c1f3ae)\n",
              "        ;\n",
              "\n",
              "        \n",
              "    \n",
              "    \n",
              "            var marker_ee302a74fb5c7faf1489a676a50ce5c1 = L.marker(\n",
              "                [51.9244424, 4.47775],\n",
              "                {}\n",
              "            ).addTo(feature_group_150f05f5e286c9a8623304c87935fa00);\n",
              "        \n",
              "    \n",
              "        var popup_e1262c163fcbf0cae65cd77c5fa3504e = L.popup({&quot;maxWidth&quot;: &quot;100%&quot;});\n",
              "\n",
              "        \n",
              "            \n",
              "                var html_21a10a4f77f0ec93f96655fb1ac72304 = $(`&lt;div id=&quot;html_21a10a4f77f0ec93f96655fb1ac72304&quot; style=&quot;width: 100.0%; height: 100.0%;&quot;&gt;Rotterdam&lt;/div&gt;`)[0];\n",
              "                popup_e1262c163fcbf0cae65cd77c5fa3504e.setContent(html_21a10a4f77f0ec93f96655fb1ac72304);\n",
              "            \n",
              "        \n",
              "\n",
              "        marker_ee302a74fb5c7faf1489a676a50ce5c1.bindPopup(popup_e1262c163fcbf0cae65cd77c5fa3504e)\n",
              "        ;\n",
              "\n",
              "        \n",
              "    \n",
              "    \n",
              "            var marker_ddffc62668ae533806620d4862da88d4 = L.marker(\n",
              "                [52.5310214, -1.2649062],\n",
              "                {}\n",
              "            ).addTo(feature_group_150f05f5e286c9a8623304c87935fa00);\n",
              "        \n",
              "    \n",
              "        var popup_a6644863c8b17c81ef5ab0ca4e91991a = L.popup({&quot;maxWidth&quot;: &quot;100%&quot;});\n",
              "\n",
              "        \n",
              "            \n",
              "                var html_d6bd2cd120155a6fa98c755fce89be32 = $(`&lt;div id=&quot;html_d6bd2cd120155a6fa98c755fce89be32&quot; style=&quot;width: 100.0%; height: 100.0%;&quot;&gt;England&lt;/div&gt;`)[0];\n",
              "                popup_a6644863c8b17c81ef5ab0ca4e91991a.setContent(html_d6bd2cd120155a6fa98c755fce89be32);\n",
              "            \n",
              "        \n",
              "\n",
              "        marker_ddffc62668ae533806620d4862da88d4.bindPopup(popup_a6644863c8b17c81ef5ab0ca4e91991a)\n",
              "        ;\n",
              "\n",
              "        \n",
              "    \n",
              "    \n",
              "            var marker_5dff50bdd1759dcf085c1565d221b494 = L.marker(\n",
              "                [54.7023545, -3.2765753],\n",
              "                {}\n",
              "            ).addTo(feature_group_150f05f5e286c9a8623304c87935fa00);\n",
              "        \n",
              "    \n",
              "        var popup_aa6b48682aa46aed4130a21c2129c045 = L.popup({&quot;maxWidth&quot;: &quot;100%&quot;});\n",
              "\n",
              "        \n",
              "            \n",
              "                var html_e9e54b953d8fcba099c3004d833cb62d = $(`&lt;div id=&quot;html_e9e54b953d8fcba099c3004d833cb62d&quot; style=&quot;width: 100.0%; height: 100.0%;&quot;&gt;Britain&lt;/div&gt;`)[0];\n",
              "                popup_aa6b48682aa46aed4130a21c2129c045.setContent(html_e9e54b953d8fcba099c3004d833cb62d);\n",
              "            \n",
              "        \n",
              "\n",
              "        marker_5dff50bdd1759dcf085c1565d221b494.bindPopup(popup_aa6b48682aa46aed4130a21c2129c045)\n",
              "        ;\n",
              "\n",
              "        \n",
              "    \n",
              "    \n",
              "            var marker_f8923ac0b237c006951d9bc9244b5251 = L.marker(\n",
              "                [51.5575525, -0.781404],\n",
              "                {}\n",
              "            ).addTo(feature_group_150f05f5e286c9a8623304c87935fa00);\n",
              "        \n",
              "    \n",
              "        var popup_aadd42089886a8146c6fbac933e7a134 = L.popup({&quot;maxWidth&quot;: &quot;100%&quot;});\n",
              "\n",
              "        \n",
              "            \n",
              "                var html_a9760449c9b5b5ec2e67079f16011431 = $(`&lt;div id=&quot;html_a9760449c9b5b5ec2e67079f16011431&quot; style=&quot;width: 100.0%; height: 100.0%;&quot;&gt;Thames&lt;/div&gt;`)[0];\n",
              "                popup_aadd42089886a8146c6fbac933e7a134.setContent(html_a9760449c9b5b5ec2e67079f16011431);\n",
              "            \n",
              "        \n",
              "\n",
              "        marker_f8923ac0b237c006951d9bc9244b5251.bindPopup(popup_aadd42089886a8146c6fbac933e7a134)\n",
              "        ;\n",
              "\n",
              "        \n",
              "    \n",
              "    \n",
              "            var marker_628517af162cfbc2220561d6eed6006f = L.marker(\n",
              "                [51.453058299999995, 0.3747360852853912],\n",
              "                {}\n",
              "            ).addTo(feature_group_150f05f5e286c9a8623304c87935fa00);\n",
              "        \n",
              "    \n",
              "        var popup_69c8d6535fed1c0853c459e69aa3e682 = L.popup({&quot;maxWidth&quot;: &quot;100%&quot;});\n",
              "\n",
              "        \n",
              "            \n",
              "                var html_36feeccd35c54a72b71d69d412a7dd4b = $(`&lt;div id=&quot;html_36feeccd35c54a72b71d69d412a7dd4b&quot; style=&quot;width: 100.0%; height: 100.0%;&quot;&gt;Tilbury Fort&lt;/div&gt;`)[0];\n",
              "                popup_69c8d6535fed1c0853c459e69aa3e682.setContent(html_36feeccd35c54a72b71d69d412a7dd4b);\n",
              "            \n",
              "        \n",
              "\n",
              "        marker_628517af162cfbc2220561d6eed6006f.bindPopup(popup_69c8d6535fed1c0853c459e69aa3e682)\n",
              "        ;\n",
              "\n",
              "        \n",
              "    \n",
              "    \n",
              "            var marker_3b6c6fc0f6b7fff66ba2548860000398 = L.marker(\n",
              "                [51.4424747, 0.3694468],\n",
              "                {}\n",
              "            ).addTo(feature_group_150f05f5e286c9a8623304c87935fa00);\n",
              "        \n",
              "    \n",
              "        var popup_84723c8565636de2a5bdad2b9201c024 = L.popup({&quot;maxWidth&quot;: &quot;100%&quot;});\n",
              "\n",
              "        \n",
              "            \n",
              "                var html_738a63282ccadd8ad238cf0161086377 = $(`&lt;div id=&quot;html_738a63282ccadd8ad238cf0161086377&quot; style=&quot;width: 100.0%; height: 100.0%;&quot;&gt;Gravesend&lt;/div&gt;`)[0];\n",
              "                popup_84723c8565636de2a5bdad2b9201c024.setContent(html_738a63282ccadd8ad238cf0161086377);\n",
              "            \n",
              "        \n",
              "\n",
              "        marker_3b6c6fc0f6b7fff66ba2548860000398.bindPopup(popup_84723c8565636de2a5bdad2b9201c024)\n",
              "        ;\n",
              "\n",
              "        \n",
              "    \n",
              "    \n",
              "            var marker_ecb3fbf9bf12424222bfe5c681ae966e = L.marker(\n",
              "                [51.4826696, 0.0623335],\n",
              "                {}\n",
              "            ).addTo(feature_group_150f05f5e286c9a8623304c87935fa00);\n",
              "        \n",
              "    \n",
              "        var popup_681b0a46b9f8c5fbb48edace1ddf7cbf = L.popup({&quot;maxWidth&quot;: &quot;100%&quot;});\n",
              "\n",
              "        \n",
              "            \n",
              "                var html_bba48b0309eed68a712ff2d788ced49a = $(`&lt;div id=&quot;html_bba48b0309eed68a712ff2d788ced49a&quot; style=&quot;width: 100.0%; height: 100.0%;&quot;&gt;Woolwich&lt;/div&gt;`)[0];\n",
              "                popup_681b0a46b9f8c5fbb48edace1ddf7cbf.setContent(html_bba48b0309eed68a712ff2d788ced49a);\n",
              "            \n",
              "        \n",
              "\n",
              "        marker_ecb3fbf9bf12424222bfe5c681ae966e.bindPopup(popup_681b0a46b9f8c5fbb48edace1ddf7cbf)\n",
              "        ;\n",
              "\n",
              "        \n",
              "    \n",
              "    \n",
              "            var marker_967b903ea118534fc57dfa1e9975fcb3 = L.marker(\n",
              "                [51.46862565, 0.04883057313755089],\n",
              "                {}\n",
              "            ).addTo(feature_group_150f05f5e286c9a8623304c87935fa00);\n",
              "        \n",
              "    \n",
              "        var popup_11f009726b0fb7e610dd5e6dc26e750a = L.popup({&quot;maxWidth&quot;: &quot;100%&quot;});\n",
              "\n",
              "        \n",
              "            \n",
              "                var html_43702ee6b23c2fc07324ced458f1df92 = $(`&lt;div id=&quot;html_43702ee6b23c2fc07324ced458f1df92&quot; style=&quot;width: 100.0%; height: 100.0%;&quot;&gt;Greenwich&lt;/div&gt;`)[0];\n",
              "                popup_11f009726b0fb7e610dd5e6dc26e750a.setContent(html_43702ee6b23c2fc07324ced458f1df92);\n",
              "            \n",
              "        \n",
              "\n",
              "        marker_967b903ea118534fc57dfa1e9975fcb3.bindPopup(popup_11f009726b0fb7e610dd5e6dc26e750a)\n",
              "        ;\n",
              "\n",
              "        \n",
              "    \n",
              "    \n",
              "            var layer_control_1579a16326a68a1e9ec59c56d415506b = {\n",
              "                base_layers : {\n",
              "                    &quot;cartodbdark_matter&quot; : tile_layer_59863cf8630139a7a6655724493efea0,\n",
              "                },\n",
              "                overlays :  {\n",
              "                    &quot;test&quot; : feature_group_150f05f5e286c9a8623304c87935fa00,\n",
              "                },\n",
              "            };\n",
              "            L.control.layers(\n",
              "                layer_control_1579a16326a68a1e9ec59c56d415506b.base_layers,\n",
              "                layer_control_1579a16326a68a1e9ec59c56d415506b.overlays,\n",
              "                {&quot;autoZIndex&quot;: true, &quot;collapsed&quot;: true, &quot;position&quot;: &quot;topright&quot;}\n",
              "            ).addTo(map_3cd616b955835c675ade32d4ef609450);\n",
              "        \n",
              "&lt;/script&gt;\n",
              "&lt;/html&gt;\" style=\"position:absolute;width:100%;height:100%;left:0;top:0;border:none !important;\" allowfullscreen webkitallowfullscreen mozallowfullscreen></iframe></div></div>"
            ]
          },
          "metadata": {},
          "execution_count": 11
        }
      ]
    },
    {
      "cell_type": "code",
      "source": [
        "import spacy\n",
        "import spacy_transformers\n",
        "import collections\n",
        "\n",
        "nlp = spacy.load(\"en_core_web_trf\")\n",
        "\n",
        "with open(\"frankenstein_ch0.txt\", encoding=\"UTF-8\") as f:\n",
        "    text_ch0 = f.read()\n",
        "\n",
        "\n",
        "res = nlp(text_ch0)\n",
        "locations = []\n",
        "for ent in res.ents:\n",
        "    if ent.label_ == \"LOC\" or ent.label_ == \"GPE\" or ent.label_ == \"FAC\":\n",
        "        locations.append(ent.text)\n",
        "\n",
        "counts = collections.Counter(locations)\n",
        "counts_keys = counts.keys()\n",
        "max_value = max(counts.values())\n",
        "locs_dict = []\n",
        "locations = list(set(locations))\n",
        "for l in locations:\n",
        "    if l in counts_keys:\n",
        "        l_obj = {\"locname\": l, \"value\": counts[l]/max_value}\n",
        "\n",
        "    else:\n",
        "        l_obj = {\"locname\": l, \"value\": 1}\n",
        "    locs_dict.append(l_obj)\n",
        "print(locs_dict)"
      ],
      "metadata": {
        "colab": {
          "base_uri": "https://localhost:8080/"
        },
        "id": "gEfmEiLokv5x",
        "outputId": "5170d00c-7f8b-4f17-9d9b-38dbff496622"
      },
      "execution_count": null,
      "outputs": [
        {
          "output_type": "stream",
          "name": "stdout",
          "text": [
            "[{'locname': 'St. Petersburgh', 'value': 0.16666666666666666}, {'locname': 'the North Sea', 'value': 0.16666666666666666}, {'locname': 'Africa', 'value': 0.16666666666666666}, {'locname': 'Petersburgh', 'value': 0.16666666666666666}, {'locname': 'England', 'value': 1.0}, {'locname': 'Archangel', 'value': 0.5}, {'locname': 'earth', 'value': 0.16666666666666666}, {'locname': 'America', 'value': 0.16666666666666666}, {'locname': 'Greenland', 'value': 0.16666666666666666}, {'locname': 'Russia', 'value': 0.16666666666666666}, {'locname': 'London', 'value': 0.16666666666666666}, {'locname': 'the North Pacific Ocean', 'value': 0.16666666666666666}]\n"
          ]
        }
      ]
    },
    {
      "cell_type": "code",
      "source": [
        "from geopy.geocoders import Nominatim\n",
        "geolocator = Nominatim(user_agent=\"ner\")\n",
        "\n",
        "heatmap_data = []\n",
        "for loc in locs_dict:\n",
        "    location = geolocator.geocode(loc[\"locname\"])\n",
        "    if location is not None:\n",
        "        heatmap_data.append([location.latitude, location.longitude, loc[\"value\"]])\n"
      ],
      "metadata": {
        "id": "zjsHOyKCq5mv"
      },
      "execution_count": null,
      "outputs": []
    },
    {
      "cell_type": "code",
      "source": [
        "import folium\n",
        "from folium import plugins\n",
        "\n",
        "tile_name = \"cartodbdark_matter\"\n",
        "\n",
        "map1 = folium.Map(\n",
        "    location=[52.2434979, 5.6343227],\n",
        "    zoom_start=4,\n",
        "    tiles=tile_name\n",
        ")\n",
        "\n",
        "folium.plugins.HeatMap(data=heatmap_data,\n",
        "                       name=\"Locations in Frankenstein Ch0\",\n",
        "                       control=True).add_to(map1)\n",
        "\n",
        "folium.LayerControl().add_to(map1)\n",
        "map1"
      ],
      "metadata": {
        "colab": {
          "base_uri": "https://localhost:8080/",
          "height": 402
        },
        "id": "kZ8U7oroqzPS",
        "outputId": "6817578a-b1e4-468a-db2d-4840a73b85b9"
      },
      "execution_count": null,
      "outputs": [
        {
          "output_type": "execute_result",
          "data": {
            "text/plain": [
              "<folium.folium.Map at 0x7eba3eaba050>"
            ],
            "text/html": [
              "<div style=\"width:100%;\"><div style=\"position:relative;width:100%;height:0;padding-bottom:60%;\"><span style=\"color:#565656\">Make this Notebook Trusted to load map: File -> Trust Notebook</span><iframe srcdoc=\"&lt;!DOCTYPE html&gt;\n",
              "&lt;html&gt;\n",
              "&lt;head&gt;\n",
              "    \n",
              "    &lt;meta http-equiv=&quot;content-type&quot; content=&quot;text/html; charset=UTF-8&quot; /&gt;\n",
              "    \n",
              "        &lt;script&gt;\n",
              "            L_NO_TOUCH = false;\n",
              "            L_DISABLE_3D = false;\n",
              "        &lt;/script&gt;\n",
              "    \n",
              "    &lt;style&gt;html, body {width: 100%;height: 100%;margin: 0;padding: 0;}&lt;/style&gt;\n",
              "    &lt;style&gt;#map {position:absolute;top:0;bottom:0;right:0;left:0;}&lt;/style&gt;\n",
              "    &lt;script src=&quot;https://cdn.jsdelivr.net/npm/leaflet@1.9.3/dist/leaflet.js&quot;&gt;&lt;/script&gt;\n",
              "    &lt;script src=&quot;https://code.jquery.com/jquery-1.12.4.min.js&quot;&gt;&lt;/script&gt;\n",
              "    &lt;script src=&quot;https://cdn.jsdelivr.net/npm/bootstrap@5.2.2/dist/js/bootstrap.bundle.min.js&quot;&gt;&lt;/script&gt;\n",
              "    &lt;script src=&quot;https://cdnjs.cloudflare.com/ajax/libs/Leaflet.awesome-markers/2.0.2/leaflet.awesome-markers.js&quot;&gt;&lt;/script&gt;\n",
              "    &lt;link rel=&quot;stylesheet&quot; href=&quot;https://cdn.jsdelivr.net/npm/leaflet@1.9.3/dist/leaflet.css&quot;/&gt;\n",
              "    &lt;link rel=&quot;stylesheet&quot; href=&quot;https://cdn.jsdelivr.net/npm/bootstrap@5.2.2/dist/css/bootstrap.min.css&quot;/&gt;\n",
              "    &lt;link rel=&quot;stylesheet&quot; href=&quot;https://netdna.bootstrapcdn.com/bootstrap/3.0.0/css/bootstrap.min.css&quot;/&gt;\n",
              "    &lt;link rel=&quot;stylesheet&quot; href=&quot;https://cdn.jsdelivr.net/npm/@fortawesome/fontawesome-free@6.2.0/css/all.min.css&quot;/&gt;\n",
              "    &lt;link rel=&quot;stylesheet&quot; href=&quot;https://cdnjs.cloudflare.com/ajax/libs/Leaflet.awesome-markers/2.0.2/leaflet.awesome-markers.css&quot;/&gt;\n",
              "    &lt;link rel=&quot;stylesheet&quot; href=&quot;https://cdn.jsdelivr.net/gh/python-visualization/folium/folium/templates/leaflet.awesome.rotate.min.css&quot;/&gt;\n",
              "    \n",
              "            &lt;meta name=&quot;viewport&quot; content=&quot;width=device-width,\n",
              "                initial-scale=1.0, maximum-scale=1.0, user-scalable=no&quot; /&gt;\n",
              "            &lt;style&gt;\n",
              "                #map_7ce9ceac7debf17614034bf5406cfc1a {\n",
              "                    position: relative;\n",
              "                    width: 100.0%;\n",
              "                    height: 100.0%;\n",
              "                    left: 0.0%;\n",
              "                    top: 0.0%;\n",
              "                }\n",
              "                .leaflet-container { font-size: 1rem; }\n",
              "            &lt;/style&gt;\n",
              "        \n",
              "    &lt;script src=&quot;https://cdn.jsdelivr.net/gh/python-visualization/folium@main/folium/templates/leaflet_heat.min.js&quot;&gt;&lt;/script&gt;\n",
              "&lt;/head&gt;\n",
              "&lt;body&gt;\n",
              "    \n",
              "    \n",
              "            &lt;div class=&quot;folium-map&quot; id=&quot;map_7ce9ceac7debf17614034bf5406cfc1a&quot; &gt;&lt;/div&gt;\n",
              "        \n",
              "&lt;/body&gt;\n",
              "&lt;script&gt;\n",
              "    \n",
              "    \n",
              "            var map_7ce9ceac7debf17614034bf5406cfc1a = L.map(\n",
              "                &quot;map_7ce9ceac7debf17614034bf5406cfc1a&quot;,\n",
              "                {\n",
              "                    center: [52.2434979, 5.6343227],\n",
              "                    crs: L.CRS.EPSG3857,\n",
              "                    zoom: 4,\n",
              "                    zoomControl: true,\n",
              "                    preferCanvas: false,\n",
              "                }\n",
              "            );\n",
              "\n",
              "            \n",
              "\n",
              "        \n",
              "    \n",
              "            var tile_layer_8987e5590e1907ae3d94acee919396f2 = L.tileLayer(\n",
              "                &quot;https://cartodb-basemaps-{s}.global.ssl.fastly.net/dark_all/{z}/{x}/{y}.png&quot;,\n",
              "                {&quot;attribution&quot;: &quot;\\u0026copy; \\u003ca target=\\&quot;_blank\\&quot; href=\\&quot;http://www.openstreetmap.org/copyright\\&quot;\\u003eOpenStreetMap\\u003c/a\\u003e contributors \\u0026copy; \\u003ca target=\\&quot;_blank\\&quot; href=\\&quot;http://cartodb.com/attributions\\&quot;\\u003eCartoDB\\u003c/a\\u003e, CartoDB \\u003ca target=\\&quot;_blank\\&quot; href =\\&quot;http://cartodb.com/attributions\\&quot;\\u003eattributions\\u003c/a\\u003e&quot;, &quot;detectRetina&quot;: false, &quot;maxNativeZoom&quot;: 18, &quot;maxZoom&quot;: 18, &quot;minZoom&quot;: 0, &quot;noWrap&quot;: false, &quot;opacity&quot;: 1, &quot;subdomains&quot;: &quot;abc&quot;, &quot;tms&quot;: false}\n",
              "            ).addTo(map_7ce9ceac7debf17614034bf5406cfc1a);\n",
              "        \n",
              "    \n",
              "            var heat_map_02da25bcb5fe6875623e89ebdae8f362 = L.heatLayer(\n",
              "                [[42.7503882, -73.3422992, 0.16666666666666666], [55.73547245, 9.128434307342996, 0.16666666666666666], [11.5024338, 17.7578122, 0.16666666666666666], [42.7495232, -73.3401106, 0.16666666666666666], [52.5310214, -1.2649062, 1.0], [64.543022, 40.537121, 0.5], [34.2331373, -102.4107493, 0.16666666666666666], [39.7837304, -100.445882, 0.16666666666666666], [77.6192349, -42.8125967, 0.16666666666666666], [64.6863136, 97.7453061, 0.16666666666666666], [51.5073359, -0.12765, 0.16666666666666666]],\n",
              "                {&quot;blur&quot;: 15, &quot;maxZoom&quot;: 18, &quot;minOpacity&quot;: 0.5, &quot;radius&quot;: 25}\n",
              "            ).addTo(map_7ce9ceac7debf17614034bf5406cfc1a);\n",
              "        \n",
              "    \n",
              "            var layer_control_3d4d011372007e48efc96c72a1ef1a6e = {\n",
              "                base_layers : {\n",
              "                    &quot;cartodbdark_matter&quot; : tile_layer_8987e5590e1907ae3d94acee919396f2,\n",
              "                },\n",
              "                overlays :  {\n",
              "                    &quot;Locations in Frankenstein Ch0&quot; : heat_map_02da25bcb5fe6875623e89ebdae8f362,\n",
              "                },\n",
              "            };\n",
              "            L.control.layers(\n",
              "                layer_control_3d4d011372007e48efc96c72a1ef1a6e.base_layers,\n",
              "                layer_control_3d4d011372007e48efc96c72a1ef1a6e.overlays,\n",
              "                {&quot;autoZIndex&quot;: true, &quot;collapsed&quot;: true, &quot;position&quot;: &quot;topright&quot;}\n",
              "            ).addTo(map_7ce9ceac7debf17614034bf5406cfc1a);\n",
              "        \n",
              "&lt;/script&gt;\n",
              "&lt;/html&gt;\" style=\"position:absolute;width:100%;height:100%;left:0;top:0;border:none !important;\" allowfullscreen webkitallowfullscreen mozallowfullscreen></iframe></div></div>"
            ]
          },
          "metadata": {},
          "execution_count": 22
        }
      ]
    },
    {
      "cell_type": "code",
      "source": [
        "import spacy\n",
        "import spacy_transformers\n",
        "import collections\n",
        "import glob\n",
        "from geopy.geocoders import Nominatim\n",
        "\n",
        "nlp = spacy.load(\"en_core_web_trf\")\n",
        "\n",
        "\n",
        "def create_heatmap_data(text):\n",
        "    res = nlp(text)\n",
        "    locations = []\n",
        "    for ent in res.ents:\n",
        "        if ent.label_ == \"LOC\" or ent.label_ == \"GPE\" or ent.label_ == \"FAC\":\n",
        "            locations.append(ent.text)\n",
        "\n",
        "    counts = collections.Counter(locations)\n",
        "    counts_keys = counts.keys()\n",
        "    max_value = max(counts.values())\n",
        "    locs_dict = []\n",
        "    locations = list(set(locations))\n",
        "    for l in locations:\n",
        "        if l in counts_keys:\n",
        "            l_obj = {\"locname\": l, \"value\": counts[l]/max_value}\n",
        "\n",
        "        else:\n",
        "            l_obj = {\"locname\": l, \"value\": 1}\n",
        "        locs_dict.append(l_obj)\n",
        "\n",
        "    # Get Geocode\n",
        "    geolocator = Nominatim(user_agent=\"ner\")\n",
        "\n",
        "    heatmap_data = []\n",
        "    for loc in locs_dict:\n",
        "        location = geolocator.geocode(loc[\"locname\"])\n",
        "        if location is not None:\n",
        "            heatmap_data.append([location.latitude, location.longitude, loc[\"value\"]])\n",
        "\n",
        "    return heatmap_data\n",
        "\n",
        "x = 0\n",
        "index = []\n",
        "heatmap_2d_array = []\n",
        "for file in sorted(glob.glob(\"frankenstein_*.txt\")):\n",
        "    with open(file, encoding=\"UTF-8\") as f:\n",
        "         text = f.read()\n",
        "    heatmap = create_heatmap_data(text)\n",
        "    heatmap_2d_array.append(heatmap)\n",
        "    index.append(\"ch\" + str(x))\n",
        "    x += 1\n",
        "\n",
        "\n"
      ],
      "metadata": {
        "colab": {
          "base_uri": "https://localhost:8080/"
        },
        "id": "SzQysIVDm9fE",
        "outputId": "c0f98f34-bec0-438e-9235-aa9610e83169"
      },
      "execution_count": null,
      "outputs": [
        {
          "output_type": "stream",
          "name": "stderr",
          "text": [
            "WARNING:urllib3.connectionpool:Retrying (Retry(total=1, connect=None, read=None, redirect=None, status=None)) after connection broken by 'ReadTimeoutError(\"HTTPSConnectionPool(host='nominatim.openstreetmap.org', port=443): Read timed out. (read timeout=1)\")': /search?q=Jura&format=json&limit=1\n"
          ]
        }
      ]
    },
    {
      "cell_type": "code",
      "source": [
        "import folium\n",
        "from folium import plugins\n",
        "\n",
        "tile_name = \"cartodbdark_matter\"\n",
        "\n",
        "map1 = folium.Map(\n",
        "    location=[52.2434979, 5.6343227],\n",
        "    zoom_start=4,\n",
        "    tiles=tile_name\n",
        ")\n",
        "\n",
        "folium.plugins.HeatMapWithTime(data=heatmap_2d_array,\n",
        "                       index=index,\n",
        "                       name=\"Locations in Frankenstein\",\n",
        "                       control=True).add_to(map1)\n",
        "\n",
        "folium.LayerControl().add_to(map1)\n",
        "map1"
      ],
      "metadata": {
        "colab": {
          "base_uri": "https://localhost:8080/",
          "height": 402
        },
        "id": "BUgnEW5__fa5",
        "outputId": "a886f127-03d5-4f96-bb2d-b2688cb55f58"
      },
      "execution_count": null,
      "outputs": [
        {
          "output_type": "execute_result",
          "data": {
            "text/plain": [
              "<folium.folium.Map at 0x7eb9f7403550>"
            ],
            "text/html": [
              "<div style=\"width:100%;\"><div style=\"position:relative;width:100%;height:0;padding-bottom:60%;\"><span style=\"color:#565656\">Make this Notebook Trusted to load map: File -> Trust Notebook</span><iframe srcdoc=\"&lt;!DOCTYPE html&gt;\n",
              "&lt;html&gt;\n",
              "&lt;head&gt;\n",
              "    \n",
              "    &lt;meta http-equiv=&quot;content-type&quot; content=&quot;text/html; charset=UTF-8&quot; /&gt;\n",
              "    \n",
              "        &lt;script&gt;\n",
              "            L_NO_TOUCH = false;\n",
              "            L_DISABLE_3D = false;\n",
              "        &lt;/script&gt;\n",
              "    \n",
              "    &lt;style&gt;html, body {width: 100%;height: 100%;margin: 0;padding: 0;}&lt;/style&gt;\n",
              "    &lt;style&gt;#map {position:absolute;top:0;bottom:0;right:0;left:0;}&lt;/style&gt;\n",
              "    &lt;script src=&quot;https://cdn.jsdelivr.net/npm/leaflet@1.9.3/dist/leaflet.js&quot;&gt;&lt;/script&gt;\n",
              "    &lt;script src=&quot;https://code.jquery.com/jquery-1.12.4.min.js&quot;&gt;&lt;/script&gt;\n",
              "    &lt;script src=&quot;https://cdn.jsdelivr.net/npm/bootstrap@5.2.2/dist/js/bootstrap.bundle.min.js&quot;&gt;&lt;/script&gt;\n",
              "    &lt;script src=&quot;https://cdnjs.cloudflare.com/ajax/libs/Leaflet.awesome-markers/2.0.2/leaflet.awesome-markers.js&quot;&gt;&lt;/script&gt;\n",
              "    &lt;link rel=&quot;stylesheet&quot; href=&quot;https://cdn.jsdelivr.net/npm/leaflet@1.9.3/dist/leaflet.css&quot;/&gt;\n",
              "    &lt;link rel=&quot;stylesheet&quot; href=&quot;https://cdn.jsdelivr.net/npm/bootstrap@5.2.2/dist/css/bootstrap.min.css&quot;/&gt;\n",
              "    &lt;link rel=&quot;stylesheet&quot; href=&quot;https://netdna.bootstrapcdn.com/bootstrap/3.0.0/css/bootstrap.min.css&quot;/&gt;\n",
              "    &lt;link rel=&quot;stylesheet&quot; href=&quot;https://cdn.jsdelivr.net/npm/@fortawesome/fontawesome-free@6.2.0/css/all.min.css&quot;/&gt;\n",
              "    &lt;link rel=&quot;stylesheet&quot; href=&quot;https://cdnjs.cloudflare.com/ajax/libs/Leaflet.awesome-markers/2.0.2/leaflet.awesome-markers.css&quot;/&gt;\n",
              "    &lt;link rel=&quot;stylesheet&quot; href=&quot;https://cdn.jsdelivr.net/gh/python-visualization/folium/folium/templates/leaflet.awesome.rotate.min.css&quot;/&gt;\n",
              "    \n",
              "            &lt;meta name=&quot;viewport&quot; content=&quot;width=device-width,\n",
              "                initial-scale=1.0, maximum-scale=1.0, user-scalable=no&quot; /&gt;\n",
              "            &lt;style&gt;\n",
              "                #map_a14e9e5a653177d7e4f17b37d326276d {\n",
              "                    position: relative;\n",
              "                    width: 100.0%;\n",
              "                    height: 100.0%;\n",
              "                    left: 0.0%;\n",
              "                    top: 0.0%;\n",
              "                }\n",
              "                .leaflet-container { font-size: 1rem; }\n",
              "            &lt;/style&gt;\n",
              "        \n",
              "    &lt;script src=&quot;https://cdn.jsdelivr.net/npm/iso8601-js-period@0.2.1/iso8601.min.js&quot;&gt;&lt;/script&gt;\n",
              "    &lt;script src=&quot;https://cdn.jsdelivr.net/npm/leaflet-timedimension@1.1.1/dist/leaflet.timedimension.min.js&quot;&gt;&lt;/script&gt;\n",
              "    &lt;script src=&quot;https://cdn.jsdelivr.net/gh/python-visualization/folium/folium/templates/pa7_hm.min.js&quot;&gt;&lt;/script&gt;\n",
              "    &lt;script src=&quot;https://cdn.jsdelivr.net/gh/python-visualization/folium/folium/templates/pa7_leaflet_hm.min.js&quot;&gt;&lt;/script&gt;\n",
              "    &lt;link rel=&quot;stylesheet&quot; href=&quot;https://cdn.jsdelivr.net/npm/leaflet-timedimension@1.1.1/dist/leaflet.timedimension.control.css&quot;/&gt;\n",
              "    \n",
              "            &lt;script&gt;\n",
              "                var TDHeatmap = L.TimeDimension.Layer.extend({\n",
              "\n",
              "            initialize: function(data, options) {\n",
              "                var heatmapCfg = {\n",
              "                    radius: 15,\n",
              "                    blur: 0.8,\n",
              "                    maxOpacity: 1.,\n",
              "                    scaleRadius: false,\n",
              "                    useLocalExtrema: false,\n",
              "                    latField: &#x27;lat&#x27;,\n",
              "                    lngField: &#x27;lng&#x27;,\n",
              "                    valueField: &#x27;count&#x27;,\n",
              "                    defaultWeight : 1,\n",
              "                };\n",
              "                heatmapCfg = $.extend({}, heatmapCfg, options.heatmapOptions || {});\n",
              "                var layer = new HeatmapOverlay(heatmapCfg);\n",
              "                L.TimeDimension.Layer.prototype.initialize.call(this, layer, options);\n",
              "                this._currentLoadedTime = 0;\n",
              "                this._currentTimeData = {\n",
              "                    data: []\n",
              "                    };\n",
              "                this.data= data;\n",
              "                this.defaultWeight = heatmapCfg.defaultWeight || 1;\n",
              "            },\n",
              "            onAdd: function(map) {\n",
              "                L.TimeDimension.Layer.prototype.onAdd.call(this, map);\n",
              "                map.addLayer(this._baseLayer);\n",
              "                if (this._timeDimension) {\n",
              "                    this._getDataForTime(this._timeDimension.getCurrentTime());\n",
              "                }\n",
              "            },\n",
              "            _onNewTimeLoading: function(ev) {\n",
              "                this._getDataForTime(ev.time);\n",
              "                return;\n",
              "            },\n",
              "            isReady: function(time) {\n",
              "                return (this._currentLoadedTime == time);\n",
              "            },\n",
              "            _update: function() {\n",
              "                this._baseLayer.setData(this._currentTimeData);\n",
              "                return true;\n",
              "            },\n",
              "            _getDataForTime: function(time) {\n",
              "                    delete this._currentTimeData.data;\n",
              "                    this._currentTimeData.data = [];\n",
              "                    var data = this.data[time-1];\n",
              "                    for (var i = 0; i &lt; data.length; i++) {\n",
              "                        this._currentTimeData.data.push({\n",
              "                                lat: data[i][0],\n",
              "                                lng: data[i][1],\n",
              "                                count: data[i].length&gt;2 ? data[i][2] : this.defaultWeight\n",
              "                            });\n",
              "                        }\n",
              "                    this._currentLoadedTime = time;\n",
              "                    if (this._timeDimension &amp;&amp; time == this._timeDimension.getCurrentTime() &amp;&amp; !this._timeDimension.isLoading()) {\n",
              "                        this._update();\n",
              "                    }\n",
              "                    this.fire(&#x27;timeload&#x27;, {\n",
              "                        time: time\n",
              "                    });\n",
              "                }\n",
              "        });\n",
              "\n",
              "        L.Control.TimeDimensionCustom = L.Control.TimeDimension.extend({\n",
              "            initialize: function(index, options) {\n",
              "                var playerOptions = {\n",
              "                    buffer: 1,\n",
              "                    minBufferReady: -1\n",
              "                    };\n",
              "                options.playerOptions = $.extend({}, playerOptions, options.playerOptions || {});\n",
              "                L.Control.TimeDimension.prototype.initialize.call(this, options);\n",
              "                this.index = index;\n",
              "                },\n",
              "            _getDisplayDateFormat: function(date){\n",
              "                return this.index[date.getTime()-1];\n",
              "                }\n",
              "            });\n",
              "            &lt;/script&gt;\n",
              "                \n",
              "&lt;/head&gt;\n",
              "&lt;body&gt;\n",
              "    \n",
              "    \n",
              "            &lt;div class=&quot;folium-map&quot; id=&quot;map_a14e9e5a653177d7e4f17b37d326276d&quot; &gt;&lt;/div&gt;\n",
              "        \n",
              "&lt;/body&gt;\n",
              "&lt;script&gt;\n",
              "    \n",
              "    \n",
              "            var map_a14e9e5a653177d7e4f17b37d326276d = L.map(\n",
              "                &quot;map_a14e9e5a653177d7e4f17b37d326276d&quot;,\n",
              "                {\n",
              "                    center: [52.2434979, 5.6343227],\n",
              "                    crs: L.CRS.EPSG3857,\n",
              "                    zoom: 4,\n",
              "                    zoomControl: true,\n",
              "                    preferCanvas: false,\n",
              "                }\n",
              "            );\n",
              "\n",
              "            \n",
              "\n",
              "        \n",
              "    \n",
              "            var tile_layer_1a778d4a2cce1c208462a383d81c78c9 = L.tileLayer(\n",
              "                &quot;https://cartodb-basemaps-{s}.global.ssl.fastly.net/dark_all/{z}/{x}/{y}.png&quot;,\n",
              "                {&quot;attribution&quot;: &quot;\\u0026copy; \\u003ca target=\\&quot;_blank\\&quot; href=\\&quot;http://www.openstreetmap.org/copyright\\&quot;\\u003eOpenStreetMap\\u003c/a\\u003e contributors \\u0026copy; \\u003ca target=\\&quot;_blank\\&quot; href=\\&quot;http://cartodb.com/attributions\\&quot;\\u003eCartoDB\\u003c/a\\u003e, CartoDB \\u003ca target=\\&quot;_blank\\&quot; href =\\&quot;http://cartodb.com/attributions\\&quot;\\u003eattributions\\u003c/a\\u003e&quot;, &quot;detectRetina&quot;: false, &quot;maxNativeZoom&quot;: 18, &quot;maxZoom&quot;: 18, &quot;minZoom&quot;: 0, &quot;noWrap&quot;: false, &quot;opacity&quot;: 1, &quot;subdomains&quot;: &quot;abc&quot;, &quot;tms&quot;: false}\n",
              "            ).addTo(map_a14e9e5a653177d7e4f17b37d326276d);\n",
              "        \n",
              "    \n",
              "\n",
              "            var times = [1, 2, 3, 4];\n",
              "\n",
              "            map_a14e9e5a653177d7e4f17b37d326276d.timeDimension = L.timeDimension(\n",
              "                {times : times, currentTime: new Date(1)}\n",
              "            );\n",
              "\n",
              "            var heat_map_dc33d262b30c567d1930cc41fa99e892Control = new L.Control.TimeDimensionCustom([&#x27;ch0&#x27;, &#x27;ch1&#x27;, &#x27;ch2&#x27;, &#x27;ch3&#x27;], {\n",
              "                autoPlay: false,\n",
              "                backwardButton: true,\n",
              "                displayDate: true,\n",
              "                forwardButton: true,\n",
              "                limitMinimumRange: 5,\n",
              "                limitSliders: true,\n",
              "                loopButton: true,\n",
              "                maxSpeed: 10,\n",
              "                minSpeed: 0.1,\n",
              "                playButton: true,\n",
              "                playReverseButton: true,\n",
              "                position: &quot;bottomleft&quot;,\n",
              "                speedSlider: true,\n",
              "                speedStep: 0.1,\n",
              "                styleNS: &quot;leaflet-control-timecontrol&quot;,\n",
              "                timeSlider: true,\n",
              "                timeSliderDrapUpdate: false,\n",
              "                timeSteps: 1\n",
              "                })\n",
              "                .addTo(map_a14e9e5a653177d7e4f17b37d326276d);\n",
              "\n",
              "                var heat_map_dc33d262b30c567d1930cc41fa99e892 = new TDHeatmap([[[42.7503882, -73.3422992, 0.16666666666666666], [55.73547245, 9.128434307342996, 0.16666666666666666], [11.5024338, 17.7578122, 0.16666666666666666], [42.7495232, -73.3401106, 0.16666666666666666], [52.5310214, -1.2649062, 1.0], [64.543022, 40.537121, 0.5], [34.2331373, -102.4107493, 0.16666666666666666], [39.7837304, -100.445882, 0.16666666666666666], [77.6192349, -42.8125967, 0.16666666666666666], [64.6863136, 97.7453061, 0.16666666666666666], [51.5073359, -0.12765, 0.16666666666666666]], [[47.0505452, 8.3054682, 0.25], [47.59397, 14.12456, 0.25], [51.1638175, 10.4478313, 0.25], [46.2017559, 6.1466014, 0.25], [40.8358846, 14.2487679, 0.25], [45.4641943, 9.1896346, 0.5], [28.7835563, -81.3330466, 0.25], [46.603354, 1.8883335, 0.25], [42.6384261, 12.674297, 1.0]], [[39.1605082, -94.9060515, 0.6666666666666666], [46.783362499999996, 5.783285726354901, 0.3333333333333333], [46.3731303, 6.4779448, 0.3333333333333333], [46.2017559, 6.1466014, 1.0]], [[48.7630165, 11.4250395, 1.0], [46.2017559, 6.1466014, 0.25]]],\n",
              "                {heatmapOptions: {\n",
              "                        radius: 15,\n",
              "                        blur: 0.8,\n",
              "                        minOpacity: 0,\n",
              "                        maxOpacity: 0.6,\n",
              "                        scaleRadius: false,\n",
              "                        useLocalExtrema: false,\n",
              "                        defaultWeight: 1,\n",
              "                        \n",
              "                    }\n",
              "                })\n",
              "                .addTo(map_a14e9e5a653177d7e4f17b37d326276d);\n",
              "\n",
              "        \n",
              "    \n",
              "            var layer_control_51d99e392101827bcd6a18233b4175b0 = {\n",
              "                base_layers : {\n",
              "                    &quot;cartodbdark_matter&quot; : tile_layer_1a778d4a2cce1c208462a383d81c78c9,\n",
              "                },\n",
              "                overlays :  {\n",
              "                    &quot;Locations in Frankenstein&quot; : heat_map_dc33d262b30c567d1930cc41fa99e892,\n",
              "                },\n",
              "            };\n",
              "            L.control.layers(\n",
              "                layer_control_51d99e392101827bcd6a18233b4175b0.base_layers,\n",
              "                layer_control_51d99e392101827bcd6a18233b4175b0.overlays,\n",
              "                {&quot;autoZIndex&quot;: true, &quot;collapsed&quot;: true, &quot;position&quot;: &quot;topright&quot;}\n",
              "            ).addTo(map_a14e9e5a653177d7e4f17b37d326276d);\n",
              "        \n",
              "&lt;/script&gt;\n",
              "&lt;/html&gt;\" style=\"position:absolute;width:100%;height:100%;left:0;top:0;border:none !important;\" allowfullscreen webkitallowfullscreen mozallowfullscreen></iframe></div></div>"
            ]
          },
          "metadata": {},
          "execution_count": 27
        }
      ]
    }
  ]
}