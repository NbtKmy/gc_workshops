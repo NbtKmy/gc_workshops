{
  "nbformat": 4,
  "nbformat_minor": 0,
  "metadata": {
    "colab": {
      "provenance": [],
      "authorship_tag": "ABX9TyNHKZDn3+/xYImRBWB2sJiB",
      "include_colab_link": true
    },
    "kernelspec": {
      "name": "python3",
      "display_name": "Python 3"
    },
    "language_info": {
      "name": "python"
    }
  },
  "cells": [
    {
      "cell_type": "markdown",
      "metadata": {
        "id": "view-in-github",
        "colab_type": "text"
      },
      "source": [
        "<a href=\"https://colab.research.google.com/github/NbtKmy/gc_workshops/blob/main/NutzlicherAppMitChatGPT.ipynb\" target=\"_parent\"><img src=\"https://colab.research.google.com/assets/colab-badge.svg\" alt=\"Open In Colab\"/></a>"
      ]
    },
    {
      "cell_type": "markdown",
      "source": [
        "# Nutzlicher App mit ChatGPT?\n",
        "\n",
        "zum Beispiel - die neu publizierten Aufsätze in ArXiv holen und mit ChatGPT zusammenfassen\n",
        "\n",
        "## Zu ArXiv API\n",
        "https://info.arxiv.org/help/api/index.html\n",
        "\n",
        "Für Python gibt es eine Library \"[arxiv](https://pypi.org/project/arxiv/)\". Damit kann man leicht den ArXiv API bedienen. \n",
        "\n",
        "Als erster Schritt probieren wir ein einfache Query aus:\n"
      ],
      "metadata": {
        "id": "finqTLDoRAL7"
      }
    },
    {
      "cell_type": "code",
      "source": [
        "!pip install arxiv"
      ],
      "metadata": {
        "id": "d5sNZQ41SEKc"
      },
      "execution_count": null,
      "outputs": []
    },
    {
      "cell_type": "code",
      "source": [
        "import arxiv\n",
        "\n",
        "search = arxiv.Search(\n",
        "    # Formulierung der Query siehe: https://info.arxiv.org/help/api/user-manual.html#query_details\n",
        "    query = \"cat:cs.AI\",\n",
        "    max_results = 5,\n",
        "    sort_by=arxiv.SortCriterion.SubmittedDate,\n",
        "    sort_order=arxiv.SortOrder.Descending, \n",
        ")\n",
        "\n",
        "\n",
        "\n",
        "for result in search.results():\n",
        "    # Das Ergebnis kann man in Form von \"result.title\" holen. Siehe die Erläuterung von arxiv Library unter \"result\" https://pypi.org/project/arxiv/\n",
        "    titleAndSum = result.title + \"\\n\" + result.summary + \"\\n\\n\"\n",
        "    print(titleAndSum)"
      ],
      "metadata": {
        "id": "JGsnEXmbSYnc"
      },
      "execution_count": null,
      "outputs": []
    },
    {
      "cell_type": "markdown",
      "source": [
        "# Summary noch kürzer machen mit ChatGPT\n",
        "\n"
      ],
      "metadata": {
        "id": "2H09wq1oV__a"
      }
    },
    {
      "cell_type": "code",
      "source": [
        "!pip install openai"
      ],
      "metadata": {
        "id": "fKr8dFITa9ds"
      },
      "execution_count": null,
      "outputs": []
    },
    {
      "cell_type": "code",
      "source": [
        "import openai\n",
        "import arxiv\n",
        "\n",
        "my_api_key = \"\"#@param{type:'string'} \n",
        "openai.api_key = my_api_key\n",
        "\n",
        "def sum_Summary(result):\n",
        "    system = \"\"\"Bitte den Aufsatz immer nur in 3 Punkten auf Deutsch kurz zusammenfassen. Die Zusammenfassung sieht wie folgt aus:```\n",
        "    Titel auf Deutsch:\n",
        "    - Punkt1\n",
        "    - Punkt2\n",
        "    - Punkt3\n",
        "    ```\"\"\"\n",
        "\n",
        "    text = f\"title: {result.title}\\nbody: {result.summary}\"\n",
        "    response = openai.ChatCompletion.create(\n",
        "                model=\"gpt-3.5-turbo\",\n",
        "                messages=[\n",
        "                    {'role': 'system', 'content': system},\n",
        "                    {'role': 'user', 'content': text}\n",
        "                ],\n",
        "                temperature=0.25,\n",
        "            )\n",
        "    summary = response['choices'][0]['message']['content']\n",
        "\n",
        "    return summary\n",
        "\n",
        "search = arxiv.Search(\n",
        "    # Formulierung der Query siehe: https://info.arxiv.org/help/api/user-manual.html#query_details\n",
        "    query = \"cat:cs.AI\",\n",
        "    max_results = 1,\n",
        "    sort_by=arxiv.SortCriterion.SubmittedDate,\n",
        "    sort_order=arxiv.SortOrder.Descending, \n",
        ")\n",
        "\n",
        "newsBody = \"\"\n",
        "for result in search.results():\n",
        "    sum = sum_Summary(result)\n",
        "    authoren = \"\"\n",
        "    for autor in result.authors:\n",
        "        authoren += f\" {autor.name},\"\n",
        "    artInfo = f\"Artikeltitel: {result.title}\\nKurze Zusammenfassung:\\n{sum}\\nAutor(en):{authoren}\\nPubliziert: {result.published}\\nLink: {result.entry_id}\\n-------------\"\n",
        "    print(artInfo)\n",
        "    newsBody += artInfo\n"
      ],
      "metadata": {
        "id": "6YQZMttCV-eK",
        "colab": {
          "base_uri": "https://localhost:8080/"
        },
        "outputId": "4d2f41ee-2d59-41a9-f6d4-821e749b5f07"
      },
      "execution_count": null,
      "outputs": [
        {
          "output_type": "stream",
          "name": "stdout",
          "text": [
            "Artikeltitel: DualCross: Cross-Modality Cross-Domain Adaptation for Monocular BEV Perception\n",
            "Kurze Zusammenfassung:\n",
            "Titel auf Deutsch: DualCross: Cross-Modalitäts- und Cross-Domain-Anpassung für monokulare BEV-Wahrnehmung\n",
            "- Die Schließung der Lücke zwischen Training und Einsatz sowie die Integration mehrerer Sensor-Modalitäten sind zwei schwierige, aber entscheidende Themen für selbstfahrende Fahrzeuge.\n",
            "- Bestehende Arbeiten konzentrieren sich nur auf eines der oben genannten Themen und übersehen dabei die gleichzeitige Domain- und Modalitätsverschiebung, die in realen Szenarien allgegenwärtig ist.\n",
            "- In diesem Artikel wird DualCross vorgestellt, ein Framework für Cross-Modalitäts- und Cross-Domain-Anpassung, um das Lernen eines robusteren monokularen Bird's-Eye-View (BEV)-Wahrnehmungsmodells zu erleichtern.\n",
            "Autor(en): Yunze Man, Liang-Yan Gui, Yu-Xiong Wang,\n",
            "Publiziert: 2023-05-05 17:58:45+00:00\n",
            "Link: http://arxiv.org/abs/2305.03724v1\n",
            "-------------\n"
          ]
        }
      ]
    },
    {
      "cell_type": "markdown",
      "source": [
        "# Mail senden mit smtplib\n",
        "\n",
        "Die Library smtplib gehört zu Standardlibrary von Python. Man muss sie nicht extra installieren. \n",
        "Mit dieser Library kann man zum Beispiel eine Mail von dem eigenen Google-Mail-Account senden. \n",
        "Dafür braucht man das App-Passwort des Google-Mail-Account zu erstellen. \n",
        "\n"
      ],
      "metadata": {
        "id": "7DtG5yZZm8wH"
      }
    },
    {
      "cell_type": "code",
      "source": [
        "import smtplib\n",
        "from email.mime.text import MIMEText\n",
        " \n",
        "\n",
        "from_email =\"****@gmail.com\" #@param{type:'string'} \n",
        "to_email = \"***@***\" #@param{type:'string'} \n",
        "mail_title = \"AI news\"\n",
        "message = newsBody\n",
        "\n",
        "msg = MIMEText(message, \"plain\")\n",
        "msg[\"Subject\"] = mail_title\n",
        "msg[\"To\"] = to_email\n",
        "msg[\"From\"] = from_email\n",
        "\n",
        " \n",
        "smtp_host = \"smtp.gmail.com\"\n",
        "smtp_port = 587\n",
        "smtp_password = \"App-Passwort\" #@param{type:'string'} \n",
        " \n",
        "server = smtplib.SMTP(smtp_host, smtp_port)\n",
        "server.starttls()\n",
        "server.login(from_email, smtp_password)\n",
        "server.send_message(msg)\n",
        "server.quit()"
      ],
      "metadata": {
        "id": "xZjFhTbsm_X-"
      },
      "execution_count": null,
      "outputs": []
    },
    {
      "cell_type": "markdown",
      "source": [
        "## Mitteilung an MSTeams\n",
        "\n",
        "voraussetzung: \"Incoming Webhook\" Connector in einem Team erstellen und einen Link dafür haben\n"
      ],
      "metadata": {
        "id": "2ZSPehGTyxUq"
      }
    },
    {
      "cell_type": "code",
      "source": [
        "!pip install pymsteams"
      ],
      "metadata": {
        "id": "lpOEjhgo2JW1"
      },
      "execution_count": null,
      "outputs": []
    },
    {
      "cell_type": "code",
      "source": [
        "\n",
        "import pymsteams\n",
        "\n",
        "incoming_webhook_url = \"\"#@param{type:'string'}\n",
        "\n",
        "teams_obj = pymsteams.connectorcard(incoming_webhook_url)\n",
        "teams_obj.title(\"Neuigkeit\")\n",
        "teams_obj.text(newsBody)\n",
        "teams_obj.send()"
      ],
      "metadata": {
        "id": "cVKBx2jxzI9L"
      },
      "execution_count": null,
      "outputs": []
    }
  ]
}