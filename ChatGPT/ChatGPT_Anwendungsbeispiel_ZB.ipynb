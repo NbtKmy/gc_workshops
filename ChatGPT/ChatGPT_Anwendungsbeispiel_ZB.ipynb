{
  "nbformat": 4,
  "nbformat_minor": 0,
  "metadata": {
    "colab": {
      "provenance": [],
      "authorship_tag": "ABX9TyO6uQVMNdNBjb3f2Sa7yrKj",
      "include_colab_link": true
    },
    "kernelspec": {
      "name": "python3",
      "display_name": "Python 3"
    },
    "language_info": {
      "name": "python"
    }
  },
  "cells": [
    {
      "cell_type": "markdown",
      "metadata": {
        "id": "view-in-github",
        "colab_type": "text"
      },
      "source": [
        "<a href=\"https://colab.research.google.com/github/NbtKmy/gc_workshops/blob/main/ChatGPT_Anwendungsbeispiel_ZB.ipynb\" target=\"_parent\"><img src=\"https://colab.research.google.com/assets/colab-badge.svg\" alt=\"Open In Colab\"/></a>"
      ]
    },
    {
      "cell_type": "markdown",
      "source": [
        "# ChatGPT mit Embedding\n",
        "\n",
        "KI lügt - das Phänomen \"Halluzination\" ist mittlerweile bekannt. Auch wenn LLMs immer besser werden, bleibt sie weiterhin noch ein grosses Probelem.\n",
        "Wenn Bibliotheken einen Dienstleistung mit ein LLM wie ChatGPT konzipieren, ist eine Massnahme gegen die Halluzination notwendig.\n",
        "\n",
        "Hier in diesem Beispiel versuchen wir die Halluzination zu reduzieren, indem wir Embedding verwenden.\n",
        "(Die andere denkbare Massnahme ist Fine Tuning. Aber hier wird sie nicht berücksichtigt.)\n",
        "\n",
        "## Embedding?\n",
        "\n",
        ">Bei einer Worteinbettung (englisch word embedding) handelt es sich um eine Einbettung, bei der Worte oder andere Symbole jeweils einem Vektor v mit $v \\in \\mathbb{R}^n$ zugeordnet werden.\n",
        "\n",
        "(Wikipeida [Worteinbettung](https://de.wikipedia.org/wiki/Worteinbettung))\n",
        "\n",
        "... Worteinbettung (Vektorisierung der Wörter) ermöglicht die Berechnung der Bedeutungen der Wörter in einem Kopus...\n",
        "\n",
        "__Illustration für Worteinbettung__\n",
        "\n",
        "<img src=\"https://upload.wikimedia.org/wikipedia/commons/3/3f/Word_vector_illustration.jpg\" width=\"400\" />\n",
        "\n",
        "(Word vector illustration.jpg by Singerep, aus [Wikimedia Commons](https://commons.wikimedia.org/wiki/File:Word_vector_illustration.jpg) CC-SA)\n",
        "\n",
        "\n",
        "\n",
        "Die Embedding kann nicht nur Wörtern sondern auch Sätze/Text-Einheiten unterzogen werden.\n",
        "\n",
        "\n",
        "\n",
        "Was wir hier in diesem Beispiel machen, sieht so aus:\n",
        "\n",
        "\n",
        "\n",
        "<img src=\"https://nbtkmy.github.io/presentations/coffee_lectures/chatgpt_embedding.png\" alt=\"embedding\" width=\"400\"/>\n",
        "\n",
        "\n",
        "## Beispiel\n",
        "\n",
        "\n",
        "Als Beispiel nehmen wir das PDF-Dokument vom 1. Bericht der ZB.\n",
        "\n",
        "__Titel__: 1. Bericht der Zentralbibliothek Zürich (Öffentliche Stiftung) über die Jahre 1914-1917\n",
        "\n",
        "__Urheber__: Zentralbibliothek Zürich\n",
        "\n",
        "\n",
        "__Link__: https://doi.org/10.20384/zop-1421\n",
        "\n",
        "\n",
        "![zb](https://zop.zb.uzh.ch/retrieve/e7ca61c6-c25b-407e-b0f0-d401efa961f5/990019340740205508-0001.pdf.jpg)\n",
        "\n",
        "\n",
        "\n"
      ],
      "metadata": {
        "id": "_zX6QhDM8jWV"
      }
    },
    {
      "cell_type": "code",
      "execution_count": null,
      "metadata": {
        "colab": {
          "base_uri": "https://localhost:8080/"
        },
        "id": "mDLkuMsruoNP",
        "outputId": "4a23d7d8-a98a-4dc8-8a23-48d4025602f9"
      },
      "outputs": [
        {
          "output_type": "stream",
          "name": "stdout",
          "text": [
            "\u001b[?25l     \u001b[90m━━━━━━━━━━━━━━━━━━━━━━━━━━━━━━━━━━━━━━━━\u001b[0m \u001b[32m0.0/76.5 kB\u001b[0m \u001b[31m?\u001b[0m eta \u001b[36m-:--:--\u001b[0m\r\u001b[2K     \u001b[90m━━━━━━━━━━━━━━━━━━━━━━━━━━━━━━━━━━━━━━━━\u001b[0m \u001b[32m76.5/76.5 kB\u001b[0m \u001b[31m2.4 MB/s\u001b[0m eta \u001b[36m0:00:00\u001b[0m\n",
            "\u001b[2K     \u001b[90m━━━━━━━━━━━━━━━━━━━━━━━━━━━━━━━━━━━━━━\u001b[0m \u001b[32m422.4/422.4 kB\u001b[0m \u001b[31m13.0 MB/s\u001b[0m eta \u001b[36m0:00:00\u001b[0m\n",
            "\u001b[2K     \u001b[90m━━━━━━━━━━━━━━━━━━━━━━━━━━━━━━━━━━━━━━━━\u001b[0m \u001b[32m1.7/1.7 MB\u001b[0m \u001b[31m51.5 MB/s\u001b[0m eta \u001b[36m0:00:00\u001b[0m\n",
            "\u001b[2K     \u001b[90m━━━━━━━━━━━━━━━━━━━━━━━━━━━━━━━━━━━━━━\u001b[0m \u001b[32m276.3/276.3 kB\u001b[0m \u001b[31m30.4 MB/s\u001b[0m eta \u001b[36m0:00:00\u001b[0m\n",
            "\u001b[2K     \u001b[90m━━━━━━━━━━━━━━━━━━━━━━━━━━━━━━━━━━━━━━━━\u001b[0m \u001b[32m2.0/2.0 MB\u001b[0m \u001b[31m94.0 MB/s\u001b[0m eta \u001b[36m0:00:00\u001b[0m\n",
            "\u001b[2K     \u001b[90m━━━━━━━━━━━━━━━━━━━━━━━━━━━━━━━━━━━━━━━━\u001b[0m \u001b[32m2.4/2.4 MB\u001b[0m \u001b[31m108.0 MB/s\u001b[0m eta \u001b[36m0:00:00\u001b[0m\n",
            "\u001b[2K     \u001b[90m━━━━━━━━━━━━━━━━━━━━━━━━━━━━━━━━━━━━━━━━\u001b[0m \u001b[32m58.4/58.4 kB\u001b[0m \u001b[31m6.8 MB/s\u001b[0m eta \u001b[36m0:00:00\u001b[0m\n",
            "\u001b[2K     \u001b[90m━━━━━━━━━━━━━━━━━━━━━━━━━━━━━━━━━━━━━━━━\u001b[0m \u001b[32m59.5/59.5 kB\u001b[0m \u001b[31m6.7 MB/s\u001b[0m eta \u001b[36m0:00:00\u001b[0m\n",
            "\u001b[2K     \u001b[90m━━━━━━━━━━━━━━━━━━━━━━━━━━━━━━━━━━━━━━━━\u001b[0m \u001b[32m5.4/5.4 MB\u001b[0m \u001b[31m120.4 MB/s\u001b[0m eta \u001b[36m0:00:00\u001b[0m\n",
            "\u001b[2K     \u001b[90m━━━━━━━━━━━━━━━━━━━━━━━━━━━━━━━━━━━━━━━━\u001b[0m \u001b[32m5.9/5.9 MB\u001b[0m \u001b[31m107.0 MB/s\u001b[0m eta \u001b[36m0:00:00\u001b[0m\n",
            "\u001b[2K     \u001b[90m━━━━━━━━━━━━━━━━━━━━━━━━━━━━━━━━━━━━━━━━\u001b[0m \u001b[32m3.8/3.8 MB\u001b[0m \u001b[31m107.9 MB/s\u001b[0m eta \u001b[36m0:00:00\u001b[0m\n",
            "\u001b[2K     \u001b[90m━━━━━━━━━━━━━━━━━━━━━━━━━━━━━━━━━━━━━━━━\u001b[0m \u001b[32m67.3/67.3 kB\u001b[0m \u001b[31m8.9 MB/s\u001b[0m eta \u001b[36m0:00:00\u001b[0m\n",
            "\u001b[?25h  Installing build dependencies ... \u001b[?25l\u001b[?25hdone\n",
            "  Getting requirements to build wheel ... \u001b[?25l\u001b[?25hdone\n",
            "  Preparing metadata (pyproject.toml) ... \u001b[?25l\u001b[?25hdone\n",
            "\u001b[2K     \u001b[90m━━━━━━━━━━━━━━━━━━━━━━━━━━━━━━━━━━━━━━\u001b[0m \u001b[32m593.7/593.7 kB\u001b[0m \u001b[31m44.4 MB/s\u001b[0m eta \u001b[36m0:00:00\u001b[0m\n",
            "\u001b[2K     \u001b[90m━━━━━━━━━━━━━━━━━━━━━━━━━━━━━━━━━━━━━━━━\u001b[0m \u001b[32m49.4/49.4 kB\u001b[0m \u001b[31m5.9 MB/s\u001b[0m eta \u001b[36m0:00:00\u001b[0m\n",
            "\u001b[2K     \u001b[90m━━━━━━━━━━━━━━━━━━━━━━━━━━━━━━━━━━━━━━━━\u001b[0m \u001b[32m67.0/67.0 kB\u001b[0m \u001b[31m6.4 MB/s\u001b[0m eta \u001b[36m0:00:00\u001b[0m\n",
            "\u001b[2K     \u001b[90m━━━━━━━━━━━━━━━━━━━━━━━━━━━━━━━━━━━━━━━━\u001b[0m \u001b[32m46.0/46.0 kB\u001b[0m \u001b[31m5.1 MB/s\u001b[0m eta \u001b[36m0:00:00\u001b[0m\n",
            "\u001b[2K     \u001b[90m━━━━━━━━━━━━━━━━━━━━━━━━━━━━━━━━━━━━━━\u001b[0m \u001b[32m268.8/268.8 kB\u001b[0m \u001b[31m25.4 MB/s\u001b[0m eta \u001b[36m0:00:00\u001b[0m\n",
            "\u001b[2K     \u001b[90m━━━━━━━━━━━━━━━━━━━━━━━━━━━━━━━━━━━━━━━━\u001b[0m \u001b[32m58.3/58.3 kB\u001b[0m \u001b[31m6.6 MB/s\u001b[0m eta \u001b[36m0:00:00\u001b[0m\n",
            "\u001b[2K     \u001b[90m━━━━━━━━━━━━━━━━━━━━━━━━━━━━━━━━━━━━━━\u001b[0m \u001b[32m428.8/428.8 kB\u001b[0m \u001b[31m41.2 MB/s\u001b[0m eta \u001b[36m0:00:00\u001b[0m\n",
            "\u001b[2K     \u001b[90m━━━━━━━━━━━━━━━━━━━━━━━━━━━━━━━━━━━━━━━━\u001b[0m \u001b[32m4.1/4.1 MB\u001b[0m \u001b[31m87.4 MB/s\u001b[0m eta \u001b[36m0:00:00\u001b[0m\n",
            "\u001b[2K     \u001b[90m━━━━━━━━━━━━━━━━━━━━━━━━━━━━━━━━━━━━━━━━\u001b[0m \u001b[32m1.3/1.3 MB\u001b[0m \u001b[31m88.8 MB/s\u001b[0m eta \u001b[36m0:00:00\u001b[0m\n",
            "\u001b[2K     \u001b[90m━━━━━━━━━━━━━━━━━━━━━━━━━━━━━━━━━━━━━━\u001b[0m \u001b[32m129.9/129.9 kB\u001b[0m \u001b[31m16.0 MB/s\u001b[0m eta \u001b[36m0:00:00\u001b[0m\n",
            "\u001b[2K     \u001b[90m━━━━━━━━━━━━━━━━━━━━━━━━━━━━━━━━━━━━━━━━\u001b[0m \u001b[32m86.8/86.8 kB\u001b[0m \u001b[31m11.4 MB/s\u001b[0m eta \u001b[36m0:00:00\u001b[0m\n",
            "\u001b[?25h  Building wheel for pypika (pyproject.toml) ... \u001b[?25l\u001b[?25hdone\n"
          ]
        }
      ],
      "source": [
        "# Libraries installieren - Wir verwenden hier Langchain\n",
        "!pip install -q openai chromadb langchain pypdf tiktoken"
      ]
    },
    {
      "cell_type": "code",
      "source": [
        "import os\n",
        "import platform\n",
        "\n",
        "import openai\n",
        "import chromadb\n",
        "import langchain\n",
        "\n",
        "from langchain.embeddings.openai import OpenAIEmbeddings\n",
        "from langchain.vectorstores import Chroma\n",
        "from langchain.text_splitter import CharacterTextSplitter\n",
        "from langchain.chat_models import ChatOpenAI\n",
        "from langchain.chains import ConversationalRetrievalChain\n",
        "from langchain.document_loaders import PyPDFLoader\n"
      ],
      "metadata": {
        "id": "jseSMJ_d2CPV"
      },
      "execution_count": null,
      "outputs": []
    },
    {
      "cell_type": "code",
      "source": [
        "# PDF-Dokument nach der Seite trennen (man kann auch andere Einheit auswählen)\n",
        "loader = PyPDFLoader(\"./zb_1914_1917.pdf\")\n",
        "pages = loader.load_and_split()\n",
        "# Seite 5 anzeigen\n",
        "pages[10].page_content"
      ],
      "metadata": {
        "colab": {
          "base_uri": "https://localhost:8080/",
          "height": 191
        },
        "id": "J7BDCzAR2Gcb",
        "outputId": "d1248d7e-d930-4af5-805f-233944c1c5ab"
      },
      "execution_count": null,
      "outputs": [
        {
          "output_type": "execute_result",
          "data": {
            "text/plain": [
              "'— —\\nMit der Murforschenden Gesellschuft war, abgesehen von\\nciner Abredeé betreffend die Pensionsverhältnisse ihres Ab-—\\nwartes, die Frage der aus Zeitschrifteon und Einzelwerken\\nbeſtehenden Deposita zuregeln, die eine Reihe von In—\\ntuten der beiden Hochschulen aus der Bibliothek zustän-\\ndigem Gebrauch bezogen hatten und weéeiterhin zubéhalten\\nwünschten. Die Zentralbibliothek erklärte sich bereit, diese\\nDeposita anzuerkennen inder Meinung, dab ihr das Recht\\nzustehe, siejederzeit zuKontrollieren und allfällis von anderer\\nSeite verlangte Bände vorũbergehend zurückzuziehen oder\\nderen Durchsicht dureh diebetreffenden Interessenten amDepo-\\nitionsort zuverlangen. Der Umfang dieser Deposita, die von\\nder Zentralbibliothek einer genauen Bestandesaufnahme unter-\\nzogen wurden, beträgt gegenwärtig 3850 Bände, wozu noch\\n773 alsDeposita der ehemaligen Kantonsbibliothek kommen.\\nPin veiteres Verhandlungspunkt betreffend dieUnterbringung\\ndesGeésellschaftsarchiys und desStocks derPublikationen wurde\\ndahin erledigt, dass dieZentralbibliothek derNaturforschenden\\nGesellſschaft einkleines Archivlokal imDachgeschob des Ver—\\nwaltungsbaus einrichtete und dieLagerbestände derPublikatio-\\nnen gegen eine jährliche Entschädigung inihre Vervaltung\\nübernahbm.\\nBei deruristischenm Blbliomeſigesellscuuft lürten sich die\\nVerhaltnisse erstimSommer 1916 ab. Die Gesellschaft übergab\\njre Bibliothet auf den 1.Januar 1917 derZentralbibliothek.\\nSie selbst bleibt fortbestehen mit dem Zwecke, die Zentral-\\npibüothek bei derAnschaffung juristischer Literatur zusub⸗\\nventionieren.\\nDer bis anhin imHelmbaus aufgestellte alphabetische\\nZ_α_ιιαοον var von Anfang alseine Vorarbeit fürdie\\nZentralbibliothek geplant. Seine Debernahme dureh diese stand\\nalso grundsätzlich von jeher fest. Tatsuchliech erfolgte sieschon\\nror Bestellung der neuen Veérvaltung, imMai 1915. Die\\nStadtbibliothele führte diefür den Ausbau des Kataloges noch\\nnotwendigen Arbeiten biszum eéigenen Uebergang veiter und,'"
            ],
            "application/vnd.google.colaboratory.intrinsic+json": {
              "type": "string"
            }
          },
          "metadata": {},
          "execution_count": 4
        }
      ]
    },
    {
      "cell_type": "code",
      "source": [
        "os.environ[\"OPENAI_API_KEY\"] = \"\"\n",
        "openai.api_key = os.getenv(\"OPENAI_API_KEY\")\n",
        "llm = ChatOpenAI(temperature=0, model_name=\"gpt-3.5-turbo\")"
      ],
      "metadata": {
        "id": "LfUzRb_Z2SXa"
      },
      "execution_count": null,
      "outputs": []
    },
    {
      "cell_type": "code",
      "source": [
        "# Wenn kein Modell hier genannt, dann wird \"text-embedding-ada-002\" genommen.\n",
        "# Chroma wird hier als Vector Store verwendet\n",
        "embeddings = OpenAIEmbeddings()\n",
        "vectorstore = Chroma.from_documents(pages, embedding=embeddings, persist_directory=\".\")\n",
        "vectorstore.persist()"
      ],
      "metadata": {
        "id": "xPABZCpj2Yz1"
      },
      "execution_count": null,
      "outputs": []
    },
    {
      "cell_type": "code",
      "source": [
        "pdf_qa = ConversationalRetrievalChain.from_llm(llm, vectorstore.as_retriever(), return_source_documents=True)\n"
      ],
      "metadata": {
        "id": "fAJLl4PE2li1"
      },
      "execution_count": null,
      "outputs": []
    },
    {
      "cell_type": "code",
      "source": [
        "query = \"Wer ist Escher?\"\n",
        "chat_history = []\n",
        "\n",
        "result = pdf_qa({\"question\": query, \"chat_history\": chat_history})\n",
        "\n",
        "result[\"answer\"]"
      ],
      "metadata": {
        "colab": {
          "base_uri": "https://localhost:8080/",
          "height": 35
        },
        "id": "8AuyxVf_2lVx",
        "outputId": "d32a0c00-d360-4c82-dee5-7e5ef9823441"
      },
      "execution_count": null,
      "outputs": [
        {
          "output_type": "execute_result",
          "data": {
            "text/plain": [
              "'Escher ist Dr. Hermann Escher, der Direktor der Bibliothek.'"
            ],
            "application/vnd.google.colaboratory.intrinsic+json": {
              "type": "string"
            }
          },
          "metadata": {},
          "execution_count": 10
        }
      ]
    },
    {
      "cell_type": "code",
      "source": [
        "result[\"source_documents\"]"
      ],
      "metadata": {
        "colab": {
          "base_uri": "https://localhost:8080/"
        },
        "id": "AyPAAdVM2zJP",
        "outputId": "df6ca41c-0dfe-4af0-9325-832e13bb4689"
      },
      "execution_count": null,
      "outputs": [
        {
          "output_type": "execute_result",
          "data": {
            "text/plain": [
              "[Document(page_content='Bibliothekkommission:\\nHerren Reégierungsrat Dr. Heinr. Mousson (Präsident),\\nStadtpräsident Hans Nägeli (Vizepräsident), Prof. Dr —\\nCloetta, Prof. Dr. Aug. Pgger, Prof. Dr. Fritz Bleiner, Stadtrat\\nDr.Emil Rlöti, Prof. Dr.Gerold Meyer vonKnonau, Prof. Dr.\\nMartin Rikli, Prof. Dr. Férd. Rudio, Prof. Dr. Hans Schinz,\\nOberst Pduard Usteri-Pestalozzi, Rektor Dr.Wilhelm vonVyb,\\nDr.Hermann Escher (Aktuar), Dr.Hans Barth Erotokollfũhrer).\\nAusschuſ:\\nHerren Mousson (Präsident), Nägeli (Vizepräsident), Egger,\\nv.WMyb, Escher, Barth.\\nRechnungskommission:\\nHerren Usteri (Präsident), Prof. Dr. G.Bachmann, Nat-\\nRat. John 82.\\nKommission fürdieStiftung Schnyder von Martensee:\\nHerren Stadtpräsident Hans NJägeli (Präsident), Dr.Her-\\nmann Escher (Aktuar), Prof. Dr. G.Meyer von Knonau, Prof.\\nDr. Hans Schinz, Oberst E.Usteri-Pestalozzi.\\nNaturwissenschaftliche Subhkommission:\\nHerren Prof. Dr. Albert Heine (Präsident); Rektor Dr.\\nE.Bobhard, Prof. Dr. O.Schröter.\\npersonal:\\n)Mit voller Beschüfligumq:\\nDirektor: Dr. Hermann Escher; Bibliothekare: Dr. Hans\\nBarth (zugleich Stellvertreter desDirektors), Dr. Felix Burck-\\nhardt, Dr.Heinr. Weber, Dr. Jak. WMeérner; Dr.Bruno Hirzel;\\nSekretäüre: EBugen Frei, Viktor Wirz; Ernst Bachmann, Florian\\nDanuser, Dr. Else Gutknecht, Dr. Helen Wildi); Bibliothek-\\ngehülfen: Martin Held, Clara Michel; Bibliothekabwärte: Hans,\\nHeinr. Koch, Franz Schutzbach, Heinr. Wüest; Abwartsgehülfe:\\nJoseph Grob?); Kleiderhüterin: Elis. Meyer-Ribary.\\n)mit besonderer Abrede:\\nDr. Ernst Gagliardi, Arth. Bueb, Rud. Diener, Julie Koch- —\\nHindermann, Elise Schnéebeli, Rosa Schutzbach-Leiser.\\n)Neu gewahlt auf 1.Oktober 1918.\\n29)Indiêser Eigenschaft seit 1.Januar 10918.\\n   \\n ——————————————', metadata={'page': 1, 'source': './zb_1914_1917.pdf'}),\n",
              " Document(page_content='— 3—\\njährigen Bearbeiter Herru Prof. Dr.P.Schweizer zurSeite trat.\\nAuf éine imDezember 1913 ausgegangene naturwissen-\\nschaftliche Preisausschreibung über das Dickenwachstum der\\nBäume gingen auf den 30.September 1916 rechtzeitig zwei\\nLösungen ein, diebeide vom Preéisgeéricht, bestehend aus den\\nHerren Prof. Dr. R.CQhodat inGenf, Prof. Dr. A.Ernst in\\nZürich und Prof. Dr. M.Büsgen inHannoversch-Gmünden\\neines Hauptpreises fürwürdig eérachtet wurden. Der ausgesetzte\\nHauptpreis wurde deshalb, unter angemessener Erhöhung, von\\nderKommission hälftig den beiden Verfassern zugewiesen, als\\nwelche sich ergaben dieHeérren Prof. Dr.P.Jaccard und Prok.\\nA.Engler, beide von der Eidg. Techn. Hochschule. Die Zu-\\nerkennung zweier Hauptpreise z708 die Drucklegung beider\\nArbeiten nach sich, was sich umsoeher rechtfertigte, alsbeide\\neinander zweckmäbig ergänzten. Die eine Arbeit istinzwischen\\nerschienen, dieandere inVorbereitung.\\nAls neue Publikation wurde eéine Arbeit des Heérrn Dr.E.\\nGagliardi, betitelt „Der Anteéil derSchweizer andenitalienischen\\nRriegen 1494 -1516* entgegengenommen. Auch sievird erst\\nimJahre 1918 ausgehen.\\nAricii, I.August 1918.\\nDie Bibliothekleitung:\\nHermann Escher.\\nGenehmigt\\nArich, 5.August 1918.\\nDer Präsident der Bibßbothekkommission:\\nDr. H.Mousson, Reégierungsrat.', metadata={'page': 32, 'source': './zb_1914_1917.pdf'}),\n",
              " Document(page_content='ZentralbibliothekZurt—\\noekfentliche Stittungg\\necccenDruck von Aschmann &Scheller\\n* 2', metadata={'page': 0, 'source': './zb_1914_1917.pdf'}),\n",
              " Document(page_content=\"— —0—\\nhaltsbetreffnis fürAnschaffungen staatswissenschaftlicher Natur;\\nHerr Dr. M.Schindler-Escher inNeuhausen den Betrag von\\nFr.500.-zum Ankauf einer Anzahbl schöner Blätter mitAn-\\nsichten des Rheinfalls; Fräulein Anna Dorothea Bruderer in\\nLausanne éin Zürcher Gesangbuch von 1709 inkunstvollem\\nMetalleinband; Herr Gebhard Guyer eine grobe Zahl von\\nWerken aus verschiedenen Wissensgebieten, insbesondere über\\nPalästina; Herr O.O.Köppern inMädenswil zwei wertvolle\\nTafelwerke: Jdisegni della R.Galleria degli Uffizi inFirenze und\\nP.d'Ancona: Laminiatura fiorentina; Frau S.Landolt-Mousson\\neine Anzahl Goldmünzen; einungenannt sein wollender Freund\\nimJahre 1916 éeine Anzahl von Froschauerdrucken, dieunsere\\nSammlung von Zürcherdrucken aus dem 416.Jahrhundert be-\\nreicherten, und im Jahr 1917 das monumentale Werk von\\nWilpert über dierömischen Mosaiken und Malereien derkirch-\\nlichen Bauten vom 4.bis 13.Jahrhundert.\\nUmfangreichere und wertyollere Büchergaben verdanken\\nwvir auberdem der Museumsgesellschaft, derBuchhandlung der\\nEvangelischen Gesellschaft inZürich, dem Papyrusfonds der\\nUniversität, denErben von Herrn Hans Sübtrunk und Fräulein\\nEmma Süßtrunk und denen des Herrn L.Weéelti inLausanne,\\nFrau Deéekan Bölsterli inLichtensteig, Frau Meyer-Rieter und\\nFrau Oberst U.Meister, sowie den Herren Dr.H.Bertschinger,\\nDr. Carl Escher, Dr. G.Finsler inBasel, Prof. Dr.B.Fuéter,\\nProf. Dr.J.Gaule, Dr.A.Gebner inAarau, Dr.H.Gogarten,\\nDr. F.Horner, Prof. Dr. A.Kägi, Gotth. Lessing inMese—\\nberg beiGrausen, Dr. A.Moser.\\nFür Zusendung ihrer Verlagsartikel haben wir vornebmlich\\nden Firmen F.Amberger, Béer, &Co., Orell Fübli, Rascher\\n&OCo., Schultheb &Co. zudanken, ebenso zahlreichen hiesigen\\nZeitungs- und Zeitschriften-Redaktionen und -⸗Expeéditionen für\\ndiebetr. Journale.\\nIm übrigen bedachten uns mit Geschenken eine grobe\\nZahl weiterer Geber, wobei wir umVachsicht bitten, wenn\\nwir sieausGründen derPapiernot nicht namentlich aufführen.\\nUnseres angelegentlichen Dankes bitten wir sietrotzdem ver—\", metadata={'page': 19, 'source': './zb_1914_1917.pdf'})]"
            ]
          },
          "metadata": {},
          "execution_count": 11
        }
      ]
    }
  ]
}