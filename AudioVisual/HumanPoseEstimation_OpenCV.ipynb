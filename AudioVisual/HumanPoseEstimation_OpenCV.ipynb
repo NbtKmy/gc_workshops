{
  "nbformat": 4,
  "nbformat_minor": 0,
  "metadata": {
    "colab": {
      "provenance": [],
      "gpuType": "T4",
      "authorship_tag": "ABX9TyPCC+96DsFD/0QIQ0KeyY2Q",
      "include_colab_link": true
    },
    "kernelspec": {
      "name": "python3",
      "display_name": "Python 3"
    },
    "language_info": {
      "name": "python"
    },
    "gpuClass": "standard"
  },
  "cells": [
    {
      "cell_type": "markdown",
      "metadata": {
        "id": "view-in-github",
        "colab_type": "text"
      },
      "source": [
        "<a href=\"https://colab.research.google.com/github/NbtKmy/gc_workshops/blob/main/HumanPoseEstimation_OpenCV.ipynb\" target=\"_parent\"><img src=\"https://colab.research.google.com/assets/colab-badge.svg\" alt=\"Open In Colab\"/></a>"
      ]
    },
    {
      "cell_type": "markdown",
      "source": [
        "# Human Pose Estimation mit OpenCV\n",
        "\n",
        "\n",
        "https://github.com/spmallick/learnopencv/tree/master\n",
        "Darunter \"OpenPose\"\n",
        "\n",
        "https://learnopencv.com/deep-learning-based-human-pose-estimation-using-opencv-cpp-python/"
      ],
      "metadata": {
        "id": "X6RpCMCQ76rA"
      }
    },
    {
      "cell_type": "code",
      "execution_count": null,
      "metadata": {
        "id": "WZ89gz0F7tCB"
      },
      "outputs": [],
      "source": [
        "from google.colab import drive\n",
        "drive.mount(\"/content/drive/\")\n",
        "\n",
        "!rm -rf \"/content/pose\"\n",
        "%cd \"content\"\n",
        "!mkdir -p \"/pose/mpi\"\n",
        "!wget https://raw.githubusercontent.com/spmallick/learnopencv/master/OpenPose/pose/mpi/pose_deploy_linevec.prototxt -P /content/pose/mpi\n",
        "!wget https://raw.githubusercontent.com/spmallick/learnopencv/master/OpenPose/pose/mpi/pose_deploy_linevec_faster_4_stages.prototxt -P /content/pose/mpi\n",
        "# Nur MPI model verwenden\n",
        "!wget -c https://www.dropbox.com/s/drumc6dzllfed16/pose_iter_160000.caffemodel -P /content/pose/mpi"
      ]
    },
    {
      "cell_type": "code",
      "source": [
        "!pip install opencv-python numpy"
      ],
      "metadata": {
        "id": "-rzombxBCmJA"
      },
      "execution_count": null,
      "outputs": []
    },
    {
      "cell_type": "markdown",
      "source": [
        "## Pose Estimation für Bild"
      ],
      "metadata": {
        "id": "Q5i5gMCSplmU"
      }
    },
    {
      "cell_type": "markdown",
      "source": [
        "## Pose Estimation für Video\n"
      ],
      "metadata": {
        "id": "Or59vR91pcNs"
      }
    },
    {
      "cell_type": "code",
      "source": [
        "import cv2\n",
        "import time\n",
        "import numpy as np \n",
        "\n",
        "protoFile = \"pose/mpi/pose_deploy_linevec_faster_4_stages.prototxt\"\n",
        "weightsFile = \"pose/mpi/pose_iter_160000.caffemodel\"\n",
        "nPoints = 15\n",
        "POSE_PAIRS = [[0,1], [1,2], [2,3], [3,4], [1,5], [5,6], [6,7], [1,14], [14,8], [8,9], [9,10], [14,11], [11,12], [12,13]]\n",
        "\n",
        "inWidth = 368\n",
        "inHeight = 368\n",
        "threshold = 0.1\n",
        "\n",
        "from google.colab import files\n",
        "uploaded = files.upload()\n",
        "input_source = next(iter(uploaded))\n",
        "\n",
        "cap = cv2.VideoCapture(input_source)\n",
        "hasFrame, frame = cap.read()\n",
        "\n"
      ],
      "metadata": {
        "id": "PX8jHM9yCp64"
      },
      "execution_count": null,
      "outputs": []
    },
    {
      "cell_type": "markdown",
      "source": [
        "## Prozessor CPU oder GPU\n",
        "\n",
        "Mit CPU dauert die Analyse etwa 3-4 Sekunden pro Frame. Mit GPU 1.5 bis 2 Sekunden.\n",
        "\n",
        "Weil das Sample-Video 30 Frame per Sec. hat, dauert die Analyse ca 105 Sekunden für eine 1 Sekunde Video-Sequenz (bei CPU). \n",
        "Wenn das Test-Video 10 Sekunden lang ist, dauert die Analyse insgesamt ca. 18 min.\n"
      ],
      "metadata": {
        "id": "8PyxJwgqcTnF"
      }
    },
    {
      "cell_type": "code",
      "source": [
        "vid_writer = cv2.VideoWriter('output.avi',cv2.VideoWriter_fourcc('M','J','P','G'), 10, (frame.shape[1],frame.shape[0]))\n",
        "\n",
        "net = cv2.dnn.readNetFromCaffe(protoFile, weightsFile)\n",
        "\n",
        "# use CPU\n",
        "net.setPreferableBackend(cv2.dnn.DNN_TARGET_CPU)\n",
        "\n",
        "# Use GPU\n",
        "# net.setPreferableBackend(cv2.dnn.DNN_BACKEND_CUDA)\n",
        "# net.setPreferableTarget(cv2.dnn.DNN_TARGET_CUDA)\n"
      ],
      "metadata": {
        "id": "VtdWXdKkDKff"
      },
      "execution_count": null,
      "outputs": []
    },
    {
      "cell_type": "code",
      "source": [
        "while True:\n",
        "    t = time.time()\n",
        "    hasFrame, frame = cap.read()\n",
        "   \n",
        "    frameCopy = np.copy(frame)\n",
        "    if not hasFrame:\n",
        "        break\n",
        "\n",
        "    frameWidth = frame.shape[1]\n",
        "    frameHeight = frame.shape[0]\n",
        "\n",
        "    inpBlob = cv2.dnn.blobFromImage(frame, 1.0 / 255, (inWidth, inHeight),\n",
        "                              (0, 0, 0), swapRB=False, crop=False)\n",
        "    net.setInput(inpBlob)\n",
        "    output = net.forward()\n",
        "\n",
        "    H = output.shape[2]\n",
        "    W = output.shape[3]\n",
        "    # Empty list to store the detected keypoints\n",
        "    points = []\n",
        "\n",
        "    for i in range(nPoints):\n",
        "        # confidence map of corresponding body's part.\n",
        "        probMap = output[0, i, :, :]\n",
        "\n",
        "        # Find global maxima of the probMap.\n",
        "        minVal, prob, minLoc, point = cv2.minMaxLoc(probMap)\n",
        "        \n",
        "        # Scale the point to fit on the original image\n",
        "        x = (frameWidth * point[0]) / W\n",
        "        y = (frameHeight * point[1]) / H\n",
        "\n",
        "        if prob > threshold : \n",
        "            cv2.circle(frameCopy, (int(x), int(y)), 8, (0, 255, 255), thickness=-1, lineType=cv2.FILLED)\n",
        "            cv2.putText(frameCopy, \"{}\".format(i), (int(x), int(y)), cv2.FONT_HERSHEY_SIMPLEX, 1, (0, 0, 255), 2, lineType=cv2.LINE_AA)\n",
        "\n",
        "            # Add the point to the list if the probability is greater than the threshold\n",
        "            points.append((int(x), int(y)))\n",
        "        else :\n",
        "            points.append(None)\n",
        "\n",
        "    # Draw Skeleton\n",
        "    for pair in POSE_PAIRS:\n",
        "        partA = pair[0]\n",
        "        partB = pair[1]\n",
        "\n",
        "        if points[partA] and points[partB]:\n",
        "            cv2.line(frame, points[partA], points[partB], (0, 255, 255), 3, lineType=cv2.LINE_AA)\n",
        "            cv2.circle(frame, points[partA], 8, (0, 0, 255), thickness=-1, lineType=cv2.FILLED)\n",
        "            cv2.circle(frame, points[partB], 8, (0, 0, 255), thickness=-1, lineType=cv2.FILLED)\n",
        "\n",
        "    cv2.putText(frame, \"time taken = {:.2f} sec\".format(time.time() - t), (50, 50), cv2.FONT_HERSHEY_COMPLEX, .8, (255, 50, 0), 2, lineType=cv2.LINE_AA)\n",
        "   \n",
        "    vid_writer.write(frame)\n",
        "\n",
        "vid_writer.release()"
      ],
      "metadata": {
        "id": "vJhx_no1FZww"
      },
      "execution_count": null,
      "outputs": []
    },
    {
      "cell_type": "markdown",
      "source": [
        "## Video Analyse ..."
      ],
      "metadata": {
        "id": "5eW6xwvyrHRG"
      }
    },
    {
      "cell_type": "code",
      "source": [
        "from IPython.display import YouTubeVideo\n",
        "\n",
        "YOUTUBE_ID = 'zGVfSRfybnI'\n",
        "\n",
        "\n",
        "YouTubeVideo(YOUTUBE_ID)"
      ],
      "metadata": {
        "id": "edNmh3kXqwVe"
      },
      "execution_count": null,
      "outputs": []
    },
    {
      "cell_type": "code",
      "source": [
        "!pip install yt-dlp"
      ],
      "metadata": {
        "id": "o_BjKhUntYmH"
      },
      "execution_count": null,
      "outputs": []
    },
    {
      "cell_type": "code",
      "source": [
        "from yt_dlp import YoutubeDL\n",
        "\n",
        "!rm youtube.mp4\n",
        "\n",
        "option = {\n",
        "        \"outtmpl\" : \"youtube.%(ext)s\",\n",
        "        \"format\" : \"best[ext=mp4]\"\n",
        "    }\n",
        "\n",
        "ydl = YoutubeDL(option)\n",
        "yt_link = \"https://www.youtube.com/watch?v=\" + YOUTUBE_ID\n",
        "result = ydl.download([yt_link])"
      ],
      "metadata": {
        "id": "9mQpsrgAtouw"
      },
      "execution_count": null,
      "outputs": []
    },
    {
      "cell_type": "code",
      "source": [
        "\n",
        "# Ausschnitt 5 Sekunden aus dem Video nehmen\n",
        "!ffmpeg -y -loglevel info -i youtube.mp4 -ss 00:00:37.0 -t 5 video.mp4\n",
        "\n",
        "import cv2\n",
        "import time\n",
        "import numpy as np \n",
        "\n",
        "protoFile = \"pose/mpi/pose_deploy_linevec_faster_4_stages.prototxt\"\n",
        "weightsFile = \"pose/mpi/pose_iter_160000.caffemodel\"\n",
        "nPoints = 15\n",
        "POSE_PAIRS = [[0,1], [1,2], [2,3], [3,4], [1,5], [5,6], [6,7], [1,14], [14,8], [8,9], [9,10], [14,11], [11,12], [12,13]]\n",
        "\n",
        "inWidth = 368\n",
        "inHeight = 368\n",
        "threshold = 0.1\n",
        "\n",
        "cap = cv2.VideoCapture(\"video.mp4\")\n",
        "hasFrame, frame = cap.read()"
      ],
      "metadata": {
        "id": "Er0dhDIdrL9g"
      },
      "execution_count": null,
      "outputs": []
    },
    {
      "cell_type": "code",
      "source": [
        "vid_writer = cv2.VideoWriter('output_fromYT.avi',cv2.VideoWriter_fourcc('M','J','P','G'), 10, (frame.shape[1],frame.shape[0]))\n",
        "\n",
        "net = cv2.dnn.readNetFromCaffe(protoFile, weightsFile)\n",
        "\n",
        "# use CPU\n",
        "net.setPreferableBackend(cv2.dnn.DNN_TARGET_CPU)"
      ],
      "metadata": {
        "id": "5xr0-XbAsV0g"
      },
      "execution_count": null,
      "outputs": []
    },
    {
      "cell_type": "code",
      "source": [
        "while True:\n",
        "    t = time.time()\n",
        "    hasFrame, frame = cap.read()\n",
        "   \n",
        "    frameCopy = np.copy(frame)\n",
        "    if not hasFrame:\n",
        "        break\n",
        "\n",
        "    frameWidth = frame.shape[1]\n",
        "    frameHeight = frame.shape[0]\n",
        "\n",
        "    inpBlob = cv2.dnn.blobFromImage(frame, 1.0 / 255, (inWidth, inHeight),\n",
        "                              (0, 0, 0), swapRB=False, crop=False)\n",
        "    net.setInput(inpBlob)\n",
        "    output = net.forward()\n",
        "\n",
        "    H = output.shape[2]\n",
        "    W = output.shape[3]\n",
        "    # Empty list to store the detected keypoints\n",
        "    points = []\n",
        "\n",
        "    for i in range(nPoints):\n",
        "        # confidence map of corresponding body's part.\n",
        "        probMap = output[0, i, :, :]\n",
        "\n",
        "        # Find global maxima of the probMap.\n",
        "        minVal, prob, minLoc, point = cv2.minMaxLoc(probMap)\n",
        "        \n",
        "        # Scale the point to fit on the original image\n",
        "        x = (frameWidth * point[0]) / W\n",
        "        y = (frameHeight * point[1]) / H\n",
        "\n",
        "        if prob > threshold : \n",
        "            cv2.circle(frameCopy, (int(x), int(y)), 8, (0, 255, 255), thickness=-1, lineType=cv2.FILLED)\n",
        "            cv2.putText(frameCopy, \"{}\".format(i), (int(x), int(y)), cv2.FONT_HERSHEY_SIMPLEX, 1, (0, 0, 255), 2, lineType=cv2.LINE_AA)\n",
        "\n",
        "            # Add the point to the list if the probability is greater than the threshold\n",
        "            points.append((int(x), int(y)))\n",
        "        else :\n",
        "            points.append(None)\n",
        "\n",
        "    # Draw Skeleton\n",
        "    for pair in POSE_PAIRS:\n",
        "        partA = pair[0]\n",
        "        partB = pair[1]\n",
        "\n",
        "        if points[partA] and points[partB]:\n",
        "            cv2.line(frame, points[partA], points[partB], (0, 255, 255), 3, lineType=cv2.LINE_AA)\n",
        "            cv2.circle(frame, points[partA], 8, (0, 0, 255), thickness=-1, lineType=cv2.FILLED)\n",
        "            cv2.circle(frame, points[partB], 8, (0, 0, 255), thickness=-1, lineType=cv2.FILLED)\n",
        "\n",
        "    cv2.putText(frame, \"time taken = {:.2f} sec\".format(time.time() - t), (50, 50), cv2.FONT_HERSHEY_COMPLEX, .8, (255, 50, 0), 2, lineType=cv2.LINE_AA)\n",
        "   \n",
        "    vid_writer.write(frame)\n",
        "\n",
        "vid_writer.release()"
      ],
      "metadata": {
        "id": "EC757mUKseGH"
      },
      "execution_count": null,
      "outputs": []
    }
  ]
}